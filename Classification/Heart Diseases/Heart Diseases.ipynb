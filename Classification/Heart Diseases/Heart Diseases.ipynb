{
 "cells": [
  {
   "cell_type": "code",
   "execution_count": 1,
   "id": "a533d915-0a2c-4f55-9d48-52800bb1c392",
   "metadata": {},
   "outputs": [],
   "source": [
    "import pandas as pd\n",
    "from sklearn.model_selection import train_test_split\n",
    "from sklearn.linear_model import LogisticRegression\n",
    "from sklearn.tree import DecisionTreeClassifier\n",
    "from sklearn.ensemble import RandomForestClassifier\n",
    "from sklearn.neighbors import KNeighborsClassifier\n",
    "import matplotlib.pyplot as plt\n",
    "import seaborn\n",
    "from category_encoders import OneHotEncoder\n",
    "from sklearn.pipeline import make_pipeline\n",
    "from sklearn.preprocessing import StandardScaler, OneHotEncoder\n",
    "from sklearn.compose import ColumnTransformer\n",
    "from sklearn.metrics import classification_report, confusion_matrix, ConfusionMatrixDisplay, accuracy_score"
   ]
  },
  {
   "cell_type": "code",
   "execution_count": 2,
   "id": "db41a21f-c6ab-43e4-8cce-31bffeadea00",
   "metadata": {},
   "outputs": [
    {
     "data": {
      "text/html": [
       "<div>\n",
       "<style scoped>\n",
       "    .dataframe tbody tr th:only-of-type {\n",
       "        vertical-align: middle;\n",
       "    }\n",
       "\n",
       "    .dataframe tbody tr th {\n",
       "        vertical-align: top;\n",
       "    }\n",
       "\n",
       "    .dataframe thead th {\n",
       "        text-align: right;\n",
       "    }\n",
       "</style>\n",
       "<table border=\"1\" class=\"dataframe\">\n",
       "  <thead>\n",
       "    <tr style=\"text-align: right;\">\n",
       "      <th></th>\n",
       "      <th>age</th>\n",
       "      <th>sex</th>\n",
       "      <th>dataset</th>\n",
       "      <th>cp</th>\n",
       "      <th>trestbps</th>\n",
       "      <th>chol</th>\n",
       "      <th>fbs</th>\n",
       "      <th>restecg</th>\n",
       "      <th>thalch</th>\n",
       "      <th>exang</th>\n",
       "      <th>oldpeak</th>\n",
       "      <th>slope</th>\n",
       "      <th>ca</th>\n",
       "      <th>thal</th>\n",
       "      <th>num</th>\n",
       "    </tr>\n",
       "    <tr>\n",
       "      <th>id</th>\n",
       "      <th></th>\n",
       "      <th></th>\n",
       "      <th></th>\n",
       "      <th></th>\n",
       "      <th></th>\n",
       "      <th></th>\n",
       "      <th></th>\n",
       "      <th></th>\n",
       "      <th></th>\n",
       "      <th></th>\n",
       "      <th></th>\n",
       "      <th></th>\n",
       "      <th></th>\n",
       "      <th></th>\n",
       "      <th></th>\n",
       "    </tr>\n",
       "  </thead>\n",
       "  <tbody>\n",
       "    <tr>\n",
       "      <th>1</th>\n",
       "      <td>63</td>\n",
       "      <td>Male</td>\n",
       "      <td>Cleveland</td>\n",
       "      <td>typical angina</td>\n",
       "      <td>145.0</td>\n",
       "      <td>233.0</td>\n",
       "      <td>True</td>\n",
       "      <td>lv hypertrophy</td>\n",
       "      <td>150.0</td>\n",
       "      <td>False</td>\n",
       "      <td>2.3</td>\n",
       "      <td>downsloping</td>\n",
       "      <td>0.0</td>\n",
       "      <td>fixed defect</td>\n",
       "      <td>0</td>\n",
       "    </tr>\n",
       "    <tr>\n",
       "      <th>2</th>\n",
       "      <td>67</td>\n",
       "      <td>Male</td>\n",
       "      <td>Cleveland</td>\n",
       "      <td>asymptomatic</td>\n",
       "      <td>160.0</td>\n",
       "      <td>286.0</td>\n",
       "      <td>False</td>\n",
       "      <td>lv hypertrophy</td>\n",
       "      <td>108.0</td>\n",
       "      <td>True</td>\n",
       "      <td>1.5</td>\n",
       "      <td>flat</td>\n",
       "      <td>3.0</td>\n",
       "      <td>normal</td>\n",
       "      <td>2</td>\n",
       "    </tr>\n",
       "    <tr>\n",
       "      <th>3</th>\n",
       "      <td>67</td>\n",
       "      <td>Male</td>\n",
       "      <td>Cleveland</td>\n",
       "      <td>asymptomatic</td>\n",
       "      <td>120.0</td>\n",
       "      <td>229.0</td>\n",
       "      <td>False</td>\n",
       "      <td>lv hypertrophy</td>\n",
       "      <td>129.0</td>\n",
       "      <td>True</td>\n",
       "      <td>2.6</td>\n",
       "      <td>flat</td>\n",
       "      <td>2.0</td>\n",
       "      <td>reversable defect</td>\n",
       "      <td>1</td>\n",
       "    </tr>\n",
       "    <tr>\n",
       "      <th>4</th>\n",
       "      <td>37</td>\n",
       "      <td>Male</td>\n",
       "      <td>Cleveland</td>\n",
       "      <td>non-anginal</td>\n",
       "      <td>130.0</td>\n",
       "      <td>250.0</td>\n",
       "      <td>False</td>\n",
       "      <td>normal</td>\n",
       "      <td>187.0</td>\n",
       "      <td>False</td>\n",
       "      <td>3.5</td>\n",
       "      <td>downsloping</td>\n",
       "      <td>0.0</td>\n",
       "      <td>normal</td>\n",
       "      <td>0</td>\n",
       "    </tr>\n",
       "    <tr>\n",
       "      <th>5</th>\n",
       "      <td>41</td>\n",
       "      <td>Female</td>\n",
       "      <td>Cleveland</td>\n",
       "      <td>atypical angina</td>\n",
       "      <td>130.0</td>\n",
       "      <td>204.0</td>\n",
       "      <td>False</td>\n",
       "      <td>lv hypertrophy</td>\n",
       "      <td>172.0</td>\n",
       "      <td>False</td>\n",
       "      <td>1.4</td>\n",
       "      <td>upsloping</td>\n",
       "      <td>0.0</td>\n",
       "      <td>normal</td>\n",
       "      <td>0</td>\n",
       "    </tr>\n",
       "  </tbody>\n",
       "</table>\n",
       "</div>"
      ],
      "text/plain": [
       "    age     sex    dataset               cp  trestbps   chol    fbs  \\\n",
       "id                                                                    \n",
       "1    63    Male  Cleveland   typical angina     145.0  233.0   True   \n",
       "2    67    Male  Cleveland     asymptomatic     160.0  286.0  False   \n",
       "3    67    Male  Cleveland     asymptomatic     120.0  229.0  False   \n",
       "4    37    Male  Cleveland      non-anginal     130.0  250.0  False   \n",
       "5    41  Female  Cleveland  atypical angina     130.0  204.0  False   \n",
       "\n",
       "           restecg  thalch  exang  oldpeak        slope   ca  \\\n",
       "id                                                             \n",
       "1   lv hypertrophy   150.0  False      2.3  downsloping  0.0   \n",
       "2   lv hypertrophy   108.0   True      1.5         flat  3.0   \n",
       "3   lv hypertrophy   129.0   True      2.6         flat  2.0   \n",
       "4           normal   187.0  False      3.5  downsloping  0.0   \n",
       "5   lv hypertrophy   172.0  False      1.4    upsloping  0.0   \n",
       "\n",
       "                 thal  num  \n",
       "id                          \n",
       "1        fixed defect    0  \n",
       "2              normal    2  \n",
       "3   reversable defect    1  \n",
       "4              normal    0  \n",
       "5              normal    0  "
      ]
     },
     "execution_count": 2,
     "metadata": {},
     "output_type": "execute_result"
    }
   ],
   "source": [
    "df = pd.read_csv(\"data/heart_disease_uci.csv\").set_index(\"id\")\n",
    "df.head()"
   ]
  },
  {
   "cell_type": "code",
   "execution_count": 3,
   "id": "9f0a2e87-3fa9-48a6-b638-d3fe98b0e546",
   "metadata": {},
   "outputs": [
    {
     "data": {
      "text/plain": [
       "array(['Cleveland', 'Hungary', 'Switzerland', 'VA Long Beach'],\n",
       "      dtype=object)"
      ]
     },
     "execution_count": 3,
     "metadata": {},
     "output_type": "execute_result"
    }
   ],
   "source": [
    "df[\"dataset\"].unique()"
   ]
  },
  {
   "cell_type": "code",
   "execution_count": 4,
   "id": "299cc4fe-dcc7-483c-b174-b4a8139002b9",
   "metadata": {},
   "outputs": [
    {
     "name": "stdout",
     "output_type": "stream",
     "text": [
      "<class 'pandas.core.frame.DataFrame'>\n",
      "Index: 920 entries, 1 to 920\n",
      "Data columns (total 15 columns):\n",
      " #   Column    Non-Null Count  Dtype  \n",
      "---  ------    --------------  -----  \n",
      " 0   age       920 non-null    int64  \n",
      " 1   sex       920 non-null    object \n",
      " 2   dataset   920 non-null    object \n",
      " 3   cp        920 non-null    object \n",
      " 4   trestbps  861 non-null    float64\n",
      " 5   chol      890 non-null    float64\n",
      " 6   fbs       830 non-null    object \n",
      " 7   restecg   918 non-null    object \n",
      " 8   thalch    865 non-null    float64\n",
      " 9   exang     865 non-null    object \n",
      " 10  oldpeak   858 non-null    float64\n",
      " 11  slope     611 non-null    object \n",
      " 12  ca        309 non-null    float64\n",
      " 13  thal      434 non-null    object \n",
      " 14  num       920 non-null    int64  \n",
      "dtypes: float64(5), int64(2), object(8)\n",
      "memory usage: 115.0+ KB\n"
     ]
    }
   ],
   "source": [
    "df.info()"
   ]
  },
  {
   "cell_type": "code",
   "execution_count": 5,
   "id": "60bb01c9-c126-4235-b3d2-30bb28366559",
   "metadata": {},
   "outputs": [],
   "source": [
    "df.rename(columns = {\"dataset\":\"location\", \"cp\":\"chest pain\", \"trestbps\":\"resting blood pressure\", \"chol\":\"cholesterol\", \"fbs\":\"fasting blood sugar\",\n",
    "          \"restecg\":\"resting electrocardiographic results\", \"thalch\":\"maximum heart rate\", \"exang\":\"exercise-induced angina\", \"ca\":\"number of major vessels colored\",\n",
    "          \"num\":\"target\"}, inplace=True)"
   ]
  },
  {
   "cell_type": "code",
   "execution_count": 6,
   "id": "79f7ca91-beb5-4fe5-80a6-0b02b697e7bd",
   "metadata": {},
   "outputs": [
    {
     "data": {
      "text/html": [
       "<div>\n",
       "<style scoped>\n",
       "    .dataframe tbody tr th:only-of-type {\n",
       "        vertical-align: middle;\n",
       "    }\n",
       "\n",
       "    .dataframe tbody tr th {\n",
       "        vertical-align: top;\n",
       "    }\n",
       "\n",
       "    .dataframe thead th {\n",
       "        text-align: right;\n",
       "    }\n",
       "</style>\n",
       "<table border=\"1\" class=\"dataframe\">\n",
       "  <thead>\n",
       "    <tr style=\"text-align: right;\">\n",
       "      <th></th>\n",
       "      <th>age</th>\n",
       "      <th>sex</th>\n",
       "      <th>location</th>\n",
       "      <th>chest pain</th>\n",
       "      <th>resting blood pressure</th>\n",
       "      <th>cholesterol</th>\n",
       "      <th>fasting blood sugar</th>\n",
       "      <th>resting electrocardiographic results</th>\n",
       "      <th>maximum heart rate</th>\n",
       "      <th>exercise-induced angina</th>\n",
       "      <th>oldpeak</th>\n",
       "      <th>slope</th>\n",
       "      <th>number of major vessels colored</th>\n",
       "      <th>thal</th>\n",
       "      <th>target</th>\n",
       "    </tr>\n",
       "    <tr>\n",
       "      <th>id</th>\n",
       "      <th></th>\n",
       "      <th></th>\n",
       "      <th></th>\n",
       "      <th></th>\n",
       "      <th></th>\n",
       "      <th></th>\n",
       "      <th></th>\n",
       "      <th></th>\n",
       "      <th></th>\n",
       "      <th></th>\n",
       "      <th></th>\n",
       "      <th></th>\n",
       "      <th></th>\n",
       "      <th></th>\n",
       "      <th></th>\n",
       "    </tr>\n",
       "  </thead>\n",
       "  <tbody>\n",
       "    <tr>\n",
       "      <th>1</th>\n",
       "      <td>63</td>\n",
       "      <td>Male</td>\n",
       "      <td>Cleveland</td>\n",
       "      <td>typical angina</td>\n",
       "      <td>145.0</td>\n",
       "      <td>233.0</td>\n",
       "      <td>True</td>\n",
       "      <td>lv hypertrophy</td>\n",
       "      <td>150.0</td>\n",
       "      <td>False</td>\n",
       "      <td>2.3</td>\n",
       "      <td>downsloping</td>\n",
       "      <td>0.0</td>\n",
       "      <td>fixed defect</td>\n",
       "      <td>0</td>\n",
       "    </tr>\n",
       "    <tr>\n",
       "      <th>2</th>\n",
       "      <td>67</td>\n",
       "      <td>Male</td>\n",
       "      <td>Cleveland</td>\n",
       "      <td>asymptomatic</td>\n",
       "      <td>160.0</td>\n",
       "      <td>286.0</td>\n",
       "      <td>False</td>\n",
       "      <td>lv hypertrophy</td>\n",
       "      <td>108.0</td>\n",
       "      <td>True</td>\n",
       "      <td>1.5</td>\n",
       "      <td>flat</td>\n",
       "      <td>3.0</td>\n",
       "      <td>normal</td>\n",
       "      <td>2</td>\n",
       "    </tr>\n",
       "    <tr>\n",
       "      <th>3</th>\n",
       "      <td>67</td>\n",
       "      <td>Male</td>\n",
       "      <td>Cleveland</td>\n",
       "      <td>asymptomatic</td>\n",
       "      <td>120.0</td>\n",
       "      <td>229.0</td>\n",
       "      <td>False</td>\n",
       "      <td>lv hypertrophy</td>\n",
       "      <td>129.0</td>\n",
       "      <td>True</td>\n",
       "      <td>2.6</td>\n",
       "      <td>flat</td>\n",
       "      <td>2.0</td>\n",
       "      <td>reversable defect</td>\n",
       "      <td>1</td>\n",
       "    </tr>\n",
       "    <tr>\n",
       "      <th>4</th>\n",
       "      <td>37</td>\n",
       "      <td>Male</td>\n",
       "      <td>Cleveland</td>\n",
       "      <td>non-anginal</td>\n",
       "      <td>130.0</td>\n",
       "      <td>250.0</td>\n",
       "      <td>False</td>\n",
       "      <td>normal</td>\n",
       "      <td>187.0</td>\n",
       "      <td>False</td>\n",
       "      <td>3.5</td>\n",
       "      <td>downsloping</td>\n",
       "      <td>0.0</td>\n",
       "      <td>normal</td>\n",
       "      <td>0</td>\n",
       "    </tr>\n",
       "    <tr>\n",
       "      <th>5</th>\n",
       "      <td>41</td>\n",
       "      <td>Female</td>\n",
       "      <td>Cleveland</td>\n",
       "      <td>atypical angina</td>\n",
       "      <td>130.0</td>\n",
       "      <td>204.0</td>\n",
       "      <td>False</td>\n",
       "      <td>lv hypertrophy</td>\n",
       "      <td>172.0</td>\n",
       "      <td>False</td>\n",
       "      <td>1.4</td>\n",
       "      <td>upsloping</td>\n",
       "      <td>0.0</td>\n",
       "      <td>normal</td>\n",
       "      <td>0</td>\n",
       "    </tr>\n",
       "  </tbody>\n",
       "</table>\n",
       "</div>"
      ],
      "text/plain": [
       "    age     sex   location       chest pain  resting blood pressure  \\\n",
       "id                                                                    \n",
       "1    63    Male  Cleveland   typical angina                   145.0   \n",
       "2    67    Male  Cleveland     asymptomatic                   160.0   \n",
       "3    67    Male  Cleveland     asymptomatic                   120.0   \n",
       "4    37    Male  Cleveland      non-anginal                   130.0   \n",
       "5    41  Female  Cleveland  atypical angina                   130.0   \n",
       "\n",
       "    cholesterol fasting blood sugar resting electrocardiographic results  \\\n",
       "id                                                                         \n",
       "1         233.0                True                       lv hypertrophy   \n",
       "2         286.0               False                       lv hypertrophy   \n",
       "3         229.0               False                       lv hypertrophy   \n",
       "4         250.0               False                               normal   \n",
       "5         204.0               False                       lv hypertrophy   \n",
       "\n",
       "    maximum heart rate exercise-induced angina  oldpeak        slope  \\\n",
       "id                                                                     \n",
       "1                150.0                   False      2.3  downsloping   \n",
       "2                108.0                    True      1.5         flat   \n",
       "3                129.0                    True      2.6         flat   \n",
       "4                187.0                   False      3.5  downsloping   \n",
       "5                172.0                   False      1.4    upsloping   \n",
       "\n",
       "    number of major vessels colored               thal  target  \n",
       "id                                                              \n",
       "1                               0.0       fixed defect       0  \n",
       "2                               3.0             normal       2  \n",
       "3                               2.0  reversable defect       1  \n",
       "4                               0.0             normal       0  \n",
       "5                               0.0             normal       0  "
      ]
     },
     "execution_count": 6,
     "metadata": {},
     "output_type": "execute_result"
    }
   ],
   "source": [
    "df.head()"
   ]
  },
  {
   "cell_type": "code",
   "execution_count": 7,
   "id": "d370f50a-8c1b-4606-9fd2-07284c64b96f",
   "metadata": {},
   "outputs": [
    {
     "name": "stdout",
     "output_type": "stream",
     "text": [
      "<class 'pandas.core.frame.DataFrame'>\n",
      "Index: 920 entries, 1 to 920\n",
      "Data columns (total 15 columns):\n",
      " #   Column                                Non-Null Count  Dtype  \n",
      "---  ------                                --------------  -----  \n",
      " 0   age                                   920 non-null    int64  \n",
      " 1   sex                                   920 non-null    object \n",
      " 2   location                              920 non-null    object \n",
      " 3   chest pain                            920 non-null    object \n",
      " 4   resting blood pressure                861 non-null    float64\n",
      " 5   cholesterol                           890 non-null    float64\n",
      " 6   fasting blood sugar                   830 non-null    object \n",
      " 7   resting electrocardiographic results  918 non-null    object \n",
      " 8   maximum heart rate                    865 non-null    float64\n",
      " 9   exercise-induced angina               865 non-null    object \n",
      " 10  oldpeak                               858 non-null    float64\n",
      " 11  slope                                 611 non-null    object \n",
      " 12  number of major vessels colored       309 non-null    float64\n",
      " 13  thal                                  434 non-null    object \n",
      " 14  target                                920 non-null    int64  \n",
      "dtypes: float64(5), int64(2), object(8)\n",
      "memory usage: 115.0+ KB\n"
     ]
    }
   ],
   "source": [
    "df.info()"
   ]
  },
  {
   "cell_type": "code",
   "execution_count": 8,
   "id": "9d18f6a9-3826-4812-966d-fd04cc06fafc",
   "metadata": {},
   "outputs": [
    {
     "data": {
      "text/plain": [
       "array([ 0.,  3.,  2.,  1., nan])"
      ]
     },
     "execution_count": 8,
     "metadata": {},
     "output_type": "execute_result"
    }
   ],
   "source": [
    "df[\"number of major vessels colored\"].unique()"
   ]
  },
  {
   "cell_type": "code",
   "execution_count": 9,
   "id": "871ab0b4-7f0f-4392-a0c2-90a7940a4d92",
   "metadata": {},
   "outputs": [],
   "source": [
    "df[\"exercise-induced angina\"] = df[\"exercise-induced angina\"].astype(bool)\n",
    "df[\"fasting blood sugar\"] = df[\"fasting blood sugar\"].astype(bool)"
   ]
  },
  {
   "cell_type": "code",
   "execution_count": 10,
   "id": "ff8f622b-f6ec-483f-aaf4-76255d2bf742",
   "metadata": {},
   "outputs": [
    {
     "name": "stdout",
     "output_type": "stream",
     "text": [
      "<class 'pandas.core.frame.DataFrame'>\n",
      "Index: 920 entries, 1 to 920\n",
      "Data columns (total 15 columns):\n",
      " #   Column                                Non-Null Count  Dtype  \n",
      "---  ------                                --------------  -----  \n",
      " 0   age                                   920 non-null    int64  \n",
      " 1   sex                                   920 non-null    object \n",
      " 2   location                              920 non-null    object \n",
      " 3   chest pain                            920 non-null    object \n",
      " 4   resting blood pressure                861 non-null    float64\n",
      " 5   cholesterol                           890 non-null    float64\n",
      " 6   fasting blood sugar                   920 non-null    bool   \n",
      " 7   resting electrocardiographic results  918 non-null    object \n",
      " 8   maximum heart rate                    865 non-null    float64\n",
      " 9   exercise-induced angina               920 non-null    bool   \n",
      " 10  oldpeak                               858 non-null    float64\n",
      " 11  slope                                 611 non-null    object \n",
      " 12  number of major vessels colored       309 non-null    float64\n",
      " 13  thal                                  434 non-null    object \n",
      " 14  target                                920 non-null    int64  \n",
      "dtypes: bool(2), float64(5), int64(2), object(6)\n",
      "memory usage: 102.4+ KB\n"
     ]
    }
   ],
   "source": [
    "df.info()"
   ]
  },
  {
   "cell_type": "code",
   "execution_count": 11,
   "id": "99963030-122c-426e-a86f-9e46e5837a48",
   "metadata": {},
   "outputs": [
    {
     "data": {
      "text/plain": [
       "number of major vessels colored         611\n",
       "thal                                    486\n",
       "slope                                   309\n",
       "oldpeak                                  62\n",
       "resting blood pressure                   59\n",
       "maximum heart rate                       55\n",
       "cholesterol                              30\n",
       "resting electrocardiographic results      2\n",
       "dtype: int64"
      ]
     },
     "execution_count": 11,
     "metadata": {},
     "output_type": "execute_result"
    }
   ],
   "source": [
    "is_null = df.isnull().sum()\n",
    "is_null[is_null>0].sort_values(ascending=False)"
   ]
  },
  {
   "cell_type": "code",
   "execution_count": 12,
   "id": "9e4070df-57a3-418a-8b2b-dde0b2f63498",
   "metadata": {},
   "outputs": [],
   "source": [
    "df.drop(columns=[\"number of major vessels colored\", \"thal\"], inplace=True)"
   ]
  },
  {
   "cell_type": "code",
   "execution_count": 13,
   "id": "faf36e30-a59c-44cb-bc02-337c26f7f314",
   "metadata": {
    "scrolled": true
   },
   "outputs": [
    {
     "data": {
      "text/html": [
       "<div>\n",
       "<style scoped>\n",
       "    .dataframe tbody tr th:only-of-type {\n",
       "        vertical-align: middle;\n",
       "    }\n",
       "\n",
       "    .dataframe tbody tr th {\n",
       "        vertical-align: top;\n",
       "    }\n",
       "\n",
       "    .dataframe thead th {\n",
       "        text-align: right;\n",
       "    }\n",
       "</style>\n",
       "<table border=\"1\" class=\"dataframe\">\n",
       "  <thead>\n",
       "    <tr style=\"text-align: right;\">\n",
       "      <th></th>\n",
       "      <th>age</th>\n",
       "      <th>sex</th>\n",
       "      <th>location</th>\n",
       "      <th>chest pain</th>\n",
       "      <th>resting blood pressure</th>\n",
       "      <th>cholesterol</th>\n",
       "      <th>fasting blood sugar</th>\n",
       "      <th>resting electrocardiographic results</th>\n",
       "      <th>maximum heart rate</th>\n",
       "      <th>exercise-induced angina</th>\n",
       "      <th>oldpeak</th>\n",
       "      <th>slope</th>\n",
       "      <th>target</th>\n",
       "    </tr>\n",
       "    <tr>\n",
       "      <th>id</th>\n",
       "      <th></th>\n",
       "      <th></th>\n",
       "      <th></th>\n",
       "      <th></th>\n",
       "      <th></th>\n",
       "      <th></th>\n",
       "      <th></th>\n",
       "      <th></th>\n",
       "      <th></th>\n",
       "      <th></th>\n",
       "      <th></th>\n",
       "      <th></th>\n",
       "      <th></th>\n",
       "    </tr>\n",
       "  </thead>\n",
       "  <tbody>\n",
       "    <tr>\n",
       "      <th>1</th>\n",
       "      <td>63</td>\n",
       "      <td>Male</td>\n",
       "      <td>Cleveland</td>\n",
       "      <td>typical angina</td>\n",
       "      <td>145.0</td>\n",
       "      <td>233.0</td>\n",
       "      <td>True</td>\n",
       "      <td>lv hypertrophy</td>\n",
       "      <td>150.0</td>\n",
       "      <td>False</td>\n",
       "      <td>2.3</td>\n",
       "      <td>downsloping</td>\n",
       "      <td>0</td>\n",
       "    </tr>\n",
       "    <tr>\n",
       "      <th>2</th>\n",
       "      <td>67</td>\n",
       "      <td>Male</td>\n",
       "      <td>Cleveland</td>\n",
       "      <td>asymptomatic</td>\n",
       "      <td>160.0</td>\n",
       "      <td>286.0</td>\n",
       "      <td>False</td>\n",
       "      <td>lv hypertrophy</td>\n",
       "      <td>108.0</td>\n",
       "      <td>True</td>\n",
       "      <td>1.5</td>\n",
       "      <td>flat</td>\n",
       "      <td>2</td>\n",
       "    </tr>\n",
       "    <tr>\n",
       "      <th>3</th>\n",
       "      <td>67</td>\n",
       "      <td>Male</td>\n",
       "      <td>Cleveland</td>\n",
       "      <td>asymptomatic</td>\n",
       "      <td>120.0</td>\n",
       "      <td>229.0</td>\n",
       "      <td>False</td>\n",
       "      <td>lv hypertrophy</td>\n",
       "      <td>129.0</td>\n",
       "      <td>True</td>\n",
       "      <td>2.6</td>\n",
       "      <td>flat</td>\n",
       "      <td>1</td>\n",
       "    </tr>\n",
       "    <tr>\n",
       "      <th>4</th>\n",
       "      <td>37</td>\n",
       "      <td>Male</td>\n",
       "      <td>Cleveland</td>\n",
       "      <td>non-anginal</td>\n",
       "      <td>130.0</td>\n",
       "      <td>250.0</td>\n",
       "      <td>False</td>\n",
       "      <td>normal</td>\n",
       "      <td>187.0</td>\n",
       "      <td>False</td>\n",
       "      <td>3.5</td>\n",
       "      <td>downsloping</td>\n",
       "      <td>0</td>\n",
       "    </tr>\n",
       "    <tr>\n",
       "      <th>5</th>\n",
       "      <td>41</td>\n",
       "      <td>Female</td>\n",
       "      <td>Cleveland</td>\n",
       "      <td>atypical angina</td>\n",
       "      <td>130.0</td>\n",
       "      <td>204.0</td>\n",
       "      <td>False</td>\n",
       "      <td>lv hypertrophy</td>\n",
       "      <td>172.0</td>\n",
       "      <td>False</td>\n",
       "      <td>1.4</td>\n",
       "      <td>upsloping</td>\n",
       "      <td>0</td>\n",
       "    </tr>\n",
       "  </tbody>\n",
       "</table>\n",
       "</div>"
      ],
      "text/plain": [
       "    age     sex   location       chest pain  resting blood pressure  \\\n",
       "id                                                                    \n",
       "1    63    Male  Cleveland   typical angina                   145.0   \n",
       "2    67    Male  Cleveland     asymptomatic                   160.0   \n",
       "3    67    Male  Cleveland     asymptomatic                   120.0   \n",
       "4    37    Male  Cleveland      non-anginal                   130.0   \n",
       "5    41  Female  Cleveland  atypical angina                   130.0   \n",
       "\n",
       "    cholesterol  fasting blood sugar resting electrocardiographic results  \\\n",
       "id                                                                          \n",
       "1         233.0                 True                       lv hypertrophy   \n",
       "2         286.0                False                       lv hypertrophy   \n",
       "3         229.0                False                       lv hypertrophy   \n",
       "4         250.0                False                               normal   \n",
       "5         204.0                False                       lv hypertrophy   \n",
       "\n",
       "    maximum heart rate  exercise-induced angina  oldpeak        slope  target  \n",
       "id                                                                             \n",
       "1                150.0                    False      2.3  downsloping       0  \n",
       "2                108.0                     True      1.5         flat       2  \n",
       "3                129.0                     True      2.6         flat       1  \n",
       "4                187.0                    False      3.5  downsloping       0  \n",
       "5                172.0                    False      1.4    upsloping       0  "
      ]
     },
     "execution_count": 13,
     "metadata": {},
     "output_type": "execute_result"
    }
   ],
   "source": [
    "df.head()"
   ]
  },
  {
   "cell_type": "code",
   "execution_count": 14,
   "id": "fa2fea43-f5be-448e-b8d4-0be6491ed2ae",
   "metadata": {},
   "outputs": [
    {
     "data": {
      "text/plain": [
       "number of major vessels colored         611\n",
       "thal                                    486\n",
       "slope                                   309\n",
       "oldpeak                                  62\n",
       "resting blood pressure                   59\n",
       "maximum heart rate                       55\n",
       "cholesterol                              30\n",
       "resting electrocardiographic results      2\n",
       "dtype: int64"
      ]
     },
     "execution_count": 14,
     "metadata": {},
     "output_type": "execute_result"
    }
   ],
   "source": [
    "is_null[is_null>0].sort_values(ascending=False)"
   ]
  },
  {
   "cell_type": "code",
   "execution_count": 15,
   "id": "c5175496-3d46-4a4b-83ed-fc58d9d1cafa",
   "metadata": {},
   "outputs": [],
   "source": [
    "#sploe - missing category \n",
    "#oldpeak - median\n",
    "#rbp - median\n",
    "#mhr - median\n",
    "#chol - median\n",
    "#rer - mode\n",
    "\n",
    "med_cols = [\"oldpeak\", \"resting blood pressure\", \"maximum heart rate\", \"cholesterol\"]\n",
    "for col in med_cols:\n",
    "    df[col] = df[col].fillna(df[col].median())"
   ]
  },
  {
   "cell_type": "code",
   "execution_count": 16,
   "id": "4e6a9f9f-2fb7-4c1d-9000-e6a748e65999",
   "metadata": {},
   "outputs": [
    {
     "data": {
      "text/plain": [
       "number of major vessels colored         611\n",
       "thal                                    486\n",
       "slope                                   309\n",
       "oldpeak                                  62\n",
       "resting blood pressure                   59\n",
       "maximum heart rate                       55\n",
       "cholesterol                              30\n",
       "resting electrocardiographic results      2\n",
       "dtype: int64"
      ]
     },
     "execution_count": 16,
     "metadata": {},
     "output_type": "execute_result"
    }
   ],
   "source": [
    "is_null[is_null>0].sort_values(ascending=False)"
   ]
  },
  {
   "cell_type": "code",
   "execution_count": 17,
   "id": "1118bcf1-7529-446a-a5cb-89f5a88d9e84",
   "metadata": {},
   "outputs": [],
   "source": [
    "df[\"slope\"] = df[\"slope\"].fillna(df[\"slope\"].mode()[0])\n",
    "df[\"resting electrocardiographic results\"] = df[\"resting electrocardiographic results\"].fillna(df[\"resting electrocardiographic results\"].mode()[0])"
   ]
  },
  {
   "cell_type": "code",
   "execution_count": 18,
   "id": "aeeba890-097b-451d-8599-99641a8b4076",
   "metadata": {},
   "outputs": [
    {
     "data": {
      "text/html": [
       "<div>\n",
       "<style scoped>\n",
       "    .dataframe tbody tr th:only-of-type {\n",
       "        vertical-align: middle;\n",
       "    }\n",
       "\n",
       "    .dataframe tbody tr th {\n",
       "        vertical-align: top;\n",
       "    }\n",
       "\n",
       "    .dataframe thead th {\n",
       "        text-align: right;\n",
       "    }\n",
       "</style>\n",
       "<table border=\"1\" class=\"dataframe\">\n",
       "  <thead>\n",
       "    <tr style=\"text-align: right;\">\n",
       "      <th></th>\n",
       "      <th>age</th>\n",
       "      <th>sex</th>\n",
       "      <th>location</th>\n",
       "      <th>chest pain</th>\n",
       "      <th>resting blood pressure</th>\n",
       "      <th>cholesterol</th>\n",
       "      <th>fasting blood sugar</th>\n",
       "      <th>resting electrocardiographic results</th>\n",
       "      <th>maximum heart rate</th>\n",
       "      <th>exercise-induced angina</th>\n",
       "      <th>oldpeak</th>\n",
       "      <th>slope</th>\n",
       "      <th>target</th>\n",
       "    </tr>\n",
       "    <tr>\n",
       "      <th>id</th>\n",
       "      <th></th>\n",
       "      <th></th>\n",
       "      <th></th>\n",
       "      <th></th>\n",
       "      <th></th>\n",
       "      <th></th>\n",
       "      <th></th>\n",
       "      <th></th>\n",
       "      <th></th>\n",
       "      <th></th>\n",
       "      <th></th>\n",
       "      <th></th>\n",
       "      <th></th>\n",
       "    </tr>\n",
       "  </thead>\n",
       "  <tbody>\n",
       "    <tr>\n",
       "      <th>1</th>\n",
       "      <td>63</td>\n",
       "      <td>Male</td>\n",
       "      <td>Cleveland</td>\n",
       "      <td>typical angina</td>\n",
       "      <td>145.0</td>\n",
       "      <td>233.0</td>\n",
       "      <td>True</td>\n",
       "      <td>lv hypertrophy</td>\n",
       "      <td>150.0</td>\n",
       "      <td>False</td>\n",
       "      <td>2.3</td>\n",
       "      <td>downsloping</td>\n",
       "      <td>0</td>\n",
       "    </tr>\n",
       "    <tr>\n",
       "      <th>2</th>\n",
       "      <td>67</td>\n",
       "      <td>Male</td>\n",
       "      <td>Cleveland</td>\n",
       "      <td>asymptomatic</td>\n",
       "      <td>160.0</td>\n",
       "      <td>286.0</td>\n",
       "      <td>False</td>\n",
       "      <td>lv hypertrophy</td>\n",
       "      <td>108.0</td>\n",
       "      <td>True</td>\n",
       "      <td>1.5</td>\n",
       "      <td>flat</td>\n",
       "      <td>2</td>\n",
       "    </tr>\n",
       "    <tr>\n",
       "      <th>3</th>\n",
       "      <td>67</td>\n",
       "      <td>Male</td>\n",
       "      <td>Cleveland</td>\n",
       "      <td>asymptomatic</td>\n",
       "      <td>120.0</td>\n",
       "      <td>229.0</td>\n",
       "      <td>False</td>\n",
       "      <td>lv hypertrophy</td>\n",
       "      <td>129.0</td>\n",
       "      <td>True</td>\n",
       "      <td>2.6</td>\n",
       "      <td>flat</td>\n",
       "      <td>1</td>\n",
       "    </tr>\n",
       "    <tr>\n",
       "      <th>4</th>\n",
       "      <td>37</td>\n",
       "      <td>Male</td>\n",
       "      <td>Cleveland</td>\n",
       "      <td>non-anginal</td>\n",
       "      <td>130.0</td>\n",
       "      <td>250.0</td>\n",
       "      <td>False</td>\n",
       "      <td>normal</td>\n",
       "      <td>187.0</td>\n",
       "      <td>False</td>\n",
       "      <td>3.5</td>\n",
       "      <td>downsloping</td>\n",
       "      <td>0</td>\n",
       "    </tr>\n",
       "    <tr>\n",
       "      <th>5</th>\n",
       "      <td>41</td>\n",
       "      <td>Female</td>\n",
       "      <td>Cleveland</td>\n",
       "      <td>atypical angina</td>\n",
       "      <td>130.0</td>\n",
       "      <td>204.0</td>\n",
       "      <td>False</td>\n",
       "      <td>lv hypertrophy</td>\n",
       "      <td>172.0</td>\n",
       "      <td>False</td>\n",
       "      <td>1.4</td>\n",
       "      <td>upsloping</td>\n",
       "      <td>0</td>\n",
       "    </tr>\n",
       "  </tbody>\n",
       "</table>\n",
       "</div>"
      ],
      "text/plain": [
       "    age     sex   location       chest pain  resting blood pressure  \\\n",
       "id                                                                    \n",
       "1    63    Male  Cleveland   typical angina                   145.0   \n",
       "2    67    Male  Cleveland     asymptomatic                   160.0   \n",
       "3    67    Male  Cleveland     asymptomatic                   120.0   \n",
       "4    37    Male  Cleveland      non-anginal                   130.0   \n",
       "5    41  Female  Cleveland  atypical angina                   130.0   \n",
       "\n",
       "    cholesterol  fasting blood sugar resting electrocardiographic results  \\\n",
       "id                                                                          \n",
       "1         233.0                 True                       lv hypertrophy   \n",
       "2         286.0                False                       lv hypertrophy   \n",
       "3         229.0                False                       lv hypertrophy   \n",
       "4         250.0                False                               normal   \n",
       "5         204.0                False                       lv hypertrophy   \n",
       "\n",
       "    maximum heart rate  exercise-induced angina  oldpeak        slope  target  \n",
       "id                                                                             \n",
       "1                150.0                    False      2.3  downsloping       0  \n",
       "2                108.0                     True      1.5         flat       2  \n",
       "3                129.0                     True      2.6         flat       1  \n",
       "4                187.0                    False      3.5  downsloping       0  \n",
       "5                172.0                    False      1.4    upsloping       0  "
      ]
     },
     "execution_count": 18,
     "metadata": {},
     "output_type": "execute_result"
    }
   ],
   "source": [
    "df.head()"
   ]
  },
  {
   "cell_type": "code",
   "execution_count": 19,
   "id": "a6530066-2985-4d5a-84b6-592a8675ff17",
   "metadata": {},
   "outputs": [
    {
     "data": {
      "image/png": "[encoded data removed]",
      "text/plain": [
       "<Figure size 640x480 with 1 Axes>"
      ]
     },
     "metadata": {},
     "output_type": "display_data"
    }
   ],
   "source": [
    "df[\"age\"].plot(kind=\"hist\")\n",
    "\n",
    "plt.xlabel(\"Age\")\n",
    "plt.title(\"Age distribution\");"
   ]
  },
  {
   "cell_type": "code",
   "execution_count": 20,
   "id": "79628191-d4f6-49a2-af3f-e0ac7f55a2af",
   "metadata": {},
   "outputs": [
    {
     "data": {
      "text/plain": [
       "<Axes: xlabel='age'>"
      ]
     },
     "execution_count": 20,
     "metadata": {},
     "output_type": "execute_result"
    },
    {
     "data": {
      "image/png": "[encoded data removed]",
      "text/plain": [
       "<Figure size 640x480 with 1 Axes>"
      ]
     },
     "metadata": {},
     "output_type": "display_data"
    }
   ],
   "source": [
    "seaborn.boxplot(data=df, x=\"age\")"
   ]
  },
  {
   "cell_type": "code",
   "execution_count": 21,
   "id": "c0b0d477-6aa6-4644-98f1-9cb999675c59",
   "metadata": {},
   "outputs": [
    {
     "data": {
      "text/plain": [
       "count    920.000000\n",
       "mean      53.510870\n",
       "std        9.424685\n",
       "min       28.000000\n",
       "25%       47.000000\n",
       "50%       54.000000\n",
       "75%       60.000000\n",
       "max       77.000000\n",
       "Name: age, dtype: float64"
      ]
     },
     "execution_count": 21,
     "metadata": {},
     "output_type": "execute_result"
    }
   ],
   "source": [
    "df[\"age\"].describe()"
   ]
  },
  {
   "cell_type": "code",
   "execution_count": 22,
   "id": "d00cf652-d228-42a2-802e-11710f8e561a",
   "metadata": {},
   "outputs": [
    {
     "data": {
      "text/plain": [
       "sex\n",
       "Male      0.78913\n",
       "Female    0.21087\n",
       "Name: proportion, dtype: float64"
      ]
     },
     "execution_count": 22,
     "metadata": {},
     "output_type": "execute_result"
    }
   ],
   "source": [
    "df[\"sex\"].value_counts(normalize=True)"
   ]
  },
  {
   "cell_type": "code",
   "execution_count": 23,
   "id": "bbd87659-04c9-441c-9b00-7779123761dd",
   "metadata": {},
   "outputs": [
    {
     "data": {
      "text/plain": [
       "<Axes: xlabel='proportion', ylabel='sex'>"
      ]
     },
     "execution_count": 23,
     "metadata": {},
     "output_type": "execute_result"
    },
    {
     "data": {
      "image/png": "[encoded data removed]",
      "text/plain": [
       "<Figure size 640x480 with 1 Axes>"
      ]
     },
     "metadata": {},
     "output_type": "display_data"
    }
   ],
   "source": [
    "seaborn.barplot(data=df[\"sex\"].value_counts(normalize=True), orient=\"y\")"
   ]
  },
  {
   "cell_type": "code",
   "execution_count": 24,
   "id": "d0417010-3457-4861-bf09-70357dd5ff1b",
   "metadata": {},
   "outputs": [
    {
     "data": {
      "text/html": [
       "<div>\n",
       "<style scoped>\n",
       "    .dataframe tbody tr th:only-of-type {\n",
       "        vertical-align: middle;\n",
       "    }\n",
       "\n",
       "    .dataframe tbody tr th {\n",
       "        vertical-align: top;\n",
       "    }\n",
       "\n",
       "    .dataframe thead th {\n",
       "        text-align: right;\n",
       "    }\n",
       "</style>\n",
       "<table border=\"1\" class=\"dataframe\">\n",
       "  <thead>\n",
       "    <tr style=\"text-align: right;\">\n",
       "      <th></th>\n",
       "      <th>age</th>\n",
       "      <th>sex</th>\n",
       "      <th>location</th>\n",
       "      <th>chest pain</th>\n",
       "      <th>resting blood pressure</th>\n",
       "      <th>cholesterol</th>\n",
       "      <th>fasting blood sugar</th>\n",
       "      <th>resting electrocardiographic results</th>\n",
       "      <th>maximum heart rate</th>\n",
       "      <th>exercise-induced angina</th>\n",
       "      <th>oldpeak</th>\n",
       "      <th>slope</th>\n",
       "      <th>target</th>\n",
       "    </tr>\n",
       "    <tr>\n",
       "      <th>id</th>\n",
       "      <th></th>\n",
       "      <th></th>\n",
       "      <th></th>\n",
       "      <th></th>\n",
       "      <th></th>\n",
       "      <th></th>\n",
       "      <th></th>\n",
       "      <th></th>\n",
       "      <th></th>\n",
       "      <th></th>\n",
       "      <th></th>\n",
       "      <th></th>\n",
       "      <th></th>\n",
       "    </tr>\n",
       "  </thead>\n",
       "  <tbody>\n",
       "    <tr>\n",
       "      <th>1</th>\n",
       "      <td>63</td>\n",
       "      <td>Male</td>\n",
       "      <td>Cleveland</td>\n",
       "      <td>typical angina</td>\n",
       "      <td>145.0</td>\n",
       "      <td>233.0</td>\n",
       "      <td>True</td>\n",
       "      <td>lv hypertrophy</td>\n",
       "      <td>150.0</td>\n",
       "      <td>False</td>\n",
       "      <td>2.3</td>\n",
       "      <td>downsloping</td>\n",
       "      <td>0</td>\n",
       "    </tr>\n",
       "    <tr>\n",
       "      <th>2</th>\n",
       "      <td>67</td>\n",
       "      <td>Male</td>\n",
       "      <td>Cleveland</td>\n",
       "      <td>asymptomatic</td>\n",
       "      <td>160.0</td>\n",
       "      <td>286.0</td>\n",
       "      <td>False</td>\n",
       "      <td>lv hypertrophy</td>\n",
       "      <td>108.0</td>\n",
       "      <td>True</td>\n",
       "      <td>1.5</td>\n",
       "      <td>flat</td>\n",
       "      <td>2</td>\n",
       "    </tr>\n",
       "    <tr>\n",
       "      <th>3</th>\n",
       "      <td>67</td>\n",
       "      <td>Male</td>\n",
       "      <td>Cleveland</td>\n",
       "      <td>asymptomatic</td>\n",
       "      <td>120.0</td>\n",
       "      <td>229.0</td>\n",
       "      <td>False</td>\n",
       "      <td>lv hypertrophy</td>\n",
       "      <td>129.0</td>\n",
       "      <td>True</td>\n",
       "      <td>2.6</td>\n",
       "      <td>flat</td>\n",
       "      <td>1</td>\n",
       "    </tr>\n",
       "    <tr>\n",
       "      <th>4</th>\n",
       "      <td>37</td>\n",
       "      <td>Male</td>\n",
       "      <td>Cleveland</td>\n",
       "      <td>non-anginal</td>\n",
       "      <td>130.0</td>\n",
       "      <td>250.0</td>\n",
       "      <td>False</td>\n",
       "      <td>normal</td>\n",
       "      <td>187.0</td>\n",
       "      <td>False</td>\n",
       "      <td>3.5</td>\n",
       "      <td>downsloping</td>\n",
       "      <td>0</td>\n",
       "    </tr>\n",
       "    <tr>\n",
       "      <th>5</th>\n",
       "      <td>41</td>\n",
       "      <td>Female</td>\n",
       "      <td>Cleveland</td>\n",
       "      <td>atypical angina</td>\n",
       "      <td>130.0</td>\n",
       "      <td>204.0</td>\n",
       "      <td>False</td>\n",
       "      <td>lv hypertrophy</td>\n",
       "      <td>172.0</td>\n",
       "      <td>False</td>\n",
       "      <td>1.4</td>\n",
       "      <td>upsloping</td>\n",
       "      <td>0</td>\n",
       "    </tr>\n",
       "  </tbody>\n",
       "</table>\n",
       "</div>"
      ],
      "text/plain": [
       "    age     sex   location       chest pain  resting blood pressure  \\\n",
       "id                                                                    \n",
       "1    63    Male  Cleveland   typical angina                   145.0   \n",
       "2    67    Male  Cleveland     asymptomatic                   160.0   \n",
       "3    67    Male  Cleveland     asymptomatic                   120.0   \n",
       "4    37    Male  Cleveland      non-anginal                   130.0   \n",
       "5    41  Female  Cleveland  atypical angina                   130.0   \n",
       "\n",
       "    cholesterol  fasting blood sugar resting electrocardiographic results  \\\n",
       "id                                                                          \n",
       "1         233.0                 True                       lv hypertrophy   \n",
       "2         286.0                False                       lv hypertrophy   \n",
       "3         229.0                False                       lv hypertrophy   \n",
       "4         250.0                False                               normal   \n",
       "5         204.0                False                       lv hypertrophy   \n",
       "\n",
       "    maximum heart rate  exercise-induced angina  oldpeak        slope  target  \n",
       "id                                                                             \n",
       "1                150.0                    False      2.3  downsloping       0  \n",
       "2                108.0                     True      1.5         flat       2  \n",
       "3                129.0                     True      2.6         flat       1  \n",
       "4                187.0                    False      3.5  downsloping       0  \n",
       "5                172.0                    False      1.4    upsloping       0  "
      ]
     },
     "execution_count": 24,
     "metadata": {},
     "output_type": "execute_result"
    }
   ],
   "source": [
    "df.head()"
   ]
  },
  {
   "cell_type": "code",
   "execution_count": 25,
   "id": "f1c66579-fa14-4566-8e49-ffd93fd831fd",
   "metadata": {},
   "outputs": [
    {
     "data": {
      "text/html": [
       "<div>\n",
       "<style scoped>\n",
       "    .dataframe tbody tr th:only-of-type {\n",
       "        vertical-align: middle;\n",
       "    }\n",
       "\n",
       "    .dataframe tbody tr th {\n",
       "        vertical-align: top;\n",
       "    }\n",
       "\n",
       "    .dataframe thead th {\n",
       "        text-align: right;\n",
       "    }\n",
       "</style>\n",
       "<table border=\"1\" class=\"dataframe\">\n",
       "  <thead>\n",
       "    <tr style=\"text-align: right;\">\n",
       "      <th></th>\n",
       "      <th>age</th>\n",
       "      <th>resting blood pressure</th>\n",
       "      <th>cholesterol</th>\n",
       "      <th>maximum heart rate</th>\n",
       "    </tr>\n",
       "  </thead>\n",
       "  <tbody>\n",
       "    <tr>\n",
       "      <th>age</th>\n",
       "      <td>1.000000</td>\n",
       "      <td>0.230784</td>\n",
       "      <td>-0.086010</td>\n",
       "      <td>-0.349715</td>\n",
       "    </tr>\n",
       "    <tr>\n",
       "      <th>resting blood pressure</th>\n",
       "      <td>0.230784</td>\n",
       "      <td>1.000000</td>\n",
       "      <td>0.089484</td>\n",
       "      <td>-0.104747</td>\n",
       "    </tr>\n",
       "    <tr>\n",
       "      <th>cholesterol</th>\n",
       "      <td>-0.086010</td>\n",
       "      <td>0.089484</td>\n",
       "      <td>1.000000</td>\n",
       "      <td>0.226047</td>\n",
       "    </tr>\n",
       "    <tr>\n",
       "      <th>maximum heart rate</th>\n",
       "      <td>-0.349715</td>\n",
       "      <td>-0.104747</td>\n",
       "      <td>0.226047</td>\n",
       "      <td>1.000000</td>\n",
       "    </tr>\n",
       "  </tbody>\n",
       "</table>\n",
       "</div>"
      ],
      "text/plain": [
       "                             age  resting blood pressure  cholesterol  \\\n",
       "age                     1.000000                0.230784    -0.086010   \n",
       "resting blood pressure  0.230784                1.000000     0.089484   \n",
       "cholesterol            -0.086010                0.089484     1.000000   \n",
       "maximum heart rate     -0.349715               -0.104747     0.226047   \n",
       "\n",
       "                        maximum heart rate  \n",
       "age                              -0.349715  \n",
       "resting blood pressure           -0.104747  \n",
       "cholesterol                       0.226047  \n",
       "maximum heart rate                1.000000  "
      ]
     },
     "execution_count": 25,
     "metadata": {},
     "output_type": "execute_result"
    }
   ],
   "source": [
    "df_corr = df[[\"age\", \"resting blood pressure\", \"cholesterol\", \"maximum heart rate\"]]\n",
    "df_corr.corr()"
   ]
  },
  {
   "cell_type": "code",
   "execution_count": 26,
   "id": "fdde5d6f-2835-4ac2-95e5-5b054625cb57",
   "metadata": {},
   "outputs": [
    {
     "data": {
      "text/html": [
       "<div>\n",
       "<style scoped>\n",
       "    .dataframe tbody tr th:only-of-type {\n",
       "        vertical-align: middle;\n",
       "    }\n",
       "\n",
       "    .dataframe tbody tr th {\n",
       "        vertical-align: top;\n",
       "    }\n",
       "\n",
       "    .dataframe thead th {\n",
       "        text-align: right;\n",
       "    }\n",
       "</style>\n",
       "<table border=\"1\" class=\"dataframe\">\n",
       "  <thead>\n",
       "    <tr style=\"text-align: right;\">\n",
       "      <th></th>\n",
       "      <th>resting blood pressure</th>\n",
       "      <th>exercise-induced angina</th>\n",
       "      <th>cholesterol</th>\n",
       "    </tr>\n",
       "  </thead>\n",
       "  <tbody>\n",
       "    <tr>\n",
       "      <th>resting blood pressure</th>\n",
       "      <td>1.000000</td>\n",
       "      <td>0.136798</td>\n",
       "      <td>0.089484</td>\n",
       "    </tr>\n",
       "    <tr>\n",
       "      <th>exercise-induced angina</th>\n",
       "      <td>0.136798</td>\n",
       "      <td>1.000000</td>\n",
       "      <td>-0.035018</td>\n",
       "    </tr>\n",
       "    <tr>\n",
       "      <th>cholesterol</th>\n",
       "      <td>0.089484</td>\n",
       "      <td>-0.035018</td>\n",
       "      <td>1.000000</td>\n",
       "    </tr>\n",
       "  </tbody>\n",
       "</table>\n",
       "</div>"
      ],
      "text/plain": [
       "                         resting blood pressure  exercise-induced angina  \\\n",
       "resting blood pressure                 1.000000                 0.136798   \n",
       "exercise-induced angina                0.136798                 1.000000   \n",
       "cholesterol                            0.089484                -0.035018   \n",
       "\n",
       "                         cholesterol  \n",
       "resting blood pressure      0.089484  \n",
       "exercise-induced angina    -0.035018  \n",
       "cholesterol                 1.000000  "
      ]
     },
     "execution_count": 26,
     "metadata": {},
     "output_type": "execute_result"
    }
   ],
   "source": [
    "df[[\"resting blood pressure\", \"exercise-induced angina\", \"cholesterol\"]].corr()"
   ]
  },
  {
   "cell_type": "code",
   "execution_count": 27,
   "id": "cbd42b91-f557-4ca1-a22c-a7633579ad7b",
   "metadata": {},
   "outputs": [
    {
     "data": {
      "text/html": [
       "<div>\n",
       "<style scoped>\n",
       "    .dataframe tbody tr th:only-of-type {\n",
       "        vertical-align: middle;\n",
       "    }\n",
       "\n",
       "    .dataframe tbody tr th {\n",
       "        vertical-align: top;\n",
       "    }\n",
       "\n",
       "    .dataframe thead th {\n",
       "        text-align: right;\n",
       "    }\n",
       "</style>\n",
       "<table border=\"1\" class=\"dataframe\">\n",
       "  <thead>\n",
       "    <tr style=\"text-align: right;\">\n",
       "      <th></th>\n",
       "      <th>fasting blood sugar</th>\n",
       "    </tr>\n",
       "    <tr>\n",
       "      <th>sex</th>\n",
       "      <th></th>\n",
       "    </tr>\n",
       "  </thead>\n",
       "  <tbody>\n",
       "    <tr>\n",
       "      <th>Female</th>\n",
       "      <td>194</td>\n",
       "    </tr>\n",
       "    <tr>\n",
       "      <th>Male</th>\n",
       "      <td>726</td>\n",
       "    </tr>\n",
       "  </tbody>\n",
       "</table>\n",
       "</div>"
      ],
      "text/plain": [
       "        fasting blood sugar\n",
       "sex                        \n",
       "Female                  194\n",
       "Male                    726"
      ]
     },
     "execution_count": 27,
     "metadata": {},
     "output_type": "execute_result"
    }
   ],
   "source": [
    "df.groupby(\"sex\").aggregate({\"fasting blood sugar\":\"count\"})"
   ]
  },
  {
   "cell_type": "code",
   "execution_count": 29,
   "id": "a4e0e3da-c280-4b6b-aa5f-bf2f4d2ca594",
   "metadata": {},
   "outputs": [],
   "source": [
    "grouped = df.groupby([\"target\", \"sex\"]).size().unstack()"
   ]
  },
  {
   "cell_type": "code",
   "execution_count": 30,
   "id": "e92f43b5-0a01-47ce-b653-d6262d64ce91",
   "metadata": {},
   "outputs": [
    {
     "data": {
      "image/png": "[encoded data removed]",
      "text/plain": [
       "<Figure size 640x480 with 1 Axes>"
      ]
     },
     "metadata": {},
     "output_type": "display_data"
    }
   ],
   "source": [
    "import seaborn as sns\n",
    "\n",
    "# Reshape the DataFrame for seaborn\n",
    "grouped_reset = grouped.reset_index().melt(id_vars='target', value_name='count')\n",
    "\n",
    "# Plot\n",
    "sns.barplot(data=grouped_reset, x='target', y='count', hue='sex')\n",
    "plt.title('Count of Sex per Target Class')\n",
    "plt.xlabel('Heart Disease (Target)')\n",
    "plt.ylabel('Count')\n",
    "plt.show()\n"
   ]
  },
  {
   "cell_type": "code",
   "execution_count": 31,
   "id": "1eeef023-f1ea-43b2-b756-e27071a1d551",
   "metadata": {},
   "outputs": [
    {
     "data": {
      "text/html": [
       "<div>\n",
       "<style scoped>\n",
       "    .dataframe tbody tr th:only-of-type {\n",
       "        vertical-align: middle;\n",
       "    }\n",
       "\n",
       "    .dataframe tbody tr th {\n",
       "        vertical-align: top;\n",
       "    }\n",
       "\n",
       "    .dataframe thead th {\n",
       "        text-align: right;\n",
       "    }\n",
       "</style>\n",
       "<table border=\"1\" class=\"dataframe\">\n",
       "  <thead>\n",
       "    <tr style=\"text-align: right;\">\n",
       "      <th></th>\n",
       "      <th>age</th>\n",
       "      <th>sex</th>\n",
       "      <th>location</th>\n",
       "      <th>chest pain</th>\n",
       "      <th>resting blood pressure</th>\n",
       "      <th>cholesterol</th>\n",
       "      <th>fasting blood sugar</th>\n",
       "      <th>resting electrocardiographic results</th>\n",
       "      <th>maximum heart rate</th>\n",
       "      <th>exercise-induced angina</th>\n",
       "      <th>oldpeak</th>\n",
       "      <th>slope</th>\n",
       "      <th>target</th>\n",
       "    </tr>\n",
       "    <tr>\n",
       "      <th>id</th>\n",
       "      <th></th>\n",
       "      <th></th>\n",
       "      <th></th>\n",
       "      <th></th>\n",
       "      <th></th>\n",
       "      <th></th>\n",
       "      <th></th>\n",
       "      <th></th>\n",
       "      <th></th>\n",
       "      <th></th>\n",
       "      <th></th>\n",
       "      <th></th>\n",
       "      <th></th>\n",
       "    </tr>\n",
       "  </thead>\n",
       "  <tbody>\n",
       "    <tr>\n",
       "      <th>1</th>\n",
       "      <td>63</td>\n",
       "      <td>Male</td>\n",
       "      <td>Cleveland</td>\n",
       "      <td>typical angina</td>\n",
       "      <td>145.0</td>\n",
       "      <td>233.0</td>\n",
       "      <td>True</td>\n",
       "      <td>lv hypertrophy</td>\n",
       "      <td>150.0</td>\n",
       "      <td>False</td>\n",
       "      <td>2.3</td>\n",
       "      <td>downsloping</td>\n",
       "      <td>0</td>\n",
       "    </tr>\n",
       "    <tr>\n",
       "      <th>2</th>\n",
       "      <td>67</td>\n",
       "      <td>Male</td>\n",
       "      <td>Cleveland</td>\n",
       "      <td>asymptomatic</td>\n",
       "      <td>160.0</td>\n",
       "      <td>286.0</td>\n",
       "      <td>False</td>\n",
       "      <td>lv hypertrophy</td>\n",
       "      <td>108.0</td>\n",
       "      <td>True</td>\n",
       "      <td>1.5</td>\n",
       "      <td>flat</td>\n",
       "      <td>2</td>\n",
       "    </tr>\n",
       "    <tr>\n",
       "      <th>3</th>\n",
       "      <td>67</td>\n",
       "      <td>Male</td>\n",
       "      <td>Cleveland</td>\n",
       "      <td>asymptomatic</td>\n",
       "      <td>120.0</td>\n",
       "      <td>229.0</td>\n",
       "      <td>False</td>\n",
       "      <td>lv hypertrophy</td>\n",
       "      <td>129.0</td>\n",
       "      <td>True</td>\n",
       "      <td>2.6</td>\n",
       "      <td>flat</td>\n",
       "      <td>1</td>\n",
       "    </tr>\n",
       "    <tr>\n",
       "      <th>4</th>\n",
       "      <td>37</td>\n",
       "      <td>Male</td>\n",
       "      <td>Cleveland</td>\n",
       "      <td>non-anginal</td>\n",
       "      <td>130.0</td>\n",
       "      <td>250.0</td>\n",
       "      <td>False</td>\n",
       "      <td>normal</td>\n",
       "      <td>187.0</td>\n",
       "      <td>False</td>\n",
       "      <td>3.5</td>\n",
       "      <td>downsloping</td>\n",
       "      <td>0</td>\n",
       "    </tr>\n",
       "    <tr>\n",
       "      <th>5</th>\n",
       "      <td>41</td>\n",
       "      <td>Female</td>\n",
       "      <td>Cleveland</td>\n",
       "      <td>atypical angina</td>\n",
       "      <td>130.0</td>\n",
       "      <td>204.0</td>\n",
       "      <td>False</td>\n",
       "      <td>lv hypertrophy</td>\n",
       "      <td>172.0</td>\n",
       "      <td>False</td>\n",
       "      <td>1.4</td>\n",
       "      <td>upsloping</td>\n",
       "      <td>0</td>\n",
       "    </tr>\n",
       "  </tbody>\n",
       "</table>\n",
       "</div>"
      ],
      "text/plain": [
       "    age     sex   location       chest pain  resting blood pressure  \\\n",
       "id                                                                    \n",
       "1    63    Male  Cleveland   typical angina                   145.0   \n",
       "2    67    Male  Cleveland     asymptomatic                   160.0   \n",
       "3    67    Male  Cleveland     asymptomatic                   120.0   \n",
       "4    37    Male  Cleveland      non-anginal                   130.0   \n",
       "5    41  Female  Cleveland  atypical angina                   130.0   \n",
       "\n",
       "    cholesterol  fasting blood sugar resting electrocardiographic results  \\\n",
       "id                                                                          \n",
       "1         233.0                 True                       lv hypertrophy   \n",
       "2         286.0                False                       lv hypertrophy   \n",
       "3         229.0                False                       lv hypertrophy   \n",
       "4         250.0                False                               normal   \n",
       "5         204.0                False                       lv hypertrophy   \n",
       "\n",
       "    maximum heart rate  exercise-induced angina  oldpeak        slope  target  \n",
       "id                                                                             \n",
       "1                150.0                    False      2.3  downsloping       0  \n",
       "2                108.0                     True      1.5         flat       2  \n",
       "3                129.0                     True      2.6         flat       1  \n",
       "4                187.0                    False      3.5  downsloping       0  \n",
       "5                172.0                    False      1.4    upsloping       0  "
      ]
     },
     "execution_count": 31,
     "metadata": {},
     "output_type": "execute_result"
    }
   ],
   "source": [
    "df.head()"
   ]
  },
  {
   "cell_type": "code",
   "execution_count": 32,
   "id": "9bafd7eb-883f-4d64-aed6-32d1850c1ed6",
   "metadata": {},
   "outputs": [],
   "source": [
    "y = df[df.columns[-1]]\n",
    "X = df[df.columns[0:len(df.columns)-1]]"
   ]
  },
  {
   "cell_type": "code",
   "execution_count": 33,
   "id": "4b1f11a9-5948-4225-8a42-d71ff2b3b9be",
   "metadata": {},
   "outputs": [],
   "source": [
    "numeric_features = X.select_dtypes(include=['int64', 'float64']).columns.tolist()\n",
    "categorical_features = X.select_dtypes(include=['object', 'category', 'bool']).columns.tolist()\n",
    "\n",
    "X_train, X_test, y_train, y_test = train_test_split(X, y, test_size=0.2, random_state=42)"
   ]
  },
  {
   "cell_type": "code",
   "execution_count": 34,
   "id": "936b87fb-839c-4bdf-8596-9bfeb7655a55",
   "metadata": {},
   "outputs": [
    {
     "name": "stdout",
     "output_type": "stream",
     "text": [
      "Classification Report:\n",
      "               precision    recall  f1-score   support\n",
      "\n",
      "           0       0.75      0.76      0.75        75\n",
      "           1       0.57      0.24      0.34        54\n",
      "           2       0.23      0.32      0.27        25\n",
      "           3       0.28      0.31      0.29        26\n",
      "           4       0.05      0.25      0.08         4\n",
      "\n",
      "    accuracy                           0.47       184\n",
      "   macro avg       0.37      0.38      0.35       184\n",
      "weighted avg       0.54      0.47      0.49       184\n",
      "\n",
      "Confusion Matrix:\n",
      " [[57  6  8  1  3]\n",
      " [17 13  9 10  5]\n",
      " [ 2  1  8  8  6]\n",
      " [ 0  3  9  8  6]\n",
      " [ 0  0  1  2  1]]\n"
     ]
    }
   ],
   "source": [
    "preprocessor = ColumnTransformer(\n",
    "    transformers=[\n",
    "        ('num', StandardScaler(), numeric_features),\n",
    "        ('cat', OneHotEncoder(drop='first'), categorical_features)\n",
    "    ]\n",
    ")\n",
    "\n",
    "pipeline = make_pipeline(\n",
    "    preprocessor,\n",
    "    LogisticRegression(max_iter=1000, class_weight='balanced')\n",
    ")\n",
    "\n",
    "pipeline.fit(X_train, y_train)\n",
    "\n",
    "y_pred = pipeline.predict(X_test)\n",
    "\n",
    "print(\"Classification Report:\\n\", classification_report(y_test, y_pred))\n",
    "print(\"Confusion Matrix:\\n\", confusion_matrix(y_test, y_pred))\n"
   ]
  },
  {
   "cell_type": "code",
   "execution_count": 35,
   "id": "b4c296b7-58b8-4743-9b88-ba7c774f3d60",
   "metadata": {},
   "outputs": [
    {
     "data": {
      "text/plain": [
       "<sklearn.metrics._plot.confusion_matrix.ConfusionMatrixDisplay at 0x128440443d0>"
      ]
     },
     "execution_count": 35,
     "metadata": {},
     "output_type": "execute_result"
    },
    {
     "data": {
      "image/png": "[encoded data removed]",
      "text/plain": [
       "<Figure size 640x480 with 2 Axes>"
      ]
     },
     "metadata": {},
     "output_type": "display_data"
    }
   ],
   "source": [
    "ConfusionMatrixDisplay(confusion_matrix(y_test, y_pred)).plot()"
   ]
  },
  {
   "cell_type": "code",
   "execution_count": 36,
   "id": "60ff0d3b-a69c-49fb-ad9c-274b3bb64ba4",
   "metadata": {},
   "outputs": [
    {
     "name": "stdout",
     "output_type": "stream",
     "text": [
      "Classification Report:\n",
      "               precision    recall  f1-score   support\n",
      "\n",
      "           0       0.64      0.68      0.66        75\n",
      "           1       0.40      0.39      0.39        54\n",
      "           2       0.15      0.12      0.13        25\n",
      "           3       0.14      0.12      0.12        26\n",
      "           4       0.00      0.00      0.00         4\n",
      "\n",
      "    accuracy                           0.42       184\n",
      "   macro avg       0.26      0.26      0.26       184\n",
      "weighted avg       0.42      0.42      0.42       184\n",
      "\n",
      "Confusion Matrix:\n",
      " [[51 14  4  4  2]\n",
      " [19 21  6  6  2]\n",
      " [ 2 10  3  7  3]\n",
      " [ 8  8  5  3  2]\n",
      " [ 0  0  2  2  0]]\n"
     ]
    }
   ],
   "source": [
    "#Decision Tree\n",
    "pipeline1 = make_pipeline(\n",
    "    preprocessor, DecisionTreeClassifier(class_weight='balanced')\n",
    ")\n",
    "\n",
    "pipeline1.fit(X_train, y_train)\n",
    "dtc_pred = pipeline1.predict(X_test)\n",
    "\n",
    "print(\"Classification Report:\\n\", classification_report(y_test, dtc_pred))\n",
    "print(\"Confusion Matrix:\\n\", confusion_matrix(y_test, dtc_pred))"
   ]
  },
  {
   "cell_type": "code",
   "execution_count": 37,
   "id": "bd31558d-5f39-432b-b79c-10dcf4304ce0",
   "metadata": {},
   "outputs": [
    {
     "name": "stdout",
     "output_type": "stream",
     "text": [
      "Classification Report:\n",
      "               precision    recall  f1-score   support\n",
      "\n",
      "           0       0.64      0.91      0.75        75\n",
      "           1       0.51      0.39      0.44        54\n",
      "           2       0.40      0.24      0.30        25\n",
      "           3       0.26      0.19      0.22        26\n",
      "           4       0.00      0.00      0.00         4\n",
      "\n",
      "    accuracy                           0.54       184\n",
      "   macro avg       0.36      0.35      0.34       184\n",
      "weighted avg       0.50      0.54      0.51       184\n",
      "\n",
      "Confusion Matrix:\n",
      " [[68  4  2  1  0]\n",
      " [26 21  2  5  0]\n",
      " [ 4  8  6  6  1]\n",
      " [ 9  8  3  5  1]\n",
      " [ 0  0  2  2  0]]\n"
     ]
    }
   ],
   "source": [
    "#Random Forest \n",
    "pipeline2 = make_pipeline(\n",
    "    preprocessor, RandomForestClassifier(class_weight='balanced')\n",
    ")\n",
    "\n",
    "pipeline2.fit(X_train, y_train)\n",
    "rf_pred = pipeline2.predict(X_test)\n",
    "\n",
    "print(\"Classification Report:\\n\", classification_report(y_test, rf_pred))\n",
    "print(\"Confusion Matrix:\\n\", confusion_matrix(y_test, rf_pred))"
   ]
  },
  {
   "cell_type": "code",
   "execution_count": 38,
   "id": "5e030489-497d-4a62-8d05-a9c0a7468f49",
   "metadata": {},
   "outputs": [
    {
     "data": {
      "text/plain": [
       "<sklearn.metrics._plot.confusion_matrix.ConfusionMatrixDisplay at 0x1284403bb90>"
      ]
     },
     "execution_count": 38,
     "metadata": {},
     "output_type": "execute_result"
    },
    {
     "data": {
      "image/png": "[encoded data removed]",
      "text/plain": [
       "<Figure size 640x480 with 2 Axes>"
      ]
     },
     "metadata": {},
     "output_type": "display_data"
    }
   ],
   "source": [
    "ConfusionMatrixDisplay(confusion_matrix(y_test, rf_pred)).plot()"
   ]
  },
  {
   "cell_type": "code",
   "execution_count": 39,
   "id": "11a7a86d-127f-47ea-a99b-e2e316926013",
   "metadata": {},
   "outputs": [
    {
     "name": "stdout",
     "output_type": "stream",
     "text": [
      "Classification Report:\n",
      "               precision    recall  f1-score   support\n",
      "\n",
      "           0       0.64      0.91      0.75        75\n",
      "           1       0.51      0.39      0.44        54\n",
      "           2       0.40      0.24      0.30        25\n",
      "           3       0.26      0.19      0.22        26\n",
      "           4       0.00      0.00      0.00         4\n",
      "\n",
      "    accuracy                           0.54       184\n",
      "   macro avg       0.36      0.35      0.34       184\n",
      "weighted avg       0.50      0.54      0.51       184\n",
      "\n",
      "Confusion Matrix:\n",
      " [[68  4  2  1  0]\n",
      " [26 21  2  5  0]\n",
      " [ 4  8  6  6  1]\n",
      " [ 9  8  3  5  1]\n",
      " [ 0  0  2  2  0]]\n"
     ]
    }
   ],
   "source": [
    "pipeline3 = make_pipeline(\n",
    "    preprocessor, KNeighborsClassifier()\n",
    ")\n",
    "\n",
    "pipeline3.fit(X_train, y_train)\n",
    "kc_pred = pipeline2.predict(X_test)\n",
    "\n",
    "print(\"Classification Report:\\n\", classification_report(y_test, kc_pred))\n",
    "print(\"Confusion Matrix:\\n\", confusion_matrix(y_test, kc_pred))"
   ]
  },
  {
   "cell_type": "code",
   "execution_count": 40,
   "id": "59399f5d-1591-43cb-95db-7ec736ebef40",
   "metadata": {},
   "outputs": [
    {
     "data": {
      "text/plain": [
       "<sklearn.metrics._plot.confusion_matrix.ConfusionMatrixDisplay at 0x128449f1d10>"
      ]
     },
     "execution_count": 40,
     "metadata": {},
     "output_type": "execute_result"
    },
    {
     "data": {
      "image/png": "[encoded data removed]",
      "text/plain": [
       "<Figure size 640x480 with 2 Axes>"
      ]
     },
     "metadata": {},
     "output_type": "display_data"
    }
   ],
   "source": [
    "ConfusionMatrixDisplay(confusion_matrix(y_test, kc_pred)).plot()"
   ]
  },
  {
   "cell_type": "code",
   "execution_count": 41,
   "id": "6f204b98-359d-441c-bae1-466c89188851",
   "metadata": {},
   "outputs": [
    {
     "name": "stdout",
     "output_type": "stream",
     "text": [
      "Best parameters for Logistic Regression:  {'logisticregression__C': 0.1, 'logisticregression__solver': 'liblinear'}\n",
      "Best parameters for Random Forest:  {'randomforestclassifier__max_depth': 20, 'randomforestclassifier__min_samples_leaf': 1, 'randomforestclassifier__min_samples_split': 2, 'randomforestclassifier__n_estimators': 200}\n"
     ]
    }
   ],
   "source": [
    "from sklearn.model_selection import GridSearchCV\n",
    "from sklearn.linear_model import LogisticRegression\n",
    "from sklearn.ensemble import RandomForestClassifier\n",
    "\n",
    "# Logistic Regression tuning\n",
    "log_reg_params = {\n",
    "    'logisticregression__C': [0.1, 1, 10],\n",
    "    'logisticregression__solver': ['liblinear', 'lbfgs']\n",
    "}\n",
    "\n",
    "log_reg_grid_search = GridSearchCV(pipeline, log_reg_params, cv=5, scoring='accuracy')\n",
    "log_reg_grid_search.fit(X_train, y_train)\n",
    "\n",
    "print(\"Best parameters for Logistic Regression: \", log_reg_grid_search.best_params_)\n",
    "\n",
    "# Random Forest tuning\n",
    "rf_params = {\n",
    "    'randomforestclassifier__n_estimators': [50, 100, 200],\n",
    "    'randomforestclassifier__max_depth': [10, 20, None],\n",
    "    'randomforestclassifier__min_samples_split': [2, 5, 10],\n",
    "    'randomforestclassifier__min_samples_leaf': [1, 2, 4]\n",
    "}\n",
    "\n",
    "rf_grid_search = GridSearchCV(pipeline2, rf_params, cv=5, scoring='accuracy')\n",
    "rf_grid_search.fit(X_train, y_train)\n",
    "\n",
    "print(\"Best parameters for Random Forest: \", rf_grid_search.best_params_)\n"
   ]
  },
  {
   "cell_type": "code",
   "execution_count": 42,
   "id": "b7ba733e-0787-4ed7-9229-0328ba91d153",
   "metadata": {},
   "outputs": [
    {
     "name": "stdout",
     "output_type": "stream",
     "text": [
      "Classification Report:\n",
      "               precision    recall  f1-score   support\n",
      "\n",
      "           0       0.67      0.92      0.78        75\n",
      "           1       0.52      0.46      0.49        54\n",
      "           2       0.44      0.28      0.34        25\n",
      "           3       0.35      0.23      0.28        26\n",
      "           4       0.00      0.00      0.00         4\n",
      "\n",
      "    accuracy                           0.58       184\n",
      "   macro avg       0.40      0.38      0.38       184\n",
      "weighted avg       0.54      0.58      0.55       184\n",
      "\n",
      "Confusion Matrix:\n",
      " [[69  3  3  0  0]\n",
      " [23 25  3  3  0]\n",
      " [ 4  8  7  6  0]\n",
      " [ 7 11  2  6  0]\n",
      " [ 0  1  1  2  0]]\n"
     ]
    },
    {
     "name": "stderr",
     "output_type": "stream",
     "text": [
      "C:\\Users\\admin\\anaconda3\\envs\\HeartDisease\\Lib\\site-packages\\sklearn\\metrics\\_classification.py:1565: UndefinedMetricWarning: Precision is ill-defined and being set to 0.0 in labels with no predicted samples. Use `zero_division` parameter to control this behavior.\n",
      "  _warn_prf(average, modifier, f\"{metric.capitalize()} is\", len(result))\n",
      "C:\\Users\\admin\\anaconda3\\envs\\HeartDisease\\Lib\\site-packages\\sklearn\\metrics\\_classification.py:1565: UndefinedMetricWarning: Precision is ill-defined and being set to 0.0 in labels with no predicted samples. Use `zero_division` parameter to control this behavior.\n",
      "  _warn_prf(average, modifier, f\"{metric.capitalize()} is\", len(result))\n",
      "C:\\Users\\admin\\anaconda3\\envs\\HeartDisease\\Lib\\site-packages\\sklearn\\metrics\\_classification.py:1565: UndefinedMetricWarning: Precision is ill-defined and being set to 0.0 in labels with no predicted samples. Use `zero_division` parameter to control this behavior.\n",
      "  _warn_prf(average, modifier, f\"{metric.capitalize()} is\", len(result))\n"
     ]
    }
   ],
   "source": [
    "pipeline_rf = make_pipeline(\n",
    "    preprocessor, RandomForestClassifier(max_depth=None, min_samples_leaf=1, min_samples_split=2, n_estimators=200)\n",
    ")\n",
    "\n",
    "pipeline_rf.fit(X_train, y_train)\n",
    "rf_pred1 = pipeline_rf.predict(X_test)\n",
    "print(\"Classification Report:\\n\", classification_report(y_test, rf_pred1))\n",
    "print(\"Confusion Matrix:\\n\", confusion_matrix(y_test, rf_pred1))"
   ]
  },
  {
   "cell_type": "code",
   "execution_count": 50,
   "id": "591a9115-2905-4153-9cfe-5a8d4349b759",
   "metadata": {},
   "outputs": [
    {
     "name": "stdout",
     "output_type": "stream",
     "text": [
      "              precision    recall  f1-score   support\n",
      "\n",
      "           0       0.65      0.84      0.73        75\n",
      "           1       0.52      0.52      0.52        54\n",
      "           2       0.41      0.28      0.33        25\n",
      "           3       0.29      0.15      0.20        26\n",
      "           4       0.00      0.00      0.00         4\n",
      "\n",
      "    accuracy                           0.55       184\n",
      "   macro avg       0.37      0.36      0.36       184\n",
      "weighted avg       0.51      0.55      0.52       184\n",
      "\n"
     ]
    },
    {
     "name": "stderr",
     "output_type": "stream",
     "text": [
      "C:\\Users\\admin\\anaconda3\\envs\\HeartDisease\\Lib\\site-packages\\xgboost\\core.py:158: UserWarning: [22:39:43] WARNING: C:\\b\\abs_90_bwj_86a\\croot\\xgboost-split_1724073762025\\work\\src\\learner.cc:740: \n",
      "Parameters: { \"use_label_encoder\" } are not used.\n",
      "\n",
      "  warnings.warn(smsg, UserWarning)\n"
     ]
    }
   ],
   "source": [
    "# Preprocess manually\n",
    "X_train_prep = preprocessor.fit_transform(X_train)\n",
    "X_test_prep = preprocessor.transform(X_test)\n",
    "\n",
    "# Train XGBoost\n",
    "xgb_model = XGBClassifier(use_label_encoder=False, eval_metric='mlogloss', random_state=42)\n",
    "xgb_model.fit(X_train_prep, y_train)\n",
    "\n",
    "y_pred = xgb_model.predict(X_test_prep)\n",
    "print(classification_report(y_test, y_pred))\n"
   ]
  },
  {
   "cell_type": "code",
   "execution_count": 49,
   "id": "c259b908-9bb5-40df-b543-77045c25ffc4",
   "metadata": {},
   "outputs": [
    {
     "name": "stdout",
     "output_type": "stream",
     "text": [
      "2.1.1\n"
     ]
    }
   ],
   "source": [
    "import xgboost\n",
    "print(xgboost.__version__)"
   ]
  },
  {
   "cell_type": "code",
   "execution_count": null,
   "id": "b1742b65-70de-414d-962c-98db95ebb3da",
   "metadata": {},
   "outputs": [],
   "source": []
  }
 ],
 "metadata": {
  "kernelspec": {
   "display_name": "Python [conda env:HeartDisease]",
   "language": "python",
   "name": "conda-env-HeartDisease-py"
  },
  "language_info": {
   "codemirror_mode": {
    "name": "ipython",
    "version": 3
   },
   "file_extension": ".py",
   "mimetype": "text/x-python",
   "name": "python",
   "nbconvert_exporter": "python",
   "pygments_lexer": "ipython3",
   "version": "3.11.11"
  }
 },
 "nbformat": 4,
 "nbformat_minor": 5
}
