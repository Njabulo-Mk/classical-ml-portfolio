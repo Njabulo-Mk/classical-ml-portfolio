{
 "cells": [
  {
   "cell_type": "code",
   "execution_count": 62,
   "id": "47144749-754b-450c-b1e1-9c7f93edbba5",
   "metadata": {},
   "outputs": [],
   "source": [
    "import pandas as pd\n",
    "import numpy as np\n",
    "import seaborn as sns\n",
    "import matplotlib.pyplot as plt\n",
    "\n",
    "from sklearn.model_selection import train_test_split\n",
    "from sklearn.linear_model import LinearRegression\n",
    "from sklearn.ensemble import RandomForestRegressor\n",
    "from sklearn.preprocessing import OneHotEncoder\n",
    "from sklearn.pipeline import make_pipeline\n",
    "from sklearn.compose import ColumnTransformer\n",
    "from sklearn.preprocessing import StandardScaler\n",
    "\n",
    "from sklearn.metrics import mean_squared_error, mean_absolute_error, r2_score\n",
    "import numpy as np\n",
    "from xgboost import XGBRegressor"
   ]
  },
  {
   "cell_type": "code",
   "execution_count": 2,
   "id": "5e549d58-1245-4798-aeda-12a133236dc3",
   "metadata": {},
   "outputs": [],
   "source": [
    "df = pd.read_csv(\"data/survey_results_public.csv\").set_index(\"ResponseId\")"
   ]
  },
  {
   "cell_type": "code",
   "execution_count": 3,
   "id": "4363a5d5-6e59-4bba-b012-e78917844ee3",
   "metadata": {},
   "outputs": [
    {
     "data": {
      "text/html": [
       "<div>\n",
       "<style scoped>\n",
       "    .dataframe tbody tr th:only-of-type {\n",
       "        vertical-align: middle;\n",
       "    }\n",
       "\n",
       "    .dataframe tbody tr th {\n",
       "        vertical-align: top;\n",
       "    }\n",
       "\n",
       "    .dataframe thead th {\n",
       "        text-align: right;\n",
       "    }\n",
       "</style>\n",
       "<table border=\"1\" class=\"dataframe\">\n",
       "  <thead>\n",
       "    <tr style=\"text-align: right;\">\n",
       "      <th></th>\n",
       "      <th>MainBranch</th>\n",
       "      <th>Age</th>\n",
       "      <th>Employment</th>\n",
       "      <th>RemoteWork</th>\n",
       "      <th>Check</th>\n",
       "      <th>CodingActivities</th>\n",
       "      <th>EdLevel</th>\n",
       "      <th>LearnCode</th>\n",
       "      <th>LearnCodeOnline</th>\n",
       "      <th>TechDoc</th>\n",
       "      <th>...</th>\n",
       "      <th>JobSatPoints_6</th>\n",
       "      <th>JobSatPoints_7</th>\n",
       "      <th>JobSatPoints_8</th>\n",
       "      <th>JobSatPoints_9</th>\n",
       "      <th>JobSatPoints_10</th>\n",
       "      <th>JobSatPoints_11</th>\n",
       "      <th>SurveyLength</th>\n",
       "      <th>SurveyEase</th>\n",
       "      <th>ConvertedCompYearly</th>\n",
       "      <th>JobSat</th>\n",
       "    </tr>\n",
       "    <tr>\n",
       "      <th>ResponseId</th>\n",
       "      <th></th>\n",
       "      <th></th>\n",
       "      <th></th>\n",
       "      <th></th>\n",
       "      <th></th>\n",
       "      <th></th>\n",
       "      <th></th>\n",
       "      <th></th>\n",
       "      <th></th>\n",
       "      <th></th>\n",
       "      <th></th>\n",
       "      <th></th>\n",
       "      <th></th>\n",
       "      <th></th>\n",
       "      <th></th>\n",
       "      <th></th>\n",
       "      <th></th>\n",
       "      <th></th>\n",
       "      <th></th>\n",
       "      <th></th>\n",
       "      <th></th>\n",
       "    </tr>\n",
       "  </thead>\n",
       "  <tbody>\n",
       "    <tr>\n",
       "      <th>1</th>\n",
       "      <td>I am a developer by profession</td>\n",
       "      <td>Under 18 years old</td>\n",
       "      <td>Employed, full-time</td>\n",
       "      <td>Remote</td>\n",
       "      <td>Apples</td>\n",
       "      <td>Hobby</td>\n",
       "      <td>Primary/elementary school</td>\n",
       "      <td>Books / Physical media</td>\n",
       "      <td>NaN</td>\n",
       "      <td>NaN</td>\n",
       "      <td>...</td>\n",
       "      <td>NaN</td>\n",
       "      <td>NaN</td>\n",
       "      <td>NaN</td>\n",
       "      <td>NaN</td>\n",
       "      <td>NaN</td>\n",
       "      <td>NaN</td>\n",
       "      <td>NaN</td>\n",
       "      <td>NaN</td>\n",
       "      <td>NaN</td>\n",
       "      <td>NaN</td>\n",
       "    </tr>\n",
       "    <tr>\n",
       "      <th>2</th>\n",
       "      <td>I am a developer by profession</td>\n",
       "      <td>35-44 years old</td>\n",
       "      <td>Employed, full-time</td>\n",
       "      <td>Remote</td>\n",
       "      <td>Apples</td>\n",
       "      <td>Hobby;Contribute to open-source projects;Other...</td>\n",
       "      <td>Bachelor’s degree (B.A., B.S., B.Eng., etc.)</td>\n",
       "      <td>Books / Physical media;Colleague;On the job tr...</td>\n",
       "      <td>Technical documentation;Blogs;Books;Written Tu...</td>\n",
       "      <td>API document(s) and/or SDK document(s);User gu...</td>\n",
       "      <td>...</td>\n",
       "      <td>0.0</td>\n",
       "      <td>0.0</td>\n",
       "      <td>0.0</td>\n",
       "      <td>0.0</td>\n",
       "      <td>0.0</td>\n",
       "      <td>0.0</td>\n",
       "      <td>NaN</td>\n",
       "      <td>NaN</td>\n",
       "      <td>NaN</td>\n",
       "      <td>NaN</td>\n",
       "    </tr>\n",
       "    <tr>\n",
       "      <th>3</th>\n",
       "      <td>I am a developer by profession</td>\n",
       "      <td>45-54 years old</td>\n",
       "      <td>Employed, full-time</td>\n",
       "      <td>Remote</td>\n",
       "      <td>Apples</td>\n",
       "      <td>Hobby;Contribute to open-source projects;Other...</td>\n",
       "      <td>Master’s degree (M.A., M.S., M.Eng., MBA, etc.)</td>\n",
       "      <td>Books / Physical media;Colleague;On the job tr...</td>\n",
       "      <td>Technical documentation;Blogs;Books;Written Tu...</td>\n",
       "      <td>API document(s) and/or SDK document(s);User gu...</td>\n",
       "      <td>...</td>\n",
       "      <td>NaN</td>\n",
       "      <td>NaN</td>\n",
       "      <td>NaN</td>\n",
       "      <td>NaN</td>\n",
       "      <td>NaN</td>\n",
       "      <td>NaN</td>\n",
       "      <td>Appropriate in length</td>\n",
       "      <td>Easy</td>\n",
       "      <td>NaN</td>\n",
       "      <td>NaN</td>\n",
       "    </tr>\n",
       "    <tr>\n",
       "      <th>4</th>\n",
       "      <td>I am learning to code</td>\n",
       "      <td>18-24 years old</td>\n",
       "      <td>Student, full-time</td>\n",
       "      <td>NaN</td>\n",
       "      <td>Apples</td>\n",
       "      <td>NaN</td>\n",
       "      <td>Some college/university study without earning ...</td>\n",
       "      <td>Other online resources (e.g., videos, blogs, f...</td>\n",
       "      <td>Stack Overflow;How-to videos;Interactive tutorial</td>\n",
       "      <td>NaN</td>\n",
       "      <td>...</td>\n",
       "      <td>NaN</td>\n",
       "      <td>NaN</td>\n",
       "      <td>NaN</td>\n",
       "      <td>NaN</td>\n",
       "      <td>NaN</td>\n",
       "      <td>NaN</td>\n",
       "      <td>Too long</td>\n",
       "      <td>Easy</td>\n",
       "      <td>NaN</td>\n",
       "      <td>NaN</td>\n",
       "    </tr>\n",
       "    <tr>\n",
       "      <th>5</th>\n",
       "      <td>I am a developer by profession</td>\n",
       "      <td>18-24 years old</td>\n",
       "      <td>Student, full-time</td>\n",
       "      <td>NaN</td>\n",
       "      <td>Apples</td>\n",
       "      <td>NaN</td>\n",
       "      <td>Secondary school (e.g. American high school, G...</td>\n",
       "      <td>Other online resources (e.g., videos, blogs, f...</td>\n",
       "      <td>Technical documentation;Blogs;Written Tutorial...</td>\n",
       "      <td>API document(s) and/or SDK document(s);User gu...</td>\n",
       "      <td>...</td>\n",
       "      <td>NaN</td>\n",
       "      <td>NaN</td>\n",
       "      <td>NaN</td>\n",
       "      <td>NaN</td>\n",
       "      <td>NaN</td>\n",
       "      <td>NaN</td>\n",
       "      <td>Too short</td>\n",
       "      <td>Easy</td>\n",
       "      <td>NaN</td>\n",
       "      <td>NaN</td>\n",
       "    </tr>\n",
       "  </tbody>\n",
       "</table>\n",
       "<p>5 rows × 113 columns</p>\n",
       "</div>"
      ],
      "text/plain": [
       "                                MainBranch                 Age  \\\n",
       "ResponseId                                                       \n",
       "1           I am a developer by profession  Under 18 years old   \n",
       "2           I am a developer by profession     35-44 years old   \n",
       "3           I am a developer by profession     45-54 years old   \n",
       "4                    I am learning to code     18-24 years old   \n",
       "5           I am a developer by profession     18-24 years old   \n",
       "\n",
       "                     Employment RemoteWork   Check  \\\n",
       "ResponseId                                           \n",
       "1           Employed, full-time     Remote  Apples   \n",
       "2           Employed, full-time     Remote  Apples   \n",
       "3           Employed, full-time     Remote  Apples   \n",
       "4            Student, full-time        NaN  Apples   \n",
       "5            Student, full-time        NaN  Apples   \n",
       "\n",
       "                                             CodingActivities  \\\n",
       "ResponseId                                                      \n",
       "1                                                       Hobby   \n",
       "2           Hobby;Contribute to open-source projects;Other...   \n",
       "3           Hobby;Contribute to open-source projects;Other...   \n",
       "4                                                         NaN   \n",
       "5                                                         NaN   \n",
       "\n",
       "                                                      EdLevel  \\\n",
       "ResponseId                                                      \n",
       "1                                   Primary/elementary school   \n",
       "2                Bachelor’s degree (B.A., B.S., B.Eng., etc.)   \n",
       "3             Master’s degree (M.A., M.S., M.Eng., MBA, etc.)   \n",
       "4           Some college/university study without earning ...   \n",
       "5           Secondary school (e.g. American high school, G...   \n",
       "\n",
       "                                                    LearnCode  \\\n",
       "ResponseId                                                      \n",
       "1                                      Books / Physical media   \n",
       "2           Books / Physical media;Colleague;On the job tr...   \n",
       "3           Books / Physical media;Colleague;On the job tr...   \n",
       "4           Other online resources (e.g., videos, blogs, f...   \n",
       "5           Other online resources (e.g., videos, blogs, f...   \n",
       "\n",
       "                                              LearnCodeOnline  \\\n",
       "ResponseId                                                      \n",
       "1                                                         NaN   \n",
       "2           Technical documentation;Blogs;Books;Written Tu...   \n",
       "3           Technical documentation;Blogs;Books;Written Tu...   \n",
       "4           Stack Overflow;How-to videos;Interactive tutorial   \n",
       "5           Technical documentation;Blogs;Written Tutorial...   \n",
       "\n",
       "                                                      TechDoc  ...  \\\n",
       "ResponseId                                                     ...   \n",
       "1                                                         NaN  ...   \n",
       "2           API document(s) and/or SDK document(s);User gu...  ...   \n",
       "3           API document(s) and/or SDK document(s);User gu...  ...   \n",
       "4                                                         NaN  ...   \n",
       "5           API document(s) and/or SDK document(s);User gu...  ...   \n",
       "\n",
       "           JobSatPoints_6 JobSatPoints_7 JobSatPoints_8 JobSatPoints_9  \\\n",
       "ResponseId                                                               \n",
       "1                     NaN            NaN            NaN            NaN   \n",
       "2                     0.0            0.0            0.0            0.0   \n",
       "3                     NaN            NaN            NaN            NaN   \n",
       "4                     NaN            NaN            NaN            NaN   \n",
       "5                     NaN            NaN            NaN            NaN   \n",
       "\n",
       "           JobSatPoints_10 JobSatPoints_11           SurveyLength SurveyEase  \\\n",
       "ResponseId                                                                     \n",
       "1                      NaN             NaN                    NaN        NaN   \n",
       "2                      0.0             0.0                    NaN        NaN   \n",
       "3                      NaN             NaN  Appropriate in length       Easy   \n",
       "4                      NaN             NaN               Too long       Easy   \n",
       "5                      NaN             NaN              Too short       Easy   \n",
       "\n",
       "           ConvertedCompYearly JobSat  \n",
       "ResponseId                             \n",
       "1                          NaN    NaN  \n",
       "2                          NaN    NaN  \n",
       "3                          NaN    NaN  \n",
       "4                          NaN    NaN  \n",
       "5                          NaN    NaN  \n",
       "\n",
       "[5 rows x 113 columns]"
      ]
     },
     "execution_count": 3,
     "metadata": {},
     "output_type": "execute_result"
    }
   ],
   "source": [
    "pd.set_option('display.max_rows', None)\n",
    "df.head()"
   ]
  },
  {
   "cell_type": "code",
   "execution_count": 4,
   "id": "cefb62ca-dd32-4c67-88cc-53fef9e87b57",
   "metadata": {},
   "outputs": [
    {
     "name": "stdout",
     "output_type": "stream",
     "text": [
      "<class 'pandas.core.frame.DataFrame'>\n",
      "Index: 65437 entries, 1 to 65437\n",
      "Data columns (total 113 columns):\n",
      " #    Column                          Dtype  \n",
      "---   ------                          -----  \n",
      " 0    MainBranch                      object \n",
      " 1    Age                             object \n",
      " 2    Employment                      object \n",
      " 3    RemoteWork                      object \n",
      " 4    Check                           object \n",
      " 5    CodingActivities                object \n",
      " 6    EdLevel                         object \n",
      " 7    LearnCode                       object \n",
      " 8    LearnCodeOnline                 object \n",
      " 9    TechDoc                         object \n",
      " 10   YearsCode                       object \n",
      " 11   YearsCodePro                    object \n",
      " 12   DevType                         object \n",
      " 13   OrgSize                         object \n",
      " 14   PurchaseInfluence               object \n",
      " 15   BuyNewTool                      object \n",
      " 16   BuildvsBuy                      object \n",
      " 17   TechEndorse                     object \n",
      " 18   Country                         object \n",
      " 19   Currency                        object \n",
      " 20   CompTotal                       float64\n",
      " 21   LanguageHaveWorkedWith          object \n",
      " 22   LanguageWantToWorkWith          object \n",
      " 23   LanguageAdmired                 object \n",
      " 24   DatabaseHaveWorkedWith          object \n",
      " 25   DatabaseWantToWorkWith          object \n",
      " 26   DatabaseAdmired                 object \n",
      " 27   PlatformHaveWorkedWith          object \n",
      " 28   PlatformWantToWorkWith          object \n",
      " 29   PlatformAdmired                 object \n",
      " 30   WebframeHaveWorkedWith          object \n",
      " 31   WebframeWantToWorkWith          object \n",
      " 32   WebframeAdmired                 object \n",
      " 33   EmbeddedHaveWorkedWith          object \n",
      " 34   EmbeddedWantToWorkWith          object \n",
      " 35   EmbeddedAdmired                 object \n",
      " 36   MiscTechHaveWorkedWith          object \n",
      " 37   MiscTechWantToWorkWith          object \n",
      " 38   MiscTechAdmired                 object \n",
      " 39   ToolsTechHaveWorkedWith         object \n",
      " 40   ToolsTechWantToWorkWith         object \n",
      " 41   ToolsTechAdmired                object \n",
      " 42   NEWCollabToolsHaveWorkedWith    object \n",
      " 43   NEWCollabToolsWantToWorkWith    object \n",
      " 44   NEWCollabToolsAdmired           object \n",
      " 45   OpSysPersonal use               object \n",
      " 46   OpSysProfessional use           object \n",
      " 47   OfficeStackAsyncHaveWorkedWith  object \n",
      " 48   OfficeStackAsyncWantToWorkWith  object \n",
      " 49   OfficeStackAsyncAdmired         object \n",
      " 50   OfficeStackSyncHaveWorkedWith   object \n",
      " 51   OfficeStackSyncWantToWorkWith   object \n",
      " 52   OfficeStackSyncAdmired          object \n",
      " 53   AISearchDevHaveWorkedWith       object \n",
      " 54   AISearchDevWantToWorkWith       object \n",
      " 55   AISearchDevAdmired              object \n",
      " 56   NEWSOSites                      object \n",
      " 57   SOVisitFreq                     object \n",
      " 58   SOAccount                       object \n",
      " 59   SOPartFreq                      object \n",
      " 60   SOHow                           object \n",
      " 61   SOComm                          object \n",
      " 62   AISelect                        object \n",
      " 63   AISent                          object \n",
      " 64   AIBen                           object \n",
      " 65   AIAcc                           object \n",
      " 66   AIComplex                       object \n",
      " 67   AIToolCurrently Using           object \n",
      " 68   AIToolInterested in Using       object \n",
      " 69   AIToolNot interested in Using   object \n",
      " 70   AINextMuch more integrated      object \n",
      " 71   AINextNo change                 object \n",
      " 72   AINextMore integrated           object \n",
      " 73   AINextLess integrated           object \n",
      " 74   AINextMuch less integrated      object \n",
      " 75   AIThreat                        object \n",
      " 76   AIEthics                        object \n",
      " 77   AIChallenges                    object \n",
      " 78   TBranch                         object \n",
      " 79   ICorPM                          object \n",
      " 80   WorkExp                         float64\n",
      " 81   Knowledge_1                     object \n",
      " 82   Knowledge_2                     object \n",
      " 83   Knowledge_3                     object \n",
      " 84   Knowledge_4                     object \n",
      " 85   Knowledge_5                     object \n",
      " 86   Knowledge_6                     object \n",
      " 87   Knowledge_7                     object \n",
      " 88   Knowledge_8                     object \n",
      " 89   Knowledge_9                     object \n",
      " 90   Frequency_1                     object \n",
      " 91   Frequency_2                     object \n",
      " 92   Frequency_3                     object \n",
      " 93   TimeSearching                   object \n",
      " 94   TimeAnswering                   object \n",
      " 95   Frustration                     object \n",
      " 96   ProfessionalTech                object \n",
      " 97   ProfessionalCloud               object \n",
      " 98   ProfessionalQuestion            object \n",
      " 99   Industry                        object \n",
      " 100  JobSatPoints_1                  float64\n",
      " 101  JobSatPoints_4                  float64\n",
      " 102  JobSatPoints_5                  float64\n",
      " 103  JobSatPoints_6                  float64\n",
      " 104  JobSatPoints_7                  float64\n",
      " 105  JobSatPoints_8                  float64\n",
      " 106  JobSatPoints_9                  float64\n",
      " 107  JobSatPoints_10                 float64\n",
      " 108  JobSatPoints_11                 float64\n",
      " 109  SurveyLength                    object \n",
      " 110  SurveyEase                      object \n",
      " 111  ConvertedCompYearly             float64\n",
      " 112  JobSat                          float64\n",
      "dtypes: float64(13), object(100)\n",
      "memory usage: 56.9+ MB\n"
     ]
    }
   ],
   "source": [
    "df.info(verbose=True)"
   ]
  },
  {
   "cell_type": "code",
   "execution_count": 5,
   "id": "284087c2-15fc-4e6c-b536-776224833abd",
   "metadata": {
    "scrolled": true
   },
   "outputs": [],
   "source": [
    "df_hc = df.nunique().sort_values(ascending=False)"
   ]
  },
  {
   "cell_type": "code",
   "execution_count": 6,
   "id": "59e7e200-dd14-4a88-b2b6-7c898282a5c5",
   "metadata": {},
   "outputs": [
    {
     "data": {
      "text/plain": [
       "['LanguageHaveWorkedWith',\n",
       " 'LanguageWantToWorkWith',\n",
       " 'ToolsTechHaveWorkedWith',\n",
       " 'ToolsTechWantToWorkWith',\n",
       " 'NEWCollabToolsHaveWorkedWith',\n",
       " 'LanguageAdmired',\n",
       " 'WebframeHaveWorkedWith',\n",
       " 'ToolsTechAdmired',\n",
       " 'WebframeWantToWorkWith',\n",
       " 'LearnCodeOnline',\n",
       " 'MiscTechWantToWorkWith',\n",
       " 'NEWCollabToolsWantToWorkWith',\n",
       " 'MiscTechHaveWorkedWith',\n",
       " 'DatabaseHaveWorkedWith',\n",
       " 'DatabaseWantToWorkWith',\n",
       " 'NEWCollabToolsAdmired',\n",
       " 'ConvertedCompYearly',\n",
       " 'OfficeStackAsyncHaveWorkedWith',\n",
       " 'PlatformHaveWorkedWith',\n",
       " 'WebframeAdmired',\n",
       " 'OfficeStackSyncHaveWorkedWith',\n",
       " 'MiscTechAdmired',\n",
       " 'PlatformWantToWorkWith',\n",
       " 'DatabaseAdmired',\n",
       " 'OfficeStackAsyncWantToWorkWith',\n",
       " 'CompTotal',\n",
       " 'OfficeStackSyncWantToWorkWith',\n",
       " 'AISearchDevHaveWorkedWith',\n",
       " 'OfficeStackAsyncAdmired',\n",
       " 'PlatformAdmired',\n",
       " 'OfficeStackSyncAdmired',\n",
       " 'OpSysPersonal use',\n",
       " 'AISearchDevWantToWorkWith',\n",
       " 'OpSysProfessional use',\n",
       " 'AIToolInterested in Using',\n",
       " 'EmbeddedHaveWorkedWith',\n",
       " 'AIToolNot interested in Using',\n",
       " 'AISearchDevAdmired',\n",
       " 'EmbeddedWantToWorkWith',\n",
       " 'AIToolCurrently Using',\n",
       " 'EmbeddedAdmired',\n",
       " 'Frustration',\n",
       " 'AINextMore integrated',\n",
       " 'AINextMuch more integrated',\n",
       " 'AINextNo change',\n",
       " 'ProfessionalTech',\n",
       " 'LearnCode',\n",
       " 'TechEndorse',\n",
       " 'AINextMuch less integrated',\n",
       " 'AINextLess integrated',\n",
       " 'AIChallenges',\n",
       " 'BuyNewTool',\n",
       " 'Country',\n",
       " 'Currency',\n",
       " 'AIEthics',\n",
       " 'CodingActivities',\n",
       " 'TechDoc',\n",
       " 'AIBen',\n",
       " 'SOHow',\n",
       " 'Employment']"
      ]
     },
     "execution_count": 6,
     "metadata": {},
     "output_type": "execute_result"
    }
   ],
   "source": [
    "cols = df_hc[df_hc > 100].index.tolist()\n",
    "cols"
   ]
  },
  {
   "cell_type": "code",
   "execution_count": 7,
   "id": "eb06b7fb-ca2c-4dfd-97ed-0ec805e0bab7",
   "metadata": {},
   "outputs": [],
   "source": [
    "cols.remove(\"Country\")\n",
    "cols.remove(\"Employment\")\n",
    "cols.remove(\"ConvertedCompYearly\")"
   ]
  },
  {
   "cell_type": "code",
   "execution_count": 8,
   "id": "5add1ca0-33ef-4b33-bfce-41d93f21fb16",
   "metadata": {},
   "outputs": [
    {
     "data": {
      "text/plain": [
       "['LanguageHaveWorkedWith',\n",
       " 'LanguageWantToWorkWith',\n",
       " 'ToolsTechHaveWorkedWith',\n",
       " 'ToolsTechWantToWorkWith',\n",
       " 'NEWCollabToolsHaveWorkedWith',\n",
       " 'LanguageAdmired',\n",
       " 'WebframeHaveWorkedWith',\n",
       " 'ToolsTechAdmired',\n",
       " 'WebframeWantToWorkWith',\n",
       " 'LearnCodeOnline',\n",
       " 'MiscTechWantToWorkWith',\n",
       " 'NEWCollabToolsWantToWorkWith',\n",
       " 'MiscTechHaveWorkedWith',\n",
       " 'DatabaseHaveWorkedWith',\n",
       " 'DatabaseWantToWorkWith',\n",
       " 'NEWCollabToolsAdmired',\n",
       " 'OfficeStackAsyncHaveWorkedWith',\n",
       " 'PlatformHaveWorkedWith',\n",
       " 'WebframeAdmired',\n",
       " 'OfficeStackSyncHaveWorkedWith',\n",
       " 'MiscTechAdmired',\n",
       " 'PlatformWantToWorkWith',\n",
       " 'DatabaseAdmired',\n",
       " 'OfficeStackAsyncWantToWorkWith',\n",
       " 'CompTotal',\n",
       " 'OfficeStackSyncWantToWorkWith',\n",
       " 'AISearchDevHaveWorkedWith',\n",
       " 'OfficeStackAsyncAdmired',\n",
       " 'PlatformAdmired',\n",
       " 'OfficeStackSyncAdmired',\n",
       " 'OpSysPersonal use',\n",
       " 'AISearchDevWantToWorkWith',\n",
       " 'OpSysProfessional use',\n",
       " 'AIToolInterested in Using',\n",
       " 'EmbeddedHaveWorkedWith',\n",
       " 'AIToolNot interested in Using',\n",
       " 'AISearchDevAdmired',\n",
       " 'EmbeddedWantToWorkWith',\n",
       " 'AIToolCurrently Using',\n",
       " 'EmbeddedAdmired',\n",
       " 'Frustration',\n",
       " 'AINextMore integrated',\n",
       " 'AINextMuch more integrated',\n",
       " 'AINextNo change',\n",
       " 'ProfessionalTech',\n",
       " 'LearnCode',\n",
       " 'TechEndorse',\n",
       " 'AINextMuch less integrated',\n",
       " 'AINextLess integrated',\n",
       " 'AIChallenges',\n",
       " 'BuyNewTool',\n",
       " 'Currency',\n",
       " 'AIEthics',\n",
       " 'CodingActivities',\n",
       " 'TechDoc',\n",
       " 'AIBen',\n",
       " 'SOHow']"
      ]
     },
     "execution_count": 8,
     "metadata": {},
     "output_type": "execute_result"
    }
   ],
   "source": [
    "cols"
   ]
  },
  {
   "cell_type": "code",
   "execution_count": 9,
   "id": "e1d4aaef-b85d-4a1b-90c6-ade4cbfd70df",
   "metadata": {},
   "outputs": [
    {
     "data": {
      "text/plain": [
       "57"
      ]
     },
     "execution_count": 9,
     "metadata": {},
     "output_type": "execute_result"
    }
   ],
   "source": [
    "len(cols)"
   ]
  },
  {
   "cell_type": "code",
   "execution_count": 10,
   "id": "4f4ea3ee-e451-4f63-b54e-ea409ad05efe",
   "metadata": {},
   "outputs": [],
   "source": [
    "df.drop(columns=cols, inplace=True)"
   ]
  },
  {
   "cell_type": "code",
   "execution_count": 11,
   "id": "57ff7b67-a259-4454-8a32-7e9497da7c56",
   "metadata": {},
   "outputs": [
    {
     "data": {
      "text/html": [
       "<div>\n",
       "<style scoped>\n",
       "    .dataframe tbody tr th:only-of-type {\n",
       "        vertical-align: middle;\n",
       "    }\n",
       "\n",
       "    .dataframe tbody tr th {\n",
       "        vertical-align: top;\n",
       "    }\n",
       "\n",
       "    .dataframe thead th {\n",
       "        text-align: right;\n",
       "    }\n",
       "</style>\n",
       "<table border=\"1\" class=\"dataframe\">\n",
       "  <thead>\n",
       "    <tr style=\"text-align: right;\">\n",
       "      <th></th>\n",
       "      <th>MainBranch</th>\n",
       "      <th>Age</th>\n",
       "      <th>Employment</th>\n",
       "      <th>RemoteWork</th>\n",
       "      <th>Check</th>\n",
       "      <th>EdLevel</th>\n",
       "      <th>YearsCode</th>\n",
       "      <th>YearsCodePro</th>\n",
       "      <th>DevType</th>\n",
       "      <th>OrgSize</th>\n",
       "      <th>...</th>\n",
       "      <th>JobSatPoints_6</th>\n",
       "      <th>JobSatPoints_7</th>\n",
       "      <th>JobSatPoints_8</th>\n",
       "      <th>JobSatPoints_9</th>\n",
       "      <th>JobSatPoints_10</th>\n",
       "      <th>JobSatPoints_11</th>\n",
       "      <th>SurveyLength</th>\n",
       "      <th>SurveyEase</th>\n",
       "      <th>ConvertedCompYearly</th>\n",
       "      <th>JobSat</th>\n",
       "    </tr>\n",
       "    <tr>\n",
       "      <th>ResponseId</th>\n",
       "      <th></th>\n",
       "      <th></th>\n",
       "      <th></th>\n",
       "      <th></th>\n",
       "      <th></th>\n",
       "      <th></th>\n",
       "      <th></th>\n",
       "      <th></th>\n",
       "      <th></th>\n",
       "      <th></th>\n",
       "      <th></th>\n",
       "      <th></th>\n",
       "      <th></th>\n",
       "      <th></th>\n",
       "      <th></th>\n",
       "      <th></th>\n",
       "      <th></th>\n",
       "      <th></th>\n",
       "      <th></th>\n",
       "      <th></th>\n",
       "      <th></th>\n",
       "    </tr>\n",
       "  </thead>\n",
       "  <tbody>\n",
       "    <tr>\n",
       "      <th>1</th>\n",
       "      <td>I am a developer by profession</td>\n",
       "      <td>Under 18 years old</td>\n",
       "      <td>Employed, full-time</td>\n",
       "      <td>Remote</td>\n",
       "      <td>Apples</td>\n",
       "      <td>Primary/elementary school</td>\n",
       "      <td>NaN</td>\n",
       "      <td>NaN</td>\n",
       "      <td>NaN</td>\n",
       "      <td>NaN</td>\n",
       "      <td>...</td>\n",
       "      <td>NaN</td>\n",
       "      <td>NaN</td>\n",
       "      <td>NaN</td>\n",
       "      <td>NaN</td>\n",
       "      <td>NaN</td>\n",
       "      <td>NaN</td>\n",
       "      <td>NaN</td>\n",
       "      <td>NaN</td>\n",
       "      <td>NaN</td>\n",
       "      <td>NaN</td>\n",
       "    </tr>\n",
       "    <tr>\n",
       "      <th>2</th>\n",
       "      <td>I am a developer by profession</td>\n",
       "      <td>35-44 years old</td>\n",
       "      <td>Employed, full-time</td>\n",
       "      <td>Remote</td>\n",
       "      <td>Apples</td>\n",
       "      <td>Bachelor’s degree (B.A., B.S., B.Eng., etc.)</td>\n",
       "      <td>20</td>\n",
       "      <td>17</td>\n",
       "      <td>Developer, full-stack</td>\n",
       "      <td>NaN</td>\n",
       "      <td>...</td>\n",
       "      <td>0.0</td>\n",
       "      <td>0.0</td>\n",
       "      <td>0.0</td>\n",
       "      <td>0.0</td>\n",
       "      <td>0.0</td>\n",
       "      <td>0.0</td>\n",
       "      <td>NaN</td>\n",
       "      <td>NaN</td>\n",
       "      <td>NaN</td>\n",
       "      <td>NaN</td>\n",
       "    </tr>\n",
       "    <tr>\n",
       "      <th>3</th>\n",
       "      <td>I am a developer by profession</td>\n",
       "      <td>45-54 years old</td>\n",
       "      <td>Employed, full-time</td>\n",
       "      <td>Remote</td>\n",
       "      <td>Apples</td>\n",
       "      <td>Master’s degree (M.A., M.S., M.Eng., MBA, etc.)</td>\n",
       "      <td>37</td>\n",
       "      <td>27</td>\n",
       "      <td>Developer Experience</td>\n",
       "      <td>NaN</td>\n",
       "      <td>...</td>\n",
       "      <td>NaN</td>\n",
       "      <td>NaN</td>\n",
       "      <td>NaN</td>\n",
       "      <td>NaN</td>\n",
       "      <td>NaN</td>\n",
       "      <td>NaN</td>\n",
       "      <td>Appropriate in length</td>\n",
       "      <td>Easy</td>\n",
       "      <td>NaN</td>\n",
       "      <td>NaN</td>\n",
       "    </tr>\n",
       "    <tr>\n",
       "      <th>4</th>\n",
       "      <td>I am learning to code</td>\n",
       "      <td>18-24 years old</td>\n",
       "      <td>Student, full-time</td>\n",
       "      <td>NaN</td>\n",
       "      <td>Apples</td>\n",
       "      <td>Some college/university study without earning ...</td>\n",
       "      <td>4</td>\n",
       "      <td>NaN</td>\n",
       "      <td>Developer, full-stack</td>\n",
       "      <td>NaN</td>\n",
       "      <td>...</td>\n",
       "      <td>NaN</td>\n",
       "      <td>NaN</td>\n",
       "      <td>NaN</td>\n",
       "      <td>NaN</td>\n",
       "      <td>NaN</td>\n",
       "      <td>NaN</td>\n",
       "      <td>Too long</td>\n",
       "      <td>Easy</td>\n",
       "      <td>NaN</td>\n",
       "      <td>NaN</td>\n",
       "    </tr>\n",
       "    <tr>\n",
       "      <th>5</th>\n",
       "      <td>I am a developer by profession</td>\n",
       "      <td>18-24 years old</td>\n",
       "      <td>Student, full-time</td>\n",
       "      <td>NaN</td>\n",
       "      <td>Apples</td>\n",
       "      <td>Secondary school (e.g. American high school, G...</td>\n",
       "      <td>9</td>\n",
       "      <td>NaN</td>\n",
       "      <td>Developer, full-stack</td>\n",
       "      <td>NaN</td>\n",
       "      <td>...</td>\n",
       "      <td>NaN</td>\n",
       "      <td>NaN</td>\n",
       "      <td>NaN</td>\n",
       "      <td>NaN</td>\n",
       "      <td>NaN</td>\n",
       "      <td>NaN</td>\n",
       "      <td>Too short</td>\n",
       "      <td>Easy</td>\n",
       "      <td>NaN</td>\n",
       "      <td>NaN</td>\n",
       "    </tr>\n",
       "  </tbody>\n",
       "</table>\n",
       "<p>5 rows × 56 columns</p>\n",
       "</div>"
      ],
      "text/plain": [
       "                                MainBranch                 Age  \\\n",
       "ResponseId                                                       \n",
       "1           I am a developer by profession  Under 18 years old   \n",
       "2           I am a developer by profession     35-44 years old   \n",
       "3           I am a developer by profession     45-54 years old   \n",
       "4                    I am learning to code     18-24 years old   \n",
       "5           I am a developer by profession     18-24 years old   \n",
       "\n",
       "                     Employment RemoteWork   Check  \\\n",
       "ResponseId                                           \n",
       "1           Employed, full-time     Remote  Apples   \n",
       "2           Employed, full-time     Remote  Apples   \n",
       "3           Employed, full-time     Remote  Apples   \n",
       "4            Student, full-time        NaN  Apples   \n",
       "5            Student, full-time        NaN  Apples   \n",
       "\n",
       "                                                      EdLevel YearsCode  \\\n",
       "ResponseId                                                                \n",
       "1                                   Primary/elementary school       NaN   \n",
       "2                Bachelor’s degree (B.A., B.S., B.Eng., etc.)        20   \n",
       "3             Master’s degree (M.A., M.S., M.Eng., MBA, etc.)        37   \n",
       "4           Some college/university study without earning ...         4   \n",
       "5           Secondary school (e.g. American high school, G...         9   \n",
       "\n",
       "           YearsCodePro                DevType OrgSize  ... JobSatPoints_6  \\\n",
       "ResponseId                                              ...                  \n",
       "1                   NaN                    NaN     NaN  ...            NaN   \n",
       "2                    17  Developer, full-stack     NaN  ...            0.0   \n",
       "3                    27   Developer Experience     NaN  ...            NaN   \n",
       "4                   NaN  Developer, full-stack     NaN  ...            NaN   \n",
       "5                   NaN  Developer, full-stack     NaN  ...            NaN   \n",
       "\n",
       "           JobSatPoints_7 JobSatPoints_8 JobSatPoints_9 JobSatPoints_10  \\\n",
       "ResponseId                                                                \n",
       "1                     NaN            NaN            NaN             NaN   \n",
       "2                     0.0            0.0            0.0             0.0   \n",
       "3                     NaN            NaN            NaN             NaN   \n",
       "4                     NaN            NaN            NaN             NaN   \n",
       "5                     NaN            NaN            NaN             NaN   \n",
       "\n",
       "           JobSatPoints_11           SurveyLength SurveyEase  \\\n",
       "ResponseId                                                     \n",
       "1                      NaN                    NaN        NaN   \n",
       "2                      0.0                    NaN        NaN   \n",
       "3                      NaN  Appropriate in length       Easy   \n",
       "4                      NaN               Too long       Easy   \n",
       "5                      NaN              Too short       Easy   \n",
       "\n",
       "           ConvertedCompYearly JobSat  \n",
       "ResponseId                             \n",
       "1                          NaN    NaN  \n",
       "2                          NaN    NaN  \n",
       "3                          NaN    NaN  \n",
       "4                          NaN    NaN  \n",
       "5                          NaN    NaN  \n",
       "\n",
       "[5 rows x 56 columns]"
      ]
     },
     "execution_count": 11,
     "metadata": {},
     "output_type": "execute_result"
    }
   ],
   "source": [
    "df.head()"
   ]
  },
  {
   "cell_type": "code",
   "execution_count": 12,
   "id": "85c0b573-0a0e-4b78-ad55-3db4cbf02935",
   "metadata": {},
   "outputs": [
    {
     "name": "stdout",
     "output_type": "stream",
     "text": [
      "<class 'pandas.core.frame.DataFrame'>\n",
      "Index: 65437 entries, 1 to 65437\n",
      "Data columns (total 56 columns):\n",
      " #   Column                Non-Null Count  Dtype  \n",
      "---  ------                --------------  -----  \n",
      " 0   MainBranch            65437 non-null  object \n",
      " 1   Age                   65437 non-null  object \n",
      " 2   Employment            65437 non-null  object \n",
      " 3   RemoteWork            54806 non-null  object \n",
      " 4   Check                 65437 non-null  object \n",
      " 5   EdLevel               60784 non-null  object \n",
      " 6   YearsCode             59869 non-null  object \n",
      " 7   YearsCodePro          51610 non-null  object \n",
      " 8   DevType               59445 non-null  object \n",
      " 9   OrgSize               47480 non-null  object \n",
      " 10  PurchaseInfluence     47406 non-null  object \n",
      " 11  BuildvsBuy            43358 non-null  object \n",
      " 12  Country               58930 non-null  object \n",
      " 13  NEWSOSites            60286 non-null  object \n",
      " 14  SOVisitFreq           59536 non-null  object \n",
      " 15  SOAccount             59560 non-null  object \n",
      " 16  SOPartFreq            45237 non-null  object \n",
      " 17  SOComm                59163 non-null  object \n",
      " 18  AISelect              60907 non-null  object \n",
      " 19  AISent                45873 non-null  object \n",
      " 20  AIAcc                 37302 non-null  object \n",
      " 21  AIComplex             37021 non-null  object \n",
      " 22  AIThreat              44689 non-null  object \n",
      " 23  TBranch               44477 non-null  object \n",
      " 24  ICorPM                29801 non-null  object \n",
      " 25  WorkExp               29658 non-null  float64\n",
      " 26  Knowledge_1           28664 non-null  object \n",
      " 27  Knowledge_2           28021 non-null  object \n",
      " 28  Knowledge_3           28095 non-null  object \n",
      " 29  Knowledge_4           28030 non-null  object \n",
      " 30  Knowledge_5           27880 non-null  object \n",
      " 31  Knowledge_6           27864 non-null  object \n",
      " 32  Knowledge_7           27778 non-null  object \n",
      " 33  Knowledge_8           27758 non-null  object \n",
      " 34  Knowledge_9           27635 non-null  object \n",
      " 35  Frequency_1           28369 non-null  object \n",
      " 36  Frequency_2           28364 non-null  object \n",
      " 37  Frequency_3           27710 non-null  object \n",
      " 38  TimeSearching         28911 non-null  object \n",
      " 39  TimeAnswering         28844 non-null  object \n",
      " 40  ProfessionalCloud     28491 non-null  object \n",
      " 41  ProfessionalQuestion  28807 non-null  object \n",
      " 42  Industry              28858 non-null  object \n",
      " 43  JobSatPoints_1        29324 non-null  float64\n",
      " 44  JobSatPoints_4        29393 non-null  float64\n",
      " 45  JobSatPoints_5        29411 non-null  float64\n",
      " 46  JobSatPoints_6        29450 non-null  float64\n",
      " 47  JobSatPoints_7        29448 non-null  float64\n",
      " 48  JobSatPoints_8        29456 non-null  float64\n",
      " 49  JobSatPoints_9        29456 non-null  float64\n",
      " 50  JobSatPoints_10       29450 non-null  float64\n",
      " 51  JobSatPoints_11       29445 non-null  float64\n",
      " 52  SurveyLength          56182 non-null  object \n",
      " 53  SurveyEase            56238 non-null  object \n",
      " 54  ConvertedCompYearly   23435 non-null  float64\n",
      " 55  JobSat                29126 non-null  float64\n",
      "dtypes: float64(12), object(44)\n",
      "memory usage: 28.5+ MB\n"
     ]
    }
   ],
   "source": [
    "df.info()"
   ]
  },
  {
   "cell_type": "code",
   "execution_count": 13,
   "id": "22e5f9fa-c29c-456a-844e-4c6d5f3c5d5e",
   "metadata": {},
   "outputs": [],
   "source": [
    "df_null = df.isnull().sum().sort_values(ascending=False)"
   ]
  },
  {
   "cell_type": "code",
   "execution_count": 14,
   "id": "63633c35-9fea-4e39-862f-7569a33323aa",
   "metadata": {},
   "outputs": [
    {
     "data": {
      "text/plain": [
       "['Knowledge_9',\n",
       " 'Frequency_3',\n",
       " 'Knowledge_8',\n",
       " 'Knowledge_7',\n",
       " 'Knowledge_6',\n",
       " 'Knowledge_5',\n",
       " 'Knowledge_2',\n",
       " 'Knowledge_4',\n",
       " 'Knowledge_3',\n",
       " 'Frequency_2',\n",
       " 'Frequency_1',\n",
       " 'ProfessionalCloud',\n",
       " 'Knowledge_1',\n",
       " 'ProfessionalQuestion',\n",
       " 'TimeAnswering',\n",
       " 'Industry',\n",
       " 'TimeSearching',\n",
       " 'JobSat',\n",
       " 'JobSatPoints_1',\n",
       " 'JobSatPoints_4',\n",
       " 'JobSatPoints_5',\n",
       " 'JobSatPoints_11',\n",
       " 'JobSatPoints_7',\n",
       " 'JobSatPoints_6',\n",
       " 'JobSatPoints_10',\n",
       " 'JobSatPoints_8',\n",
       " 'JobSatPoints_9',\n",
       " 'WorkExp',\n",
       " 'ICorPM']"
      ]
     },
     "execution_count": 14,
     "metadata": {},
     "output_type": "execute_result"
    }
   ],
   "source": [
    "drop_cols = df_null[df_null > (len(df.index)/2)].index.tolist()\n",
    "drop_cols.remove(\"ConvertedCompYearly\")\n",
    "drop_cols"
   ]
  },
  {
   "cell_type": "code",
   "execution_count": 15,
   "id": "e8177e6a-6e8d-4c37-9036-d454460485b6",
   "metadata": {},
   "outputs": [],
   "source": [
    "df.drop(columns=drop_cols, inplace=True)"
   ]
  },
  {
   "cell_type": "code",
   "execution_count": 16,
   "id": "d1f2036e-9011-48fe-9bd6-bd8154d22b76",
   "metadata": {},
   "outputs": [
    {
     "data": {
      "text/html": [
       "<div>\n",
       "<style scoped>\n",
       "    .dataframe tbody tr th:only-of-type {\n",
       "        vertical-align: middle;\n",
       "    }\n",
       "\n",
       "    .dataframe tbody tr th {\n",
       "        vertical-align: top;\n",
       "    }\n",
       "\n",
       "    .dataframe thead th {\n",
       "        text-align: right;\n",
       "    }\n",
       "</style>\n",
       "<table border=\"1\" class=\"dataframe\">\n",
       "  <thead>\n",
       "    <tr style=\"text-align: right;\">\n",
       "      <th></th>\n",
       "      <th>MainBranch</th>\n",
       "      <th>Age</th>\n",
       "      <th>Employment</th>\n",
       "      <th>RemoteWork</th>\n",
       "      <th>Check</th>\n",
       "      <th>EdLevel</th>\n",
       "      <th>YearsCode</th>\n",
       "      <th>YearsCodePro</th>\n",
       "      <th>DevType</th>\n",
       "      <th>OrgSize</th>\n",
       "      <th>...</th>\n",
       "      <th>SOComm</th>\n",
       "      <th>AISelect</th>\n",
       "      <th>AISent</th>\n",
       "      <th>AIAcc</th>\n",
       "      <th>AIComplex</th>\n",
       "      <th>AIThreat</th>\n",
       "      <th>TBranch</th>\n",
       "      <th>SurveyLength</th>\n",
       "      <th>SurveyEase</th>\n",
       "      <th>ConvertedCompYearly</th>\n",
       "    </tr>\n",
       "    <tr>\n",
       "      <th>ResponseId</th>\n",
       "      <th></th>\n",
       "      <th></th>\n",
       "      <th></th>\n",
       "      <th></th>\n",
       "      <th></th>\n",
       "      <th></th>\n",
       "      <th></th>\n",
       "      <th></th>\n",
       "      <th></th>\n",
       "      <th></th>\n",
       "      <th></th>\n",
       "      <th></th>\n",
       "      <th></th>\n",
       "      <th></th>\n",
       "      <th></th>\n",
       "      <th></th>\n",
       "      <th></th>\n",
       "      <th></th>\n",
       "      <th></th>\n",
       "      <th></th>\n",
       "      <th></th>\n",
       "    </tr>\n",
       "  </thead>\n",
       "  <tbody>\n",
       "    <tr>\n",
       "      <th>1</th>\n",
       "      <td>I am a developer by profession</td>\n",
       "      <td>Under 18 years old</td>\n",
       "      <td>Employed, full-time</td>\n",
       "      <td>Remote</td>\n",
       "      <td>Apples</td>\n",
       "      <td>Primary/elementary school</td>\n",
       "      <td>NaN</td>\n",
       "      <td>NaN</td>\n",
       "      <td>NaN</td>\n",
       "      <td>NaN</td>\n",
       "      <td>...</td>\n",
       "      <td>NaN</td>\n",
       "      <td>Yes</td>\n",
       "      <td>Very favorable</td>\n",
       "      <td>NaN</td>\n",
       "      <td>NaN</td>\n",
       "      <td>NaN</td>\n",
       "      <td>No</td>\n",
       "      <td>NaN</td>\n",
       "      <td>NaN</td>\n",
       "      <td>NaN</td>\n",
       "    </tr>\n",
       "    <tr>\n",
       "      <th>2</th>\n",
       "      <td>I am a developer by profession</td>\n",
       "      <td>35-44 years old</td>\n",
       "      <td>Employed, full-time</td>\n",
       "      <td>Remote</td>\n",
       "      <td>Apples</td>\n",
       "      <td>Bachelor’s degree (B.A., B.S., B.Eng., etc.)</td>\n",
       "      <td>20</td>\n",
       "      <td>17</td>\n",
       "      <td>Developer, full-stack</td>\n",
       "      <td>NaN</td>\n",
       "      <td>...</td>\n",
       "      <td>Yes, definitely</td>\n",
       "      <td>No, and I don't plan to</td>\n",
       "      <td>NaN</td>\n",
       "      <td>NaN</td>\n",
       "      <td>NaN</td>\n",
       "      <td>NaN</td>\n",
       "      <td>Yes</td>\n",
       "      <td>NaN</td>\n",
       "      <td>NaN</td>\n",
       "      <td>NaN</td>\n",
       "    </tr>\n",
       "    <tr>\n",
       "      <th>3</th>\n",
       "      <td>I am a developer by profession</td>\n",
       "      <td>45-54 years old</td>\n",
       "      <td>Employed, full-time</td>\n",
       "      <td>Remote</td>\n",
       "      <td>Apples</td>\n",
       "      <td>Master’s degree (M.A., M.S., M.Eng., MBA, etc.)</td>\n",
       "      <td>37</td>\n",
       "      <td>27</td>\n",
       "      <td>Developer Experience</td>\n",
       "      <td>NaN</td>\n",
       "      <td>...</td>\n",
       "      <td>Yes, definitely</td>\n",
       "      <td>No, and I don't plan to</td>\n",
       "      <td>NaN</td>\n",
       "      <td>NaN</td>\n",
       "      <td>NaN</td>\n",
       "      <td>NaN</td>\n",
       "      <td>No</td>\n",
       "      <td>Appropriate in length</td>\n",
       "      <td>Easy</td>\n",
       "      <td>NaN</td>\n",
       "    </tr>\n",
       "    <tr>\n",
       "      <th>4</th>\n",
       "      <td>I am learning to code</td>\n",
       "      <td>18-24 years old</td>\n",
       "      <td>Student, full-time</td>\n",
       "      <td>NaN</td>\n",
       "      <td>Apples</td>\n",
       "      <td>Some college/university study without earning ...</td>\n",
       "      <td>4</td>\n",
       "      <td>NaN</td>\n",
       "      <td>Developer, full-stack</td>\n",
       "      <td>NaN</td>\n",
       "      <td>...</td>\n",
       "      <td>No, not really</td>\n",
       "      <td>Yes</td>\n",
       "      <td>Very favorable</td>\n",
       "      <td>Somewhat trust</td>\n",
       "      <td>Bad at handling complex tasks</td>\n",
       "      <td>No</td>\n",
       "      <td>NaN</td>\n",
       "      <td>Too long</td>\n",
       "      <td>Easy</td>\n",
       "      <td>NaN</td>\n",
       "    </tr>\n",
       "    <tr>\n",
       "      <th>5</th>\n",
       "      <td>I am a developer by profession</td>\n",
       "      <td>18-24 years old</td>\n",
       "      <td>Student, full-time</td>\n",
       "      <td>NaN</td>\n",
       "      <td>Apples</td>\n",
       "      <td>Secondary school (e.g. American high school, G...</td>\n",
       "      <td>9</td>\n",
       "      <td>NaN</td>\n",
       "      <td>Developer, full-stack</td>\n",
       "      <td>NaN</td>\n",
       "      <td>...</td>\n",
       "      <td>Yes, definitely</td>\n",
       "      <td>No, and I don't plan to</td>\n",
       "      <td>NaN</td>\n",
       "      <td>NaN</td>\n",
       "      <td>NaN</td>\n",
       "      <td>NaN</td>\n",
       "      <td>NaN</td>\n",
       "      <td>Too short</td>\n",
       "      <td>Easy</td>\n",
       "      <td>NaN</td>\n",
       "    </tr>\n",
       "  </tbody>\n",
       "</table>\n",
       "<p>5 rows × 27 columns</p>\n",
       "</div>"
      ],
      "text/plain": [
       "                                MainBranch                 Age  \\\n",
       "ResponseId                                                       \n",
       "1           I am a developer by profession  Under 18 years old   \n",
       "2           I am a developer by profession     35-44 years old   \n",
       "3           I am a developer by profession     45-54 years old   \n",
       "4                    I am learning to code     18-24 years old   \n",
       "5           I am a developer by profession     18-24 years old   \n",
       "\n",
       "                     Employment RemoteWork   Check  \\\n",
       "ResponseId                                           \n",
       "1           Employed, full-time     Remote  Apples   \n",
       "2           Employed, full-time     Remote  Apples   \n",
       "3           Employed, full-time     Remote  Apples   \n",
       "4            Student, full-time        NaN  Apples   \n",
       "5            Student, full-time        NaN  Apples   \n",
       "\n",
       "                                                      EdLevel YearsCode  \\\n",
       "ResponseId                                                                \n",
       "1                                   Primary/elementary school       NaN   \n",
       "2                Bachelor’s degree (B.A., B.S., B.Eng., etc.)        20   \n",
       "3             Master’s degree (M.A., M.S., M.Eng., MBA, etc.)        37   \n",
       "4           Some college/university study without earning ...         4   \n",
       "5           Secondary school (e.g. American high school, G...         9   \n",
       "\n",
       "           YearsCodePro                DevType OrgSize  ...           SOComm  \\\n",
       "ResponseId                                              ...                    \n",
       "1                   NaN                    NaN     NaN  ...              NaN   \n",
       "2                    17  Developer, full-stack     NaN  ...  Yes, definitely   \n",
       "3                    27   Developer Experience     NaN  ...  Yes, definitely   \n",
       "4                   NaN  Developer, full-stack     NaN  ...   No, not really   \n",
       "5                   NaN  Developer, full-stack     NaN  ...  Yes, definitely   \n",
       "\n",
       "                           AISelect          AISent           AIAcc  \\\n",
       "ResponseId                                                            \n",
       "1                               Yes  Very favorable             NaN   \n",
       "2           No, and I don't plan to             NaN             NaN   \n",
       "3           No, and I don't plan to             NaN             NaN   \n",
       "4                               Yes  Very favorable  Somewhat trust   \n",
       "5           No, and I don't plan to             NaN             NaN   \n",
       "\n",
       "                                AIComplex AIThreat TBranch  \\\n",
       "ResponseId                                                   \n",
       "1                                     NaN      NaN      No   \n",
       "2                                     NaN      NaN     Yes   \n",
       "3                                     NaN      NaN      No   \n",
       "4           Bad at handling complex tasks       No     NaN   \n",
       "5                                     NaN      NaN     NaN   \n",
       "\n",
       "                     SurveyLength SurveyEase ConvertedCompYearly  \n",
       "ResponseId                                                        \n",
       "1                             NaN        NaN                 NaN  \n",
       "2                             NaN        NaN                 NaN  \n",
       "3           Appropriate in length       Easy                 NaN  \n",
       "4                        Too long       Easy                 NaN  \n",
       "5                       Too short       Easy                 NaN  \n",
       "\n",
       "[5 rows x 27 columns]"
      ]
     },
     "execution_count": 16,
     "metadata": {},
     "output_type": "execute_result"
    }
   ],
   "source": [
    "df.head()"
   ]
  },
  {
   "cell_type": "code",
   "execution_count": 17,
   "id": "2bb50f31-908f-47ff-bbf8-d6c70bb036e6",
   "metadata": {},
   "outputs": [
    {
     "name": "stdout",
     "output_type": "stream",
     "text": [
      "<class 'pandas.core.frame.DataFrame'>\n",
      "Index: 65437 entries, 1 to 65437\n",
      "Data columns (total 27 columns):\n",
      " #   Column               Non-Null Count  Dtype  \n",
      "---  ------               --------------  -----  \n",
      " 0   MainBranch           65437 non-null  object \n",
      " 1   Age                  65437 non-null  object \n",
      " 2   Employment           65437 non-null  object \n",
      " 3   RemoteWork           54806 non-null  object \n",
      " 4   Check                65437 non-null  object \n",
      " 5   EdLevel              60784 non-null  object \n",
      " 6   YearsCode            59869 non-null  object \n",
      " 7   YearsCodePro         51610 non-null  object \n",
      " 8   DevType              59445 non-null  object \n",
      " 9   OrgSize              47480 non-null  object \n",
      " 10  PurchaseInfluence    47406 non-null  object \n",
      " 11  BuildvsBuy           43358 non-null  object \n",
      " 12  Country              58930 non-null  object \n",
      " 13  NEWSOSites           60286 non-null  object \n",
      " 14  SOVisitFreq          59536 non-null  object \n",
      " 15  SOAccount            59560 non-null  object \n",
      " 16  SOPartFreq           45237 non-null  object \n",
      " 17  SOComm               59163 non-null  object \n",
      " 18  AISelect             60907 non-null  object \n",
      " 19  AISent               45873 non-null  object \n",
      " 20  AIAcc                37302 non-null  object \n",
      " 21  AIComplex            37021 non-null  object \n",
      " 22  AIThreat             44689 non-null  object \n",
      " 23  TBranch              44477 non-null  object \n",
      " 24  SurveyLength         56182 non-null  object \n",
      " 25  SurveyEase           56238 non-null  object \n",
      " 26  ConvertedCompYearly  23435 non-null  float64\n",
      "dtypes: float64(1), object(26)\n",
      "memory usage: 14.0+ MB\n"
     ]
    }
   ],
   "source": [
    "df.info()"
   ]
  },
  {
   "cell_type": "code",
   "execution_count": 18,
   "id": "88075f51-4a0e-4533-b527-ce6d2902b50b",
   "metadata": {},
   "outputs": [],
   "source": [
    "unness_cols = [\"Check\", \"DevType\", \"PurchaseInfluence\", \"BuildvsBuy\", \"NEWSOSites\", \"SOVisitFreq\", \"SOAccount\", \"SOPartFreq\",           \n",
    "\"SOComm\", \"AISelect\", \"AISent\", \"AIAcc\", \"AIComplex\", \"AIThreat\", \"TBranch\", \"SurveyLength\", \"SurveyEase\", \"MainBranch\"]"
   ]
  },
  {
   "cell_type": "code",
   "execution_count": 19,
   "id": "6ec5b67b-ec77-4459-b9aa-7feafc11ee15",
   "metadata": {},
   "outputs": [],
   "source": [
    "df.drop(columns=unness_cols, inplace=True)"
   ]
  },
  {
   "cell_type": "code",
   "execution_count": 20,
   "id": "960639eb-45f1-4719-911d-9f6b1579fada",
   "metadata": {},
   "outputs": [
    {
     "data": {
      "text/html": [
       "<div>\n",
       "<style scoped>\n",
       "    .dataframe tbody tr th:only-of-type {\n",
       "        vertical-align: middle;\n",
       "    }\n",
       "\n",
       "    .dataframe tbody tr th {\n",
       "        vertical-align: top;\n",
       "    }\n",
       "\n",
       "    .dataframe thead th {\n",
       "        text-align: right;\n",
       "    }\n",
       "</style>\n",
       "<table border=\"1\" class=\"dataframe\">\n",
       "  <thead>\n",
       "    <tr style=\"text-align: right;\">\n",
       "      <th></th>\n",
       "      <th>Age</th>\n",
       "      <th>Employment</th>\n",
       "      <th>RemoteWork</th>\n",
       "      <th>EdLevel</th>\n",
       "      <th>YearsCode</th>\n",
       "      <th>YearsCodePro</th>\n",
       "      <th>OrgSize</th>\n",
       "      <th>Country</th>\n",
       "      <th>ConvertedCompYearly</th>\n",
       "    </tr>\n",
       "    <tr>\n",
       "      <th>ResponseId</th>\n",
       "      <th></th>\n",
       "      <th></th>\n",
       "      <th></th>\n",
       "      <th></th>\n",
       "      <th></th>\n",
       "      <th></th>\n",
       "      <th></th>\n",
       "      <th></th>\n",
       "      <th></th>\n",
       "    </tr>\n",
       "  </thead>\n",
       "  <tbody>\n",
       "    <tr>\n",
       "      <th>1</th>\n",
       "      <td>Under 18 years old</td>\n",
       "      <td>Employed, full-time</td>\n",
       "      <td>Remote</td>\n",
       "      <td>Primary/elementary school</td>\n",
       "      <td>NaN</td>\n",
       "      <td>NaN</td>\n",
       "      <td>NaN</td>\n",
       "      <td>United States of America</td>\n",
       "      <td>NaN</td>\n",
       "    </tr>\n",
       "    <tr>\n",
       "      <th>2</th>\n",
       "      <td>35-44 years old</td>\n",
       "      <td>Employed, full-time</td>\n",
       "      <td>Remote</td>\n",
       "      <td>Bachelor’s degree (B.A., B.S., B.Eng., etc.)</td>\n",
       "      <td>20</td>\n",
       "      <td>17</td>\n",
       "      <td>NaN</td>\n",
       "      <td>United Kingdom of Great Britain and Northern I...</td>\n",
       "      <td>NaN</td>\n",
       "    </tr>\n",
       "    <tr>\n",
       "      <th>3</th>\n",
       "      <td>45-54 years old</td>\n",
       "      <td>Employed, full-time</td>\n",
       "      <td>Remote</td>\n",
       "      <td>Master’s degree (M.A., M.S., M.Eng., MBA, etc.)</td>\n",
       "      <td>37</td>\n",
       "      <td>27</td>\n",
       "      <td>NaN</td>\n",
       "      <td>United Kingdom of Great Britain and Northern I...</td>\n",
       "      <td>NaN</td>\n",
       "    </tr>\n",
       "    <tr>\n",
       "      <th>4</th>\n",
       "      <td>18-24 years old</td>\n",
       "      <td>Student, full-time</td>\n",
       "      <td>NaN</td>\n",
       "      <td>Some college/university study without earning ...</td>\n",
       "      <td>4</td>\n",
       "      <td>NaN</td>\n",
       "      <td>NaN</td>\n",
       "      <td>Canada</td>\n",
       "      <td>NaN</td>\n",
       "    </tr>\n",
       "    <tr>\n",
       "      <th>5</th>\n",
       "      <td>18-24 years old</td>\n",
       "      <td>Student, full-time</td>\n",
       "      <td>NaN</td>\n",
       "      <td>Secondary school (e.g. American high school, G...</td>\n",
       "      <td>9</td>\n",
       "      <td>NaN</td>\n",
       "      <td>NaN</td>\n",
       "      <td>Norway</td>\n",
       "      <td>NaN</td>\n",
       "    </tr>\n",
       "  </tbody>\n",
       "</table>\n",
       "</div>"
      ],
      "text/plain": [
       "                           Age           Employment RemoteWork  \\\n",
       "ResponseId                                                       \n",
       "1           Under 18 years old  Employed, full-time     Remote   \n",
       "2              35-44 years old  Employed, full-time     Remote   \n",
       "3              45-54 years old  Employed, full-time     Remote   \n",
       "4              18-24 years old   Student, full-time        NaN   \n",
       "5              18-24 years old   Student, full-time        NaN   \n",
       "\n",
       "                                                      EdLevel YearsCode  \\\n",
       "ResponseId                                                                \n",
       "1                                   Primary/elementary school       NaN   \n",
       "2                Bachelor’s degree (B.A., B.S., B.Eng., etc.)        20   \n",
       "3             Master’s degree (M.A., M.S., M.Eng., MBA, etc.)        37   \n",
       "4           Some college/university study without earning ...         4   \n",
       "5           Secondary school (e.g. American high school, G...         9   \n",
       "\n",
       "           YearsCodePro OrgSize  \\\n",
       "ResponseId                        \n",
       "1                   NaN     NaN   \n",
       "2                    17     NaN   \n",
       "3                    27     NaN   \n",
       "4                   NaN     NaN   \n",
       "5                   NaN     NaN   \n",
       "\n",
       "                                                      Country  \\\n",
       "ResponseId                                                      \n",
       "1                                    United States of America   \n",
       "2           United Kingdom of Great Britain and Northern I...   \n",
       "3           United Kingdom of Great Britain and Northern I...   \n",
       "4                                                      Canada   \n",
       "5                                                      Norway   \n",
       "\n",
       "            ConvertedCompYearly  \n",
       "ResponseId                       \n",
       "1                           NaN  \n",
       "2                           NaN  \n",
       "3                           NaN  \n",
       "4                           NaN  \n",
       "5                           NaN  "
      ]
     },
     "execution_count": 20,
     "metadata": {},
     "output_type": "execute_result"
    }
   ],
   "source": [
    "df.head()"
   ]
  },
  {
   "cell_type": "code",
   "execution_count": 21,
   "id": "5e218cda-5f96-460d-adaf-e20676ca4b1e",
   "metadata": {},
   "outputs": [],
   "source": [
    "df = df[df[\"ConvertedCompYearly\"].notnull()]"
   ]
  },
  {
   "cell_type": "code",
   "execution_count": 22,
   "id": "44a914c0-39ea-4418-8488-0aac7e68f7ed",
   "metadata": {},
   "outputs": [
    {
     "name": "stdout",
     "output_type": "stream",
     "text": [
      "<class 'pandas.core.frame.DataFrame'>\n",
      "Index: 23435 entries, 73 to 41188\n",
      "Data columns (total 9 columns):\n",
      " #   Column               Non-Null Count  Dtype  \n",
      "---  ------               --------------  -----  \n",
      " 0   Age                  23435 non-null  object \n",
      " 1   Employment           23435 non-null  object \n",
      " 2   RemoteWork           23427 non-null  object \n",
      " 3   EdLevel              23435 non-null  object \n",
      " 4   YearsCode            23388 non-null  object \n",
      " 5   YearsCodePro         23345 non-null  object \n",
      " 6   OrgSize              23410 non-null  object \n",
      " 7   Country              23435 non-null  object \n",
      " 8   ConvertedCompYearly  23435 non-null  float64\n",
      "dtypes: float64(1), object(8)\n",
      "memory usage: 1.8+ MB\n"
     ]
    }
   ],
   "source": [
    "df.info()"
   ]
  },
  {
   "cell_type": "code",
   "execution_count": 23,
   "id": "b5197222-4790-43bd-8799-e6060314520a",
   "metadata": {},
   "outputs": [
    {
     "data": {
      "text/plain": [
       "YearsCodePro           90\n",
       "YearsCode              47\n",
       "OrgSize                25\n",
       "RemoteWork              8\n",
       "Age                     0\n",
       "Employment              0\n",
       "EdLevel                 0\n",
       "Country                 0\n",
       "ConvertedCompYearly     0\n",
       "dtype: int64"
      ]
     },
     "execution_count": 23,
     "metadata": {},
     "output_type": "execute_result"
    }
   ],
   "source": [
    "df.isnull().sum().sort_values(ascending=False)"
   ]
  },
  {
   "cell_type": "code",
   "execution_count": 24,
   "id": "a34bee0f-4cb5-4ccf-a040-09c4930b4ed2",
   "metadata": {},
   "outputs": [
    {
     "name": "stderr",
     "output_type": "stream",
     "text": [
      "C:\\Users\\admin\\AppData\\Local\\Temp\\ipykernel_15728\\3472702861.py:1: FutureWarning: A value is trying to be set on a copy of a DataFrame or Series through chained assignment using an inplace method.\n",
      "The behavior will change in pandas 3.0. This inplace method will never work because the intermediate object on which we are setting values always behaves as a copy.\n",
      "\n",
      "For example, when doing 'df[col].method(value, inplace=True)', try using 'df.method({col: value}, inplace=True)' or df[col] = df[col].method(value) instead, to perform the operation inplace on the original object.\n",
      "\n",
      "\n",
      "  df[\"YearsCodePro\"].replace({\"Less than 1 year\":0.5, \"More than 50 years\":50}, inplace=True)\n"
     ]
    }
   ],
   "source": [
    "df[\"YearsCodePro\"].replace({\"Less than 1 year\":0.5, \"More than 50 years\":50}, inplace=True)"
   ]
  },
  {
   "cell_type": "code",
   "execution_count": 25,
   "id": "1729c2c9-8f9d-48fb-9521-a46c1ce0469a",
   "metadata": {},
   "outputs": [
    {
     "name": "stderr",
     "output_type": "stream",
     "text": [
      "C:\\Users\\admin\\AppData\\Local\\Temp\\ipykernel_15728\\1028780232.py:1: FutureWarning: A value is trying to be set on a copy of a DataFrame or Series through chained assignment using an inplace method.\n",
      "The behavior will change in pandas 3.0. This inplace method will never work because the intermediate object on which we are setting values always behaves as a copy.\n",
      "\n",
      "For example, when doing 'df[col].method(value, inplace=True)', try using 'df.method({col: value}, inplace=True)' or df[col] = df[col].method(value) instead, to perform the operation inplace on the original object.\n",
      "\n",
      "\n",
      "  df[\"YearsCode\"].replace({\"Less than 1 year\":0.5, \"More than 50 years\":50}, inplace=True)\n"
     ]
    }
   ],
   "source": [
    "df[\"YearsCode\"].replace({\"Less than 1 year\":0.5, \"More than 50 years\":50}, inplace=True)"
   ]
  },
  {
   "cell_type": "code",
   "execution_count": 26,
   "id": "3c346aca-de8b-4e76-a959-3093752bb709",
   "metadata": {},
   "outputs": [],
   "source": [
    "df[[\"YearsCode\", \"YearsCodePro\"]] = df[[\"YearsCode\", \"YearsCodePro\"]].fillna(df[[\"YearsCode\", \"YearsCodePro\"]].median())"
   ]
  },
  {
   "cell_type": "code",
   "execution_count": 27,
   "id": "e06c0620-2424-44cc-ab52-b02618f5a782",
   "metadata": {},
   "outputs": [],
   "source": [
    "df[[\"YearsCode\", \"YearsCodePro\"]] = df[[\"YearsCode\", \"YearsCodePro\"]].astype(float)"
   ]
  },
  {
   "cell_type": "code",
   "execution_count": 28,
   "id": "47e6485b-522d-45e9-98a3-e10b152dc00f",
   "metadata": {},
   "outputs": [
    {
     "data": {
      "text/plain": [
       "OrgSize                25\n",
       "RemoteWork              8\n",
       "Age                     0\n",
       "Employment              0\n",
       "EdLevel                 0\n",
       "YearsCode               0\n",
       "YearsCodePro            0\n",
       "Country                 0\n",
       "ConvertedCompYearly     0\n",
       "dtype: int64"
      ]
     },
     "execution_count": 28,
     "metadata": {},
     "output_type": "execute_result"
    }
   ],
   "source": [
    "df.isnull().sum().sort_values(ascending=False)"
   ]
  },
  {
   "cell_type": "code",
   "execution_count": 29,
   "id": "e8bc3df2-2265-4448-a9ed-1693816d0345",
   "metadata": {},
   "outputs": [],
   "source": [
    "df[[\"OrgSize\", \"RemoteWork\"]] = df[[\"OrgSize\", \"RemoteWork\"]].fillna(df[[\"OrgSize\", \"RemoteWork\"]].mode().iloc[0])"
   ]
  },
  {
   "cell_type": "code",
   "execution_count": 30,
   "id": "795642cd-4a39-4ea2-a411-e1702ee5c61f",
   "metadata": {},
   "outputs": [
    {
     "data": {
      "text/plain": [
       "Age                    0\n",
       "Employment             0\n",
       "RemoteWork             0\n",
       "EdLevel                0\n",
       "YearsCode              0\n",
       "YearsCodePro           0\n",
       "OrgSize                0\n",
       "Country                0\n",
       "ConvertedCompYearly    0\n",
       "dtype: int64"
      ]
     },
     "execution_count": 30,
     "metadata": {},
     "output_type": "execute_result"
    }
   ],
   "source": [
    "df.isnull().sum().sort_values(ascending=False)"
   ]
  },
  {
   "cell_type": "code",
   "execution_count": 31,
   "id": "fb54356f-62e5-470b-b03f-a557fbad21c8",
   "metadata": {},
   "outputs": [
    {
     "data": {
      "image/png": "[encoded data removed]",
      "text/plain": [
       "<Figure size 640x480 with 1 Axes>"
      ]
     },
     "metadata": {},
     "output_type": "display_data"
    }
   ],
   "source": [
    "df[\"Age\"].value_counts().plot(kind=\"bar\");"
   ]
  },
  {
   "cell_type": "code",
   "execution_count": 32,
   "id": "367ff753-de8a-49c6-b8a2-9f7b7bfae7d7",
   "metadata": {},
   "outputs": [
    {
     "data": {
      "image/png": "[encoded data removed]",
      "text/plain": [
       "<Figure size 640x480 with 1 Axes>"
      ]
     },
     "metadata": {},
     "output_type": "display_data"
    }
   ],
   "source": [
    "df[\"Employment\"].value_counts().head().plot(kind=\"bar\");"
   ]
  },
  {
   "cell_type": "code",
   "execution_count": 33,
   "id": "7bbcde85-cd7b-4aa3-9373-4ad00312259b",
   "metadata": {},
   "outputs": [],
   "source": [
    "age_em = df.groupby([\"Age\", \"RemoteWork\"]).size().unstack().reset_index().melt(id_vars=\"Age\", var_name=\"RemoteWork\", value_name=\"count\")"
   ]
  },
  {
   "cell_type": "code",
   "execution_count": 34,
   "id": "0364193b-f69b-444e-ab69-fe1f9e520358",
   "metadata": {},
   "outputs": [
    {
     "data": {
      "text/plain": [
       "array(['Hybrid (some remote, some in-person)', 'Remote', 'In-person'],\n",
       "      dtype=object)"
      ]
     },
     "execution_count": 34,
     "metadata": {},
     "output_type": "execute_result"
    }
   ],
   "source": [
    "df[\"RemoteWork\"].unique()"
   ]
  },
  {
   "cell_type": "code",
   "execution_count": 35,
   "id": "148d7cb9-ef7d-4da0-b146-8eebb4846aa0",
   "metadata": {
    "scrolled": true
   },
   "outputs": [
    {
     "data": {
      "image/png": "[encoded data removed]",
      "text/plain": [
       "<Figure size 640x480 with 1 Axes>"
      ]
     },
     "metadata": {},
     "output_type": "display_data"
    }
   ],
   "source": [
    "sns.barplot(data=age_em, x=\"Age\", y=\"count\", hue=\"RemoteWork\")\n",
    "plt.xticks(rotation=90);"
   ]
  },
  {
   "cell_type": "code",
   "execution_count": 36,
   "id": "fe000117-e965-4e1f-ab39-4569aa4586a4",
   "metadata": {},
   "outputs": [],
   "source": [
    "pro_code = df.groupby([\"YearsCodePro\", \"RemoteWork\"]).size().unstack().reset_index().melt(id_vars=\"YearsCodePro\", var_name=\"RemoteWork\", value_name=\"count\")"
   ]
  },
  {
   "cell_type": "code",
   "execution_count": 37,
   "id": "4cb0d377-083a-449d-8aee-1669bfbfe2ae",
   "metadata": {},
   "outputs": [
    {
     "data": {
      "image/png": "[encoded data removed]",
      "text/plain": [
       "<Figure size 3000x2000 with 1 Axes>"
      ]
     },
     "metadata": {},
     "output_type": "display_data"
    }
   ],
   "source": [
    "plt.figure(figsize = (30,20))\n",
    "sns.barplot(data=pro_code, x=\"YearsCodePro\", y=\"count\", hue=\"RemoteWork\")\n",
    "plt.xticks(rotation=90);"
   ]
  },
  {
   "cell_type": "code",
   "execution_count": 38,
   "id": "cbc32682-8424-41ef-993f-ef4a0f20d19b",
   "metadata": {},
   "outputs": [],
   "source": [
    "co_rem = df.groupby([\"Country\", \"RemoteWork\"]).size().unstack().reset_index().melt(id_vars=\"Country\", var_name=\"RemoteWork\", value_name=\"count\")"
   ]
  },
  {
   "cell_type": "code",
   "execution_count": 39,
   "id": "a57d688c-b32a-4131-9fd8-7d996b76ad6c",
   "metadata": {},
   "outputs": [],
   "source": [
    "co_rem.dropna(inplace=True)\n",
    "co_rem = co_rem.sort_values(by=\"count\", ascending=False)\n",
    "co_rem = co_rem[co_rem[\"count\"] > 100]"
   ]
  },
  {
   "cell_type": "code",
   "execution_count": 40,
   "id": "3ab89825-3aee-4cfc-9050-50a7d22fab57",
   "metadata": {},
   "outputs": [
    {
     "data": {
      "image/png": "[encoded data removed]",
      "text/plain": [
       "<Figure size 640x480 with 1 Axes>"
      ]
     },
     "metadata": {},
     "output_type": "display_data"
    }
   ],
   "source": [
    "#plt.figure(figsize = (30,20))\n",
    "sns.barplot(data=co_rem, x=\"Country\", y=\"count\", hue=\"RemoteWork\")\n",
    "plt.xticks(rotation=90);"
   ]
  },
  {
   "cell_type": "code",
   "execution_count": 41,
   "id": "19c83ef7-6044-4dea-9557-85b993479ab5",
   "metadata": {},
   "outputs": [],
   "source": [
    "country_salary = df.groupby(\"Country\")[\"ConvertedCompYearly\"].median().reset_index()\n",
    "country_salary.columns = [\"Country\", \"Average\"]\n",
    "cs = country_salary.sort_values(by=\"Average\", ascending=False).head(20)"
   ]
  },
  {
   "cell_type": "code",
   "execution_count": 42,
   "id": "b862b896-d692-42d9-b616-c10b2f3c36ea",
   "metadata": {},
   "outputs": [
    {
     "data": {
      "text/html": [
       "<div>\n",
       "<style scoped>\n",
       "    .dataframe tbody tr th:only-of-type {\n",
       "        vertical-align: middle;\n",
       "    }\n",
       "\n",
       "    .dataframe tbody tr th {\n",
       "        vertical-align: top;\n",
       "    }\n",
       "\n",
       "    .dataframe thead th {\n",
       "        text-align: right;\n",
       "    }\n",
       "</style>\n",
       "<table border=\"1\" class=\"dataframe\">\n",
       "  <thead>\n",
       "    <tr style=\"text-align: right;\">\n",
       "      <th></th>\n",
       "      <th>Country</th>\n",
       "      <th>Average</th>\n",
       "    </tr>\n",
       "  </thead>\n",
       "  <tbody>\n",
       "    <tr>\n",
       "      <th>0</th>\n",
       "      <td>Afghanistan</td>\n",
       "      <td>3438.0</td>\n",
       "    </tr>\n",
       "    <tr>\n",
       "      <th>1</th>\n",
       "      <td>Albania</td>\n",
       "      <td>35341.0</td>\n",
       "    </tr>\n",
       "    <tr>\n",
       "      <th>2</th>\n",
       "      <td>Algeria</td>\n",
       "      <td>7120.0</td>\n",
       "    </tr>\n",
       "    <tr>\n",
       "      <th>3</th>\n",
       "      <td>Andorra</td>\n",
       "      <td>123517.0</td>\n",
       "    </tr>\n",
       "    <tr>\n",
       "      <th>4</th>\n",
       "      <td>Angola</td>\n",
       "      <td>1754.0</td>\n",
       "    </tr>\n",
       "  </tbody>\n",
       "</table>\n",
       "</div>"
      ],
      "text/plain": [
       "       Country   Average\n",
       "0  Afghanistan    3438.0\n",
       "1      Albania   35341.0\n",
       "2      Algeria    7120.0\n",
       "3      Andorra  123517.0\n",
       "4       Angola    1754.0"
      ]
     },
     "execution_count": 42,
     "metadata": {},
     "output_type": "execute_result"
    }
   ],
   "source": [
    "country_salary.head()"
   ]
  },
  {
   "cell_type": "code",
   "execution_count": 43,
   "id": "26156714-c114-4dd5-911c-4eae101cf26e",
   "metadata": {},
   "outputs": [
    {
     "data": {
      "image/png": "[encoded data removed]",
      "text/plain": [
       "<Figure size 640x480 with 1 Axes>"
      ]
     },
     "metadata": {},
     "output_type": "display_data"
    }
   ],
   "source": [
    "sns.barplot(data=cs, x=\"Country\", y=\"Average\")\n",
    "plt.xticks(rotation=90);"
   ]
  },
  {
   "cell_type": "code",
   "execution_count": 44,
   "id": "596b9af8-57ee-4179-b8c3-f6045c4d108c",
   "metadata": {},
   "outputs": [
    {
     "data": {
      "text/plain": [
       "ResponseId\n",
       "2188    2000000.0\n",
       "Name: ConvertedCompYearly, dtype: float64"
      ]
     },
     "execution_count": 44,
     "metadata": {},
     "output_type": "execute_result"
    }
   ],
   "source": [
    "df[df[\"Country\"] == \"Gabon\"][\"ConvertedCompYearly\"]"
   ]
  },
  {
   "cell_type": "code",
   "execution_count": 68,
   "id": "ad61403a-7966-4cdd-b126-74f1d351f30e",
   "metadata": {},
   "outputs": [],
   "source": [
    "y = np.log1p(df[df.columns[-1]])\n",
    "X = df[df.columns[:len(df.columns)-1]]"
   ]
  },
  {
   "cell_type": "code",
   "execution_count": 69,
   "id": "f78f9b3d-ade0-4d04-99d3-cc3dd36c973f",
   "metadata": {},
   "outputs": [],
   "source": [
    "num = X.select_dtypes(include=[\"float\", \"int\"]).columns.tolist()\n",
    "cat = X.select_dtypes(include=[\"object\"]).columns.tolist()"
   ]
  },
  {
   "cell_type": "code",
   "execution_count": 70,
   "id": "2d11d00a-f312-42e0-aad5-77a4ad487897",
   "metadata": {},
   "outputs": [],
   "source": [
    "X_train, X_test, y_train, y_test = train_test_split(X, y, test_size=0.2)"
   ]
  },
  {
   "cell_type": "code",
   "execution_count": 71,
   "id": "64ec711d-5a6e-4e86-8374-aa311a1963eb",
   "metadata": {},
   "outputs": [],
   "source": [
    "preprocess = ColumnTransformer(\n",
    "    transformers =[\n",
    "        (\"num\", StandardScaler(), num),\n",
    "        (\"cat\", OneHotEncoder(handle_unknown=\"ignore\"), cat)\n",
    "    ]\n",
    ")"
   ]
  },
  {
   "cell_type": "code",
   "execution_count": 72,
   "id": "4297f700-a4c6-4900-8952-3fe85a3be25b",
   "metadata": {},
   "outputs": [],
   "source": [
    "p2 = make_pipeline(preprocess, LinearRegression())\n",
    "p2.fit(X_train, y_train)\n",
    "y_pred = p2.predict(X_test)"
   ]
  },
  {
   "cell_type": "code",
   "execution_count": 73,
   "id": "20f6b8fb-e03f-4420-89f1-b4f54b840fdd",
   "metadata": {},
   "outputs": [
    {
     "data": {
      "text/plain": [
       "0.4581719976652592"
      ]
     },
     "execution_count": 73,
     "metadata": {},
     "output_type": "execute_result"
    }
   ],
   "source": [
    "r2_score(y_test, y_pred)"
   ]
  },
  {
   "cell_type": "code",
   "execution_count": 74,
   "id": "23058ffa-2903-43ce-b609-99a9dc3e340c",
   "metadata": {},
   "outputs": [
    {
     "data": {
      "text/plain": [
       "0.599577865402525"
      ]
     },
     "execution_count": 74,
     "metadata": {},
     "output_type": "execute_result"
    }
   ],
   "source": [
    "mean_absolute_error(y_test, y_pred)"
   ]
  },
  {
   "cell_type": "code",
   "execution_count": 75,
   "id": "e7380156-7f8e-4d69-9af4-450cad5e56ec",
   "metadata": {},
   "outputs": [
    {
     "data": {
      "text/plain": [
       "1.051123830182566"
      ]
     },
     "execution_count": 75,
     "metadata": {},
     "output_type": "execute_result"
    }
   ],
   "source": [
    "np.sqrt(mean_squared_error(y_test, y_pred))"
   ]
  },
  {
   "cell_type": "code",
   "execution_count": 76,
   "id": "831d8e2d-09f9-40f9-bb03-609fcebd5aa0",
   "metadata": {},
   "outputs": [],
   "source": [
    "p3 = make_pipeline(preprocess, RandomForestRegressor())\n",
    "p3.fit(X_train, y_train)\n",
    "y_pred_lr = p3.predict(X_test)"
   ]
  },
  {
   "cell_type": "code",
   "execution_count": 77,
   "id": "a226d97f-4dfa-4542-849c-47bcc7bee8d9",
   "metadata": {},
   "outputs": [
    {
     "data": {
      "text/plain": [
       "0.3960754617421296"
      ]
     },
     "execution_count": 77,
     "metadata": {},
     "output_type": "execute_result"
    }
   ],
   "source": [
    "r2_score(y_test, y_pred_lr)"
   ]
  },
  {
   "cell_type": "code",
   "execution_count": 78,
   "id": "a013ac42-66e1-4404-8d03-56b83d642170",
   "metadata": {},
   "outputs": [
    {
     "data": {
      "text/plain": [
       "1.1097227694533576"
      ]
     },
     "execution_count": 78,
     "metadata": {},
     "output_type": "execute_result"
    }
   ],
   "source": [
    "np.sqrt(mean_squared_error(y_test, y_pred_lr))"
   ]
  },
  {
   "cell_type": "code",
   "execution_count": 79,
   "id": "c512829e-4a5d-4ca8-a357-f9b7d5f4b9d9",
   "metadata": {},
   "outputs": [
    {
     "data": {
      "text/plain": [
       "0.6344552129999451"
      ]
     },
     "execution_count": 79,
     "metadata": {},
     "output_type": "execute_result"
    }
   ],
   "source": [
    "mean_absolute_error(y_test, y_pred_lr)"
   ]
  },
  {
   "cell_type": "code",
   "execution_count": 80,
   "id": "7b215432-fcb4-4560-bf1a-a65f9fc5b83e",
   "metadata": {},
   "outputs": [],
   "source": [
    "p4 = make_pipeline(preprocess, XGBRegressor())\n",
    "p4.fit(X_train, y_train)\n",
    "y_pred_xgb = p4.predict(X_test)"
   ]
  },
  {
   "cell_type": "code",
   "execution_count": 81,
   "id": "74258831-7e7a-4474-95cf-5a1573867aa9",
   "metadata": {},
   "outputs": [
    {
     "data": {
      "text/plain": [
       "0.4343321154880455"
      ]
     },
     "execution_count": 81,
     "metadata": {},
     "output_type": "execute_result"
    }
   ],
   "source": [
    "r2_score(y_test, y_pred_xgb)"
   ]
  },
  {
   "cell_type": "code",
   "execution_count": 82,
   "id": "626c8da3-4daf-4f5c-9524-e31a2f0f51f5",
   "metadata": {},
   "outputs": [
    {
     "data": {
      "text/plain": [
       "1.0739991073017912"
      ]
     },
     "execution_count": 82,
     "metadata": {},
     "output_type": "execute_result"
    }
   ],
   "source": [
    "np.sqrt(mean_squared_error(y_test, y_pred_xgb))"
   ]
  },
  {
   "cell_type": "code",
   "execution_count": 83,
   "id": "ce3d8829-65fd-40ab-b673-da9af89516a5",
   "metadata": {},
   "outputs": [
    {
     "data": {
      "text/plain": [
       "0.6023763445729804"
      ]
     },
     "execution_count": 83,
     "metadata": {},
     "output_type": "execute_result"
    }
   ],
   "source": [
    "mean_absolute_error(y_test, y_pred_xgb)"
   ]
  }
 ],
 "metadata": {
  "kernelspec": {
   "display_name": "Python [conda env:HeartDisease]",
   "language": "python",
   "name": "conda-env-HeartDisease-py"
  },
  "language_info": {
   "codemirror_mode": {
    "name": "ipython",
    "version": 3
   },
   "file_extension": ".py",
   "mimetype": "text/x-python",
   "name": "python",
   "nbconvert_exporter": "python",
   "pygments_lexer": "ipython3",
   "version": "3.11.11"
  }
 },
 "nbformat": 4,
 "nbformat_minor": 5
}
