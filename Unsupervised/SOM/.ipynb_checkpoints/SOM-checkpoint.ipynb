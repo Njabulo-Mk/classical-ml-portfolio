{
 "cells": [
  {
   "cell_type": "code",
   "execution_count": 19,
   "id": "b03a6016-3516-481a-be2f-946cd009df50",
   "metadata": {},
   "outputs": [],
   "source": [
    "import pandas as pd\n",
    "import plotly.express as px"
   ]
  },
  {
   "cell_type": "code",
   "execution_count": 6,
   "id": "253b9df7-f53d-4704-aed0-b3ee74e927e0",
   "metadata": {},
   "outputs": [],
   "source": [
    "df = pd.read_csv(\"data/WineQT.csv\", index_col=\"Id\")"
   ]
  },
  {
   "cell_type": "code",
   "execution_count": 7,
   "id": "58f05e51-e06e-4f84-a28c-b581d88cd2f5",
   "metadata": {},
   "outputs": [
    {
     "data": {
      "text/html": [
       "<div>\n",
       "<style scoped>\n",
       "    .dataframe tbody tr th:only-of-type {\n",
       "        vertical-align: middle;\n",
       "    }\n",
       "\n",
       "    .dataframe tbody tr th {\n",
       "        vertical-align: top;\n",
       "    }\n",
       "\n",
       "    .dataframe thead th {\n",
       "        text-align: right;\n",
       "    }\n",
       "</style>\n",
       "<table border=\"1\" class=\"dataframe\">\n",
       "  <thead>\n",
       "    <tr style=\"text-align: right;\">\n",
       "      <th></th>\n",
       "      <th>fixed acidity</th>\n",
       "      <th>volatile acidity</th>\n",
       "      <th>citric acid</th>\n",
       "      <th>residual sugar</th>\n",
       "      <th>chlorides</th>\n",
       "      <th>free sulfur dioxide</th>\n",
       "      <th>total sulfur dioxide</th>\n",
       "      <th>density</th>\n",
       "      <th>pH</th>\n",
       "      <th>sulphates</th>\n",
       "      <th>alcohol</th>\n",
       "      <th>quality</th>\n",
       "    </tr>\n",
       "    <tr>\n",
       "      <th>Id</th>\n",
       "      <th></th>\n",
       "      <th></th>\n",
       "      <th></th>\n",
       "      <th></th>\n",
       "      <th></th>\n",
       "      <th></th>\n",
       "      <th></th>\n",
       "      <th></th>\n",
       "      <th></th>\n",
       "      <th></th>\n",
       "      <th></th>\n",
       "      <th></th>\n",
       "    </tr>\n",
       "  </thead>\n",
       "  <tbody>\n",
       "    <tr>\n",
       "      <th>0</th>\n",
       "      <td>7.4</td>\n",
       "      <td>0.70</td>\n",
       "      <td>0.00</td>\n",
       "      <td>1.9</td>\n",
       "      <td>0.076</td>\n",
       "      <td>11.0</td>\n",
       "      <td>34.0</td>\n",
       "      <td>0.9978</td>\n",
       "      <td>3.51</td>\n",
       "      <td>0.56</td>\n",
       "      <td>9.4</td>\n",
       "      <td>5</td>\n",
       "    </tr>\n",
       "    <tr>\n",
       "      <th>1</th>\n",
       "      <td>7.8</td>\n",
       "      <td>0.88</td>\n",
       "      <td>0.00</td>\n",
       "      <td>2.6</td>\n",
       "      <td>0.098</td>\n",
       "      <td>25.0</td>\n",
       "      <td>67.0</td>\n",
       "      <td>0.9968</td>\n",
       "      <td>3.20</td>\n",
       "      <td>0.68</td>\n",
       "      <td>9.8</td>\n",
       "      <td>5</td>\n",
       "    </tr>\n",
       "    <tr>\n",
       "      <th>2</th>\n",
       "      <td>7.8</td>\n",
       "      <td>0.76</td>\n",
       "      <td>0.04</td>\n",
       "      <td>2.3</td>\n",
       "      <td>0.092</td>\n",
       "      <td>15.0</td>\n",
       "      <td>54.0</td>\n",
       "      <td>0.9970</td>\n",
       "      <td>3.26</td>\n",
       "      <td>0.65</td>\n",
       "      <td>9.8</td>\n",
       "      <td>5</td>\n",
       "    </tr>\n",
       "    <tr>\n",
       "      <th>3</th>\n",
       "      <td>11.2</td>\n",
       "      <td>0.28</td>\n",
       "      <td>0.56</td>\n",
       "      <td>1.9</td>\n",
       "      <td>0.075</td>\n",
       "      <td>17.0</td>\n",
       "      <td>60.0</td>\n",
       "      <td>0.9980</td>\n",
       "      <td>3.16</td>\n",
       "      <td>0.58</td>\n",
       "      <td>9.8</td>\n",
       "      <td>6</td>\n",
       "    </tr>\n",
       "    <tr>\n",
       "      <th>4</th>\n",
       "      <td>7.4</td>\n",
       "      <td>0.70</td>\n",
       "      <td>0.00</td>\n",
       "      <td>1.9</td>\n",
       "      <td>0.076</td>\n",
       "      <td>11.0</td>\n",
       "      <td>34.0</td>\n",
       "      <td>0.9978</td>\n",
       "      <td>3.51</td>\n",
       "      <td>0.56</td>\n",
       "      <td>9.4</td>\n",
       "      <td>5</td>\n",
       "    </tr>\n",
       "  </tbody>\n",
       "</table>\n",
       "</div>"
      ],
      "text/plain": [
       "    fixed acidity  volatile acidity  citric acid  residual sugar  chlorides  \\\n",
       "Id                                                                            \n",
       "0             7.4              0.70         0.00             1.9      0.076   \n",
       "1             7.8              0.88         0.00             2.6      0.098   \n",
       "2             7.8              0.76         0.04             2.3      0.092   \n",
       "3            11.2              0.28         0.56             1.9      0.075   \n",
       "4             7.4              0.70         0.00             1.9      0.076   \n",
       "\n",
       "    free sulfur dioxide  total sulfur dioxide  density    pH  sulphates  \\\n",
       "Id                                                                        \n",
       "0                  11.0                  34.0   0.9978  3.51       0.56   \n",
       "1                  25.0                  67.0   0.9968  3.20       0.68   \n",
       "2                  15.0                  54.0   0.9970  3.26       0.65   \n",
       "3                  17.0                  60.0   0.9980  3.16       0.58   \n",
       "4                  11.0                  34.0   0.9978  3.51       0.56   \n",
       "\n",
       "    alcohol  quality  \n",
       "Id                    \n",
       "0       9.4        5  \n",
       "1       9.8        5  \n",
       "2       9.8        5  \n",
       "3       9.8        6  \n",
       "4       9.4        5  "
      ]
     },
     "execution_count": 7,
     "metadata": {},
     "output_type": "execute_result"
    }
   ],
   "source": [
    "df.head()"
   ]
  },
  {
   "cell_type": "code",
   "execution_count": 8,
   "id": "38ea3e4a-911c-4d06-8679-a4976ee8c03b",
   "metadata": {},
   "outputs": [
    {
     "name": "stdout",
     "output_type": "stream",
     "text": [
      "<class 'pandas.core.frame.DataFrame'>\n",
      "Index: 1143 entries, 0 to 1597\n",
      "Data columns (total 12 columns):\n",
      " #   Column                Non-Null Count  Dtype  \n",
      "---  ------                --------------  -----  \n",
      " 0   fixed acidity         1143 non-null   float64\n",
      " 1   volatile acidity      1143 non-null   float64\n",
      " 2   citric acid           1143 non-null   float64\n",
      " 3   residual sugar        1143 non-null   float64\n",
      " 4   chlorides             1143 non-null   float64\n",
      " 5   free sulfur dioxide   1143 non-null   float64\n",
      " 6   total sulfur dioxide  1143 non-null   float64\n",
      " 7   density               1143 non-null   float64\n",
      " 8   pH                    1143 non-null   float64\n",
      " 9   sulphates             1143 non-null   float64\n",
      " 10  alcohol               1143 non-null   float64\n",
      " 11  quality               1143 non-null   int64  \n",
      "dtypes: float64(11), int64(1)\n",
      "memory usage: 116.1 KB\n"
     ]
    }
   ],
   "source": [
    "df.info()"
   ]
  },
  {
   "cell_type": "code",
   "execution_count": 9,
   "id": "7e0ec536-995d-4be0-b2c8-08df3a47a261",
   "metadata": {},
   "outputs": [
    {
     "data": {
      "text/plain": [
       "fixed acidity           0\n",
       "volatile acidity        0\n",
       "citric acid             0\n",
       "residual sugar          0\n",
       "chlorides               0\n",
       "free sulfur dioxide     0\n",
       "total sulfur dioxide    0\n",
       "density                 0\n",
       "pH                      0\n",
       "sulphates               0\n",
       "alcohol                 0\n",
       "quality                 0\n",
       "dtype: int64"
      ]
     },
     "execution_count": 9,
     "metadata": {},
     "output_type": "execute_result"
    }
   ],
   "source": [
    "df.isnull().sum()"
   ]
  },
  {
   "cell_type": "code",
   "execution_count": 10,
   "id": "f8af4056-bc6a-4fb6-bf16-21a589b2f0d9",
   "metadata": {},
   "outputs": [
    {
     "data": {
      "text/html": [
       "<div>\n",
       "<style scoped>\n",
       "    .dataframe tbody tr th:only-of-type {\n",
       "        vertical-align: middle;\n",
       "    }\n",
       "\n",
       "    .dataframe tbody tr th {\n",
       "        vertical-align: top;\n",
       "    }\n",
       "\n",
       "    .dataframe thead th {\n",
       "        text-align: right;\n",
       "    }\n",
       "</style>\n",
       "<table border=\"1\" class=\"dataframe\">\n",
       "  <thead>\n",
       "    <tr style=\"text-align: right;\">\n",
       "      <th></th>\n",
       "      <th>fixed acidity</th>\n",
       "      <th>volatile acidity</th>\n",
       "      <th>citric acid</th>\n",
       "      <th>residual sugar</th>\n",
       "      <th>chlorides</th>\n",
       "      <th>free sulfur dioxide</th>\n",
       "      <th>total sulfur dioxide</th>\n",
       "      <th>density</th>\n",
       "      <th>pH</th>\n",
       "      <th>sulphates</th>\n",
       "      <th>alcohol</th>\n",
       "      <th>quality</th>\n",
       "    </tr>\n",
       "  </thead>\n",
       "  <tbody>\n",
       "    <tr>\n",
       "      <th>fixed acidity</th>\n",
       "      <td>1.000000</td>\n",
       "      <td>-0.250728</td>\n",
       "      <td>0.673157</td>\n",
       "      <td>0.171831</td>\n",
       "      <td>0.107889</td>\n",
       "      <td>-0.164831</td>\n",
       "      <td>-0.110628</td>\n",
       "      <td>0.681501</td>\n",
       "      <td>-0.685163</td>\n",
       "      <td>0.174592</td>\n",
       "      <td>-0.075055</td>\n",
       "      <td>0.121970</td>\n",
       "    </tr>\n",
       "    <tr>\n",
       "      <th>volatile acidity</th>\n",
       "      <td>-0.250728</td>\n",
       "      <td>1.000000</td>\n",
       "      <td>-0.544187</td>\n",
       "      <td>-0.005751</td>\n",
       "      <td>0.056336</td>\n",
       "      <td>-0.001962</td>\n",
       "      <td>0.077748</td>\n",
       "      <td>0.016512</td>\n",
       "      <td>0.221492</td>\n",
       "      <td>-0.276079</td>\n",
       "      <td>-0.203909</td>\n",
       "      <td>-0.407394</td>\n",
       "    </tr>\n",
       "    <tr>\n",
       "      <th>citric acid</th>\n",
       "      <td>0.673157</td>\n",
       "      <td>-0.544187</td>\n",
       "      <td>1.000000</td>\n",
       "      <td>0.175815</td>\n",
       "      <td>0.245312</td>\n",
       "      <td>-0.057589</td>\n",
       "      <td>0.036871</td>\n",
       "      <td>0.375243</td>\n",
       "      <td>-0.546339</td>\n",
       "      <td>0.331232</td>\n",
       "      <td>0.106250</td>\n",
       "      <td>0.240821</td>\n",
       "    </tr>\n",
       "    <tr>\n",
       "      <th>residual sugar</th>\n",
       "      <td>0.171831</td>\n",
       "      <td>-0.005751</td>\n",
       "      <td>0.175815</td>\n",
       "      <td>1.000000</td>\n",
       "      <td>0.070863</td>\n",
       "      <td>0.165339</td>\n",
       "      <td>0.190790</td>\n",
       "      <td>0.380147</td>\n",
       "      <td>-0.116959</td>\n",
       "      <td>0.017475</td>\n",
       "      <td>0.058421</td>\n",
       "      <td>0.022002</td>\n",
       "    </tr>\n",
       "    <tr>\n",
       "      <th>chlorides</th>\n",
       "      <td>0.107889</td>\n",
       "      <td>0.056336</td>\n",
       "      <td>0.245312</td>\n",
       "      <td>0.070863</td>\n",
       "      <td>1.000000</td>\n",
       "      <td>0.015280</td>\n",
       "      <td>0.048163</td>\n",
       "      <td>0.208901</td>\n",
       "      <td>-0.277759</td>\n",
       "      <td>0.374784</td>\n",
       "      <td>-0.229917</td>\n",
       "      <td>-0.124085</td>\n",
       "    </tr>\n",
       "    <tr>\n",
       "      <th>free sulfur dioxide</th>\n",
       "      <td>-0.164831</td>\n",
       "      <td>-0.001962</td>\n",
       "      <td>-0.057589</td>\n",
       "      <td>0.165339</td>\n",
       "      <td>0.015280</td>\n",
       "      <td>1.000000</td>\n",
       "      <td>0.661093</td>\n",
       "      <td>-0.054150</td>\n",
       "      <td>0.072804</td>\n",
       "      <td>0.034445</td>\n",
       "      <td>-0.047095</td>\n",
       "      <td>-0.063260</td>\n",
       "    </tr>\n",
       "    <tr>\n",
       "      <th>total sulfur dioxide</th>\n",
       "      <td>-0.110628</td>\n",
       "      <td>0.077748</td>\n",
       "      <td>0.036871</td>\n",
       "      <td>0.190790</td>\n",
       "      <td>0.048163</td>\n",
       "      <td>0.661093</td>\n",
       "      <td>1.000000</td>\n",
       "      <td>0.050175</td>\n",
       "      <td>-0.059126</td>\n",
       "      <td>0.026894</td>\n",
       "      <td>-0.188165</td>\n",
       "      <td>-0.183339</td>\n",
       "    </tr>\n",
       "    <tr>\n",
       "      <th>density</th>\n",
       "      <td>0.681501</td>\n",
       "      <td>0.016512</td>\n",
       "      <td>0.375243</td>\n",
       "      <td>0.380147</td>\n",
       "      <td>0.208901</td>\n",
       "      <td>-0.054150</td>\n",
       "      <td>0.050175</td>\n",
       "      <td>1.000000</td>\n",
       "      <td>-0.352775</td>\n",
       "      <td>0.143139</td>\n",
       "      <td>-0.494727</td>\n",
       "      <td>-0.175208</td>\n",
       "    </tr>\n",
       "    <tr>\n",
       "      <th>pH</th>\n",
       "      <td>-0.685163</td>\n",
       "      <td>0.221492</td>\n",
       "      <td>-0.546339</td>\n",
       "      <td>-0.116959</td>\n",
       "      <td>-0.277759</td>\n",
       "      <td>0.072804</td>\n",
       "      <td>-0.059126</td>\n",
       "      <td>-0.352775</td>\n",
       "      <td>1.000000</td>\n",
       "      <td>-0.185499</td>\n",
       "      <td>0.225322</td>\n",
       "      <td>-0.052453</td>\n",
       "    </tr>\n",
       "    <tr>\n",
       "      <th>sulphates</th>\n",
       "      <td>0.174592</td>\n",
       "      <td>-0.276079</td>\n",
       "      <td>0.331232</td>\n",
       "      <td>0.017475</td>\n",
       "      <td>0.374784</td>\n",
       "      <td>0.034445</td>\n",
       "      <td>0.026894</td>\n",
       "      <td>0.143139</td>\n",
       "      <td>-0.185499</td>\n",
       "      <td>1.000000</td>\n",
       "      <td>0.094421</td>\n",
       "      <td>0.257710</td>\n",
       "    </tr>\n",
       "    <tr>\n",
       "      <th>alcohol</th>\n",
       "      <td>-0.075055</td>\n",
       "      <td>-0.203909</td>\n",
       "      <td>0.106250</td>\n",
       "      <td>0.058421</td>\n",
       "      <td>-0.229917</td>\n",
       "      <td>-0.047095</td>\n",
       "      <td>-0.188165</td>\n",
       "      <td>-0.494727</td>\n",
       "      <td>0.225322</td>\n",
       "      <td>0.094421</td>\n",
       "      <td>1.000000</td>\n",
       "      <td>0.484866</td>\n",
       "    </tr>\n",
       "    <tr>\n",
       "      <th>quality</th>\n",
       "      <td>0.121970</td>\n",
       "      <td>-0.407394</td>\n",
       "      <td>0.240821</td>\n",
       "      <td>0.022002</td>\n",
       "      <td>-0.124085</td>\n",
       "      <td>-0.063260</td>\n",
       "      <td>-0.183339</td>\n",
       "      <td>-0.175208</td>\n",
       "      <td>-0.052453</td>\n",
       "      <td>0.257710</td>\n",
       "      <td>0.484866</td>\n",
       "      <td>1.000000</td>\n",
       "    </tr>\n",
       "  </tbody>\n",
       "</table>\n",
       "</div>"
      ],
      "text/plain": [
       "                      fixed acidity  volatile acidity  citric acid  \\\n",
       "fixed acidity              1.000000         -0.250728     0.673157   \n",
       "volatile acidity          -0.250728          1.000000    -0.544187   \n",
       "citric acid                0.673157         -0.544187     1.000000   \n",
       "residual sugar             0.171831         -0.005751     0.175815   \n",
       "chlorides                  0.107889          0.056336     0.245312   \n",
       "free sulfur dioxide       -0.164831         -0.001962    -0.057589   \n",
       "total sulfur dioxide      -0.110628          0.077748     0.036871   \n",
       "density                    0.681501          0.016512     0.375243   \n",
       "pH                        -0.685163          0.221492    -0.546339   \n",
       "sulphates                  0.174592         -0.276079     0.331232   \n",
       "alcohol                   -0.075055         -0.203909     0.106250   \n",
       "quality                    0.121970         -0.407394     0.240821   \n",
       "\n",
       "                      residual sugar  chlorides  free sulfur dioxide  \\\n",
       "fixed acidity               0.171831   0.107889            -0.164831   \n",
       "volatile acidity           -0.005751   0.056336            -0.001962   \n",
       "citric acid                 0.175815   0.245312            -0.057589   \n",
       "residual sugar              1.000000   0.070863             0.165339   \n",
       "chlorides                   0.070863   1.000000             0.015280   \n",
       "free sulfur dioxide         0.165339   0.015280             1.000000   \n",
       "total sulfur dioxide        0.190790   0.048163             0.661093   \n",
       "density                     0.380147   0.208901            -0.054150   \n",
       "pH                         -0.116959  -0.277759             0.072804   \n",
       "sulphates                   0.017475   0.374784             0.034445   \n",
       "alcohol                     0.058421  -0.229917            -0.047095   \n",
       "quality                     0.022002  -0.124085            -0.063260   \n",
       "\n",
       "                      total sulfur dioxide   density        pH  sulphates  \\\n",
       "fixed acidity                    -0.110628  0.681501 -0.685163   0.174592   \n",
       "volatile acidity                  0.077748  0.016512  0.221492  -0.276079   \n",
       "citric acid                       0.036871  0.375243 -0.546339   0.331232   \n",
       "residual sugar                    0.190790  0.380147 -0.116959   0.017475   \n",
       "chlorides                         0.048163  0.208901 -0.277759   0.374784   \n",
       "free sulfur dioxide               0.661093 -0.054150  0.072804   0.034445   \n",
       "total sulfur dioxide              1.000000  0.050175 -0.059126   0.026894   \n",
       "density                           0.050175  1.000000 -0.352775   0.143139   \n",
       "pH                               -0.059126 -0.352775  1.000000  -0.185499   \n",
       "sulphates                         0.026894  0.143139 -0.185499   1.000000   \n",
       "alcohol                          -0.188165 -0.494727  0.225322   0.094421   \n",
       "quality                          -0.183339 -0.175208 -0.052453   0.257710   \n",
       "\n",
       "                       alcohol   quality  \n",
       "fixed acidity        -0.075055  0.121970  \n",
       "volatile acidity     -0.203909 -0.407394  \n",
       "citric acid           0.106250  0.240821  \n",
       "residual sugar        0.058421  0.022002  \n",
       "chlorides            -0.229917 -0.124085  \n",
       "free sulfur dioxide  -0.047095 -0.063260  \n",
       "total sulfur dioxide -0.188165 -0.183339  \n",
       "density              -0.494727 -0.175208  \n",
       "pH                    0.225322 -0.052453  \n",
       "sulphates             0.094421  0.257710  \n",
       "alcohol               1.000000  0.484866  \n",
       "quality               0.484866  1.000000  "
      ]
     },
     "execution_count": 10,
     "metadata": {},
     "output_type": "execute_result"
    }
   ],
   "source": [
    "df.corr()"
   ]
  },
  {
   "cell_type": "code",
   "execution_count": 13,
   "id": "6455ad05-e895-4e96-97eb-afa2fc231df3",
   "metadata": {},
   "outputs": [
    {
     "data": {
      "application/vnd.plotly.v1+json": {
       "config": {
        "plotlyServerURL": "https://plot.ly"
       },
       "data": [
        {
         "coloraxis": "coloraxis",
         "hovertemplate": "x: %{x}<br>y: %{y}<br>color: %{z}<extra></extra>",
         "name": "0",
         "texttemplate": "%{z}",
         "type": "heatmap",
         "x": [
          "fixed acidity",
          "volatile acidity",
          "citric acid",
          "residual sugar",
          "chlorides",
          "free sulfur dioxide",
          "total sulfur dioxide",
          "density",
          "pH",
          "sulphates",
          "alcohol",
          "quality"
         ],
         "xaxis": "x",
         "y": [
          "fixed acidity",
          "volatile acidity",
          "citric acid",
          "residual sugar",
          "chlorides",
          "free sulfur dioxide",
          "total sulfur dioxide",
          "density",
          "pH",
          "sulphates",
          "alcohol",
          "quality"
         ],
         "yaxis": "y",
         "z": {
          "bdata": "AAAAAAAA8D+XRBvO7gvQv+TxIhOBiuU/c5ClAIv+xT8KkffWlZ67Px86S+ksGcW/RwZIBSRSvL+HS2jw2s7lP9l2TB3a7OW/vAu4YQZZxj9DPdB7yzazv3kJJrZuOb8/l0Qbzu4L0L8AAAAAAADwP+bqY7n6aeG/pWfJRXaOd79oq+ArG9isP7yFkNadE2C/BZo4Ukbnsz8lsnJUZeiQP/LuDIXVWcw/8uLsj0Wr0b8ZW6f0shnKv9k3pz28Etq/5PEiE4GK5T/m6mO5+mnhvwAAAAAAAPA/GfhK4xmBxj/zXXlQZmbPP4Bxs6xRfK2/5r20KMXgoj+IrfZO/APYP8DmWDece+G/SwvTr+Yy1T/CLHb1ODO7P2wL35k3084/c5ClAIv+xT+lZ8lFdo53vxn4SuMZgcY/AAAAAAAA8D9ogcG7FSSyP6HYNFvSKcU/DJtC0M5ryD9ee1LhU1TYP8NiCFUF8b2/g1xRGNbkkT9MSt0/TumtP6PGKJGsh5Y/CpH31pWeuz9oq+ArG9isP/NdeVBmZs8/aIHBuxUksj8AAAAAAADwP0+alV5cS48/pHDbgdeoqD94sDwsQr3KP1rpXfjNxtG/S/rWlXX81z/smDRg7G3Nv/BK//sAxL+/HzpL6SwZxb+8hZDWnRNgv4Bxs6xRfK2/odg0W9IpxT9PmpVeXEuPPwAAAAAAAPA/krA0Pawn5T9+n9Mql7mrvyNFLoJDo7I/F73sfcqioT99SqJW0Byov0v/R6vIMbC/RwZIBSRSvL8FmjhSRuezP+a9tCjF4KI/DJtC0M5ryD+kcNuB16ioP5KwND2sJ+U/AAAAAAAA8D+EZADSg7CpP9TVnPO5Ra6/7QhDdQSKmz9O0Iy8yBXIv6oSPD2od8e/h0to8NrO5T8lsnJUZeiQP4it9k78A9g/XntS4VNU2D94sDwsQr3KP36f0yqXuau/hGQA0oOwqT8AAAAAAADwP6ieEQXck9a/xGKwZGNSwj/JtwkCm6nfv0v7IJY2bca/2XZMHdrs5b/y7gyF1VnMP8DmWDece+G/w2IIVQXxvb9a6V34zcbRvyNFLoJDo7I/1NWc87lFrr+onhEF3JPWvwAAAAAAAPA/JfwZqG6+x79gnjOiW9fMP286sr0f26q/vAu4YQZZxj/y4uyPRavRv0sL06/mMtU/g1xRGNbkkT9L+taVdfzXPxe97H3KoqE/7QhDdQSKmz/EYrBkY1LCPyX8Gahuvse/AAAAAAAA8D+jsf2h+yu4Pz+5jyxTftA/Qz3Qe8s2s78ZW6f0shnKv8IsdvU4M7s/TErdP07prT/smDRg7G3Nv31KolbQHKi/TtCMvMgVyL/JtwkCm6nfv2CeM6Jb18w/o7H9ofsruD8AAAAAAADwP0bKqUoMCN8/eQkmtm45vz/ZN6c9vBLav2wL35k3084/o8YokayHlj/wSv/7AMS/v0v/R6vIMbC/qhI8Pah3x79L+yCWNm3Gv286sr0f26q/P7mPLFN+0D9GyqlKDAjfPwAAAAAAAPA/",
          "dtype": "f8",
          "shape": "12, 12"
         }
        }
       ],
       "layout": {
        "coloraxis": {
         "colorscale": [
          [
           0,
           "#0d0887"
          ],
          [
           0.1111111111111111,
           "#46039f"
          ],
          [
           0.2222222222222222,
           "#7201a8"
          ],
          [
           0.3333333333333333,
           "#9c179e"
          ],
          [
           0.4444444444444444,
           "#bd3786"
          ],
          [
           0.5555555555555556,
           "#d8576b"
          ],
          [
           0.6666666666666666,
           "#ed7953"
          ],
          [
           0.7777777777777778,
           "#fb9f3a"
          ],
          [
           0.8888888888888888,
           "#fdca26"
          ],
          [
           1,
           "#f0f921"
          ]
         ]
        },
        "margin": {
         "t": 60
        },
        "template": {
         "data": {
          "bar": [
           {
            "error_x": {
             "color": "#2a3f5f"
            },
            "error_y": {
             "color": "#2a3f5f"
            },
            "marker": {
             "line": {
              "color": "#E5ECF6",
              "width": 0.5
             },
             "pattern": {
              "fillmode": "overlay",
              "size": 10,
              "solidity": 0.2
             }
            },
            "type": "bar"
           }
          ],
          "barpolar": [
           {
            "marker": {
             "line": {
              "color": "#E5ECF6",
              "width": 0.5
             },
             "pattern": {
              "fillmode": "overlay",
              "size": 10,
              "solidity": 0.2
             }
            },
            "type": "barpolar"
           }
          ],
          "carpet": [
           {
            "aaxis": {
             "endlinecolor": "#2a3f5f",
             "gridcolor": "white",
             "linecolor": "white",
             "minorgridcolor": "white",
             "startlinecolor": "#2a3f5f"
            },
            "baxis": {
             "endlinecolor": "#2a3f5f",
             "gridcolor": "white",
             "linecolor": "white",
             "minorgridcolor": "white",
             "startlinecolor": "#2a3f5f"
            },
            "type": "carpet"
           }
          ],
          "choropleth": [
           {
            "colorbar": {
             "outlinewidth": 0,
             "ticks": ""
            },
            "type": "choropleth"
           }
          ],
          "contour": [
           {
            "colorbar": {
             "outlinewidth": 0,
             "ticks": ""
            },
            "colorscale": [
             [
              0,
              "#0d0887"
             ],
             [
              0.1111111111111111,
              "#46039f"
             ],
             [
              0.2222222222222222,
              "#7201a8"
             ],
             [
              0.3333333333333333,
              "#9c179e"
             ],
             [
              0.4444444444444444,
              "#bd3786"
             ],
             [
              0.5555555555555556,
              "#d8576b"
             ],
             [
              0.6666666666666666,
              "#ed7953"
             ],
             [
              0.7777777777777778,
              "#fb9f3a"
             ],
             [
              0.8888888888888888,
              "#fdca26"
             ],
             [
              1,
              "#f0f921"
             ]
            ],
            "type": "contour"
           }
          ],
          "contourcarpet": [
           {
            "colorbar": {
             "outlinewidth": 0,
             "ticks": ""
            },
            "type": "contourcarpet"
           }
          ],
          "heatmap": [
           {
            "colorbar": {
             "outlinewidth": 0,
             "ticks": ""
            },
            "colorscale": [
             [
              0,
              "#0d0887"
             ],
             [
              0.1111111111111111,
              "#46039f"
             ],
             [
              0.2222222222222222,
              "#7201a8"
             ],
             [
              0.3333333333333333,
              "#9c179e"
             ],
             [
              0.4444444444444444,
              "#bd3786"
             ],
             [
              0.5555555555555556,
              "#d8576b"
             ],
             [
              0.6666666666666666,
              "#ed7953"
             ],
             [
              0.7777777777777778,
              "#fb9f3a"
             ],
             [
              0.8888888888888888,
              "#fdca26"
             ],
             [
              1,
              "#f0f921"
             ]
            ],
            "type": "heatmap"
           }
          ],
          "histogram": [
           {
            "marker": {
             "pattern": {
              "fillmode": "overlay",
              "size": 10,
              "solidity": 0.2
             }
            },
            "type": "histogram"
           }
          ],
          "histogram2d": [
           {
            "colorbar": {
             "outlinewidth": 0,
             "ticks": ""
            },
            "colorscale": [
             [
              0,
              "#0d0887"
             ],
             [
              0.1111111111111111,
              "#46039f"
             ],
             [
              0.2222222222222222,
              "#7201a8"
             ],
             [
              0.3333333333333333,
              "#9c179e"
             ],
             [
              0.4444444444444444,
              "#bd3786"
             ],
             [
              0.5555555555555556,
              "#d8576b"
             ],
             [
              0.6666666666666666,
              "#ed7953"
             ],
             [
              0.7777777777777778,
              "#fb9f3a"
             ],
             [
              0.8888888888888888,
              "#fdca26"
             ],
             [
              1,
              "#f0f921"
             ]
            ],
            "type": "histogram2d"
           }
          ],
          "histogram2dcontour": [
           {
            "colorbar": {
             "outlinewidth": 0,
             "ticks": ""
            },
            "colorscale": [
             [
              0,
              "#0d0887"
             ],
             [
              0.1111111111111111,
              "#46039f"
             ],
             [
              0.2222222222222222,
              "#7201a8"
             ],
             [
              0.3333333333333333,
              "#9c179e"
             ],
             [
              0.4444444444444444,
              "#bd3786"
             ],
             [
              0.5555555555555556,
              "#d8576b"
             ],
             [
              0.6666666666666666,
              "#ed7953"
             ],
             [
              0.7777777777777778,
              "#fb9f3a"
             ],
             [
              0.8888888888888888,
              "#fdca26"
             ],
             [
              1,
              "#f0f921"
             ]
            ],
            "type": "histogram2dcontour"
           }
          ],
          "mesh3d": [
           {
            "colorbar": {
             "outlinewidth": 0,
             "ticks": ""
            },
            "type": "mesh3d"
           }
          ],
          "parcoords": [
           {
            "line": {
             "colorbar": {
              "outlinewidth": 0,
              "ticks": ""
             }
            },
            "type": "parcoords"
           }
          ],
          "pie": [
           {
            "automargin": true,
            "type": "pie"
           }
          ],
          "scatter": [
           {
            "fillpattern": {
             "fillmode": "overlay",
             "size": 10,
             "solidity": 0.2
            },
            "type": "scatter"
           }
          ],
          "scatter3d": [
           {
            "line": {
             "colorbar": {
              "outlinewidth": 0,
              "ticks": ""
             }
            },
            "marker": {
             "colorbar": {
              "outlinewidth": 0,
              "ticks": ""
             }
            },
            "type": "scatter3d"
           }
          ],
          "scattercarpet": [
           {
            "marker": {
             "colorbar": {
              "outlinewidth": 0,
              "ticks": ""
             }
            },
            "type": "scattercarpet"
           }
          ],
          "scattergeo": [
           {
            "marker": {
             "colorbar": {
              "outlinewidth": 0,
              "ticks": ""
             }
            },
            "type": "scattergeo"
           }
          ],
          "scattergl": [
           {
            "marker": {
             "colorbar": {
              "outlinewidth": 0,
              "ticks": ""
             }
            },
            "type": "scattergl"
           }
          ],
          "scattermap": [
           {
            "marker": {
             "colorbar": {
              "outlinewidth": 0,
              "ticks": ""
             }
            },
            "type": "scattermap"
           }
          ],
          "scattermapbox": [
           {
            "marker": {
             "colorbar": {
              "outlinewidth": 0,
              "ticks": ""
             }
            },
            "type": "scattermapbox"
           }
          ],
          "scatterpolar": [
           {
            "marker": {
             "colorbar": {
              "outlinewidth": 0,
              "ticks": ""
             }
            },
            "type": "scatterpolar"
           }
          ],
          "scatterpolargl": [
           {
            "marker": {
             "colorbar": {
              "outlinewidth": 0,
              "ticks": ""
             }
            },
            "type": "scatterpolargl"
           }
          ],
          "scatterternary": [
           {
            "marker": {
             "colorbar": {
              "outlinewidth": 0,
              "ticks": ""
             }
            },
            "type": "scatterternary"
           }
          ],
          "surface": [
           {
            "colorbar": {
             "outlinewidth": 0,
             "ticks": ""
            },
            "colorscale": [
             [
              0,
              "#0d0887"
             ],
             [
              0.1111111111111111,
              "#46039f"
             ],
             [
              0.2222222222222222,
              "#7201a8"
             ],
             [
              0.3333333333333333,
              "#9c179e"
             ],
             [
              0.4444444444444444,
              "#bd3786"
             ],
             [
              0.5555555555555556,
              "#d8576b"
             ],
             [
              0.6666666666666666,
              "#ed7953"
             ],
             [
              0.7777777777777778,
              "#fb9f3a"
             ],
             [
              0.8888888888888888,
              "#fdca26"
             ],
             [
              1,
              "#f0f921"
             ]
            ],
            "type": "surface"
           }
          ],
          "table": [
           {
            "cells": {
             "fill": {
              "color": "#EBF0F8"
             },
             "line": {
              "color": "white"
             }
            },
            "header": {
             "fill": {
              "color": "#C8D4E3"
             },
             "line": {
              "color": "white"
             }
            },
            "type": "table"
           }
          ]
         },
         "layout": {
          "annotationdefaults": {
           "arrowcolor": "#2a3f5f",
           "arrowhead": 0,
           "arrowwidth": 1
          },
          "autotypenumbers": "strict",
          "coloraxis": {
           "colorbar": {
            "outlinewidth": 0,
            "ticks": ""
           }
          },
          "colorscale": {
           "diverging": [
            [
             0,
             "#8e0152"
            ],
            [
             0.1,
             "#c51b7d"
            ],
            [
             0.2,
             "#de77ae"
            ],
            [
             0.3,
             "#f1b6da"
            ],
            [
             0.4,
             "#fde0ef"
            ],
            [
             0.5,
             "#f7f7f7"
            ],
            [
             0.6,
             "#e6f5d0"
            ],
            [
             0.7,
             "#b8e186"
            ],
            [
             0.8,
             "#7fbc41"
            ],
            [
             0.9,
             "#4d9221"
            ],
            [
             1,
             "#276419"
            ]
           ],
           "sequential": [
            [
             0,
             "#0d0887"
            ],
            [
             0.1111111111111111,
             "#46039f"
            ],
            [
             0.2222222222222222,
             "#7201a8"
            ],
            [
             0.3333333333333333,
             "#9c179e"
            ],
            [
             0.4444444444444444,
             "#bd3786"
            ],
            [
             0.5555555555555556,
             "#d8576b"
            ],
            [
             0.6666666666666666,
             "#ed7953"
            ],
            [
             0.7777777777777778,
             "#fb9f3a"
            ],
            [
             0.8888888888888888,
             "#fdca26"
            ],
            [
             1,
             "#f0f921"
            ]
           ],
           "sequentialminus": [
            [
             0,
             "#0d0887"
            ],
            [
             0.1111111111111111,
             "#46039f"
            ],
            [
             0.2222222222222222,
             "#7201a8"
            ],
            [
             0.3333333333333333,
             "#9c179e"
            ],
            [
             0.4444444444444444,
             "#bd3786"
            ],
            [
             0.5555555555555556,
             "#d8576b"
            ],
            [
             0.6666666666666666,
             "#ed7953"
            ],
            [
             0.7777777777777778,
             "#fb9f3a"
            ],
            [
             0.8888888888888888,
             "#fdca26"
            ],
            [
             1,
             "#f0f921"
            ]
           ]
          },
          "colorway": [
           "#636efa",
           "#EF553B",
           "#00cc96",
           "#ab63fa",
           "#FFA15A",
           "#19d3f3",
           "#FF6692",
           "#B6E880",
           "#FF97FF",
           "#FECB52"
          ],
          "font": {
           "color": "#2a3f5f"
          },
          "geo": {
           "bgcolor": "white",
           "lakecolor": "white",
           "landcolor": "#E5ECF6",
           "showlakes": true,
           "showland": true,
           "subunitcolor": "white"
          },
          "hoverlabel": {
           "align": "left"
          },
          "hovermode": "closest",
          "mapbox": {
           "style": "light"
          },
          "paper_bgcolor": "white",
          "plot_bgcolor": "#E5ECF6",
          "polar": {
           "angularaxis": {
            "gridcolor": "white",
            "linecolor": "white",
            "ticks": ""
           },
           "bgcolor": "#E5ECF6",
           "radialaxis": {
            "gridcolor": "white",
            "linecolor": "white",
            "ticks": ""
           }
          },
          "scene": {
           "xaxis": {
            "backgroundcolor": "#E5ECF6",
            "gridcolor": "white",
            "gridwidth": 2,
            "linecolor": "white",
            "showbackground": true,
            "ticks": "",
            "zerolinecolor": "white"
           },
           "yaxis": {
            "backgroundcolor": "#E5ECF6",
            "gridcolor": "white",
            "gridwidth": 2,
            "linecolor": "white",
            "showbackground": true,
            "ticks": "",
            "zerolinecolor": "white"
           },
           "zaxis": {
            "backgroundcolor": "#E5ECF6",
            "gridcolor": "white",
            "gridwidth": 2,
            "linecolor": "white",
            "showbackground": true,
            "ticks": "",
            "zerolinecolor": "white"
           }
          },
          "shapedefaults": {
           "line": {
            "color": "#2a3f5f"
           }
          },
          "ternary": {
           "aaxis": {
            "gridcolor": "white",
            "linecolor": "white",
            "ticks": ""
           },
           "baxis": {
            "gridcolor": "white",
            "linecolor": "white",
            "ticks": ""
           },
           "bgcolor": "#E5ECF6",
           "caxis": {
            "gridcolor": "white",
            "linecolor": "white",
            "ticks": ""
           }
          },
          "title": {
           "x": 0.05
          },
          "xaxis": {
           "automargin": true,
           "gridcolor": "white",
           "linecolor": "white",
           "ticks": "",
           "title": {
            "standoff": 15
           },
           "zerolinecolor": "white",
           "zerolinewidth": 2
          },
          "yaxis": {
           "automargin": true,
           "gridcolor": "white",
           "linecolor": "white",
           "ticks": "",
           "title": {
            "standoff": 15
           },
           "zerolinecolor": "white",
           "zerolinewidth": 2
          }
         }
        },
        "xaxis": {
         "anchor": "y",
         "domain": [
          0,
          1
         ]
        },
        "yaxis": {
         "anchor": "x",
         "autorange": "reversed",
         "domain": [
          0,
          1
         ]
        }
       }
      },
      "image/png": "[encoded data removed]"
     },
     "metadata": {},
     "output_type": "display_data"
    }
   ],
   "source": [
    "px.imshow(df.corr(), text_auto=True, aspect=\"auto\")"
   ]
  },
  {
   "cell_type": "code",
   "execution_count": 22,
   "id": "78f5b32d-1a05-4473-a57d-31c46771edb5",
   "metadata": {},
   "outputs": [
    {
     "data": {
      "text/html": [
       "<div>\n",
       "<style scoped>\n",
       "    .dataframe tbody tr th:only-of-type {\n",
       "        vertical-align: middle;\n",
       "    }\n",
       "\n",
       "    .dataframe tbody tr th {\n",
       "        vertical-align: top;\n",
       "    }\n",
       "\n",
       "    .dataframe thead th {\n",
       "        text-align: right;\n",
       "    }\n",
       "</style>\n",
       "<table border=\"1\" class=\"dataframe\">\n",
       "  <thead>\n",
       "    <tr style=\"text-align: right;\">\n",
       "      <th></th>\n",
       "      <th>fixed acidity</th>\n",
       "      <th>volatile acidity</th>\n",
       "      <th>citric acid</th>\n",
       "      <th>pH</th>\n",
       "    </tr>\n",
       "  </thead>\n",
       "  <tbody>\n",
       "    <tr>\n",
       "      <th>0</th>\n",
       "      <td>4.6</td>\n",
       "      <td>0.52</td>\n",
       "      <td>0.15</td>\n",
       "      <td>3.90</td>\n",
       "    </tr>\n",
       "    <tr>\n",
       "      <th>1</th>\n",
       "      <td>4.9</td>\n",
       "      <td>0.42</td>\n",
       "      <td>0.00</td>\n",
       "      <td>3.71</td>\n",
       "    </tr>\n",
       "    <tr>\n",
       "      <th>2</th>\n",
       "      <td>5.0</td>\n",
       "      <td>0.38</td>\n",
       "      <td>0.01</td>\n",
       "      <td>3.70</td>\n",
       "    </tr>\n",
       "    <tr>\n",
       "      <th>3</th>\n",
       "      <td>5.0</td>\n",
       "      <td>0.40</td>\n",
       "      <td>0.50</td>\n",
       "      <td>3.49</td>\n",
       "    </tr>\n",
       "    <tr>\n",
       "      <th>4</th>\n",
       "      <td>5.0</td>\n",
       "      <td>0.42</td>\n",
       "      <td>0.24</td>\n",
       "      <td>3.72</td>\n",
       "    </tr>\n",
       "  </tbody>\n",
       "</table>\n",
       "</div>"
      ],
      "text/plain": [
       "   fixed acidity  volatile acidity  citric acid    pH\n",
       "0            4.6              0.52         0.15  3.90\n",
       "1            4.9              0.42         0.00  3.71\n",
       "2            5.0              0.38         0.01  3.70\n",
       "3            5.0              0.40         0.50  3.49\n",
       "4            5.0              0.42         0.24  3.72"
      ]
     },
     "execution_count": 22,
     "metadata": {},
     "output_type": "execute_result"
    }
   ],
   "source": [
    "acid_pd = df.groupby([\"fixed acidity\", \"volatile acidity\", \"citric acid\"])[\"pH\"].mean().reset_index()\n",
    "acid_pd.head()"
   ]
  },
  {
   "cell_type": "code",
   "execution_count": 24,
   "id": "7c8240f8-f8b7-45e6-84d4-a30df0d84b20",
   "metadata": {},
   "outputs": [
    {
     "data": {
      "application/vnd.plotly.v1+json": {
       "config": {
        "plotlyServerURL": "https://plot.ly"
       },
       "data": [
        {
         "hovertemplate": "variable=fixed acidity<br>value=%{x}<br>pH=%{y}<extra></extra>",
         "legendgroup": "fixed acidity",
         "marker": {
          "color": "#636efa",
          "pattern": {
           "shape": ""
          }
         },
         "name": "fixed acidity",
         "orientation": "v",
         "showlegend": true,
         "textposition": "auto",
         "type": "bar",
         "x": {
          "bdata": "ZmZmZmZmEkCamZmZmZkTQAAAAAAAABRAAAAAAAAAFEAAAAAAAAAUQAAAAAAAABRAAAAAAAAAFEAAAAAAAAAUQGZmZmZmZhRAZmZmZmZmFEBmZmZmZmYUQGZmZmZmZhRAzczMzMzMFEDNzMzMzMwUQM3MzMzMzBRAzczMzMzMFEAzMzMzMzMVQDMzMzMzMxVAMzMzMzMzFUCamZmZmZkVQJqZmZmZmRVAmpmZmZmZFUBmZmZmZmYWQGZmZmZmZhZAZmZmZmZmFkBmZmZmZmYWQGZmZmZmZhZAZmZmZmZmFkBmZmZmZmYWQGZmZmZmZhZAzczMzMzMFkAzMzMzMzMXQDMzMzMzMxdAmpmZmZmZF0CamZmZmZkXQJqZmZmZmRdAmpmZmZmZF0CamZmZmZkXQAAAAAAAABhAAAAAAAAAGEAAAAAAAAAYQAAAAAAAABhAAAAAAAAAGEBmZmZmZmYYQGZmZmZmZhhAZmZmZmZmGEBmZmZmZmYYQGZmZmZmZhhAZmZmZmZmGEBmZmZmZmYYQGZmZmZmZhhAZmZmZmZmGEBmZmZmZmYYQM3MzMzMzBhAzczMzMzMGEDNzMzMzMwYQM3MzMzMzBhAzczMzMzMGEDNzMzMzMwYQM3MzMzMzBhAzczMzMzMGEDNzMzMzMwYQM3MzMzMzBhAzczMzMzMGEDNzMzMzMwYQM3MzMzMzBhAzczMzMzMGEDNzMzMzMwYQM3MzMzMzBhAMzMzMzMzGUAzMzMzMzMZQDMzMzMzMxlAMzMzMzMzGUAzMzMzMzMZQDMzMzMzMxlAMzMzMzMzGUAzMzMzMzMZQDMzMzMzMxlAMzMzMzMzGUAzMzMzMzMZQDMzMzMzMxlAmpmZmZmZGUCamZmZmZkZQJqZmZmZmRlAmpmZmZmZGUCamZmZmZkZQJqZmZmZmRlAmpmZmZmZGUCamZmZmZkZQJqZmZmZmRlAmpmZmZmZGUCamZmZmZkZQJqZmZmZmRlAmpmZmZmZGUCamZmZmZkZQJqZmZmZmRlAmpmZmZmZGUAAAAAAAAAaQAAAAAAAABpAAAAAAAAAGkAAAAAAAAAaQAAAAAAAABpAAAAAAAAAGkAAAAAAAAAaQAAAAAAAABpAAAAAAAAAGkAAAAAAAAAaQAAAAAAAABpAAAAAAAAAGkBmZmZmZmYaQGZmZmZmZhpAZmZmZmZmGkBmZmZmZmYaQGZmZmZmZhpAZmZmZmZmGkBmZmZmZmYaQGZmZmZmZhpAZmZmZmZmGkBmZmZmZmYaQGZmZmZmZhpAZmZmZmZmGkBmZmZmZmYaQGZmZmZmZhpAZmZmZmZmGkBmZmZmZmYaQGZmZmZmZhpAZmZmZmZmGkBmZmZmZmYaQGZmZmZmZhpAZmZmZmZmGkDNzMzMzMwaQM3MzMzMzBpAzczMzMzMGkDNzMzMzMwaQM3MzMzMzBpAzczMzMzMGkDNzMzMzMwaQM3MzMzMzBpAzczMzMzMGkDNzMzMzMwaQM3MzMzMzBpAzczMzMzMGkDNzMzMzMwaQM3MzMzMzBpAzczMzMzMGkDNzMzMzMwaQM3MzMzMzBpAzczMzMzMGkAzMzMzMzMbQDMzMzMzMxtAMzMzMzMzG0AzMzMzMzMbQDMzMzMzMxtAMzMzMzMzG0AzMzMzMzMbQDMzMzMzMxtAMzMzMzMzG0AzMzMzMzMbQDMzMzMzMxtAMzMzMzMzG0AzMzMzMzMbQDMzMzMzMxtAMzMzMzMzG0AzMzMzMzMbQDMzMzMzMxtAMzMzMzMzG0AzMzMzMzMbQDMzMzMzMxtAMzMzMzMzG0AzMzMzMzMbQDMzMzMzMxtAMzMzMzMzG0AzMzMzMzMbQDMzMzMzMxtAMzMzMzMzG0AzMzMzMzMbQJqZmZmZmRtAmpmZmZmZG0CamZmZmZkbQJqZmZmZmRtAmpmZmZmZG0CamZmZmZkbQJqZmZmZmRtAmpmZmZmZG0CamZmZmZkbQJqZmZmZmRtAmpmZmZmZG0CamZmZmZkbQJqZmZmZmRtAmpmZmZmZG0CamZmZmZkbQJqZmZmZmRtAmpmZmZmZG0CamZmZmZkbQJqZmZmZmRtAmpmZmZmZG0AAAAAAAAAcQAAAAAAAABxAAAAAAAAAHEAAAAAAAAAcQAAAAAAAABxAAAAAAAAAHEAAAAAAAAAcQAAAAAAAABxAAAAAAAAAHEAAAAAAAAAcQAAAAAAAABxAAAAAAAAAHEAAAAAAAAAcQAAAAAAAABxAAAAAAAAAHEAAAAAAAAAcQAAAAAAAABxAAAAAAAAAHEAAAAAAAAAcQAAAAAAAABxAAAAAAAAAHEAAAAAAAAAcQAAAAAAAABxAAAAAAAAAHEAAAAAAAAAcQAAAAAAAABxAAAAAAAAAHEAAAAAAAAAcQAAAAAAAABxAAAAAAAAAHEAAAAAAAAAcQAAAAAAAABxAAAAAAAAAHEAAAAAAAAAcQAAAAAAAABxAAAAAAAAAHEBmZmZmZmYcQGZmZmZmZhxAZmZmZmZmHEBmZmZmZmYcQGZmZmZmZhxAZmZmZmZmHEBmZmZmZmYcQGZmZmZmZhxAZmZmZmZmHEBmZmZmZmYcQGZmZmZmZhxAZmZmZmZmHEBmZmZmZmYcQGZmZmZmZhxAZmZmZmZmHEBmZmZmZmYcQGZmZmZmZhxAZmZmZmZmHEBmZmZmZmYcQGZmZmZmZhxAZmZmZmZmHEBmZmZmZmYcQGZmZmZmZhxAZmZmZmZmHEBmZmZmZmYcQGZmZmZmZhxAZmZmZmZmHEBmZmZmZmYcQGZmZmZmZhxAZmZmZmZmHEBmZmZmZmYcQGZmZmZmZhxAZmZmZmZmHEDNzMzMzMwcQM3MzMzMzBxAzczMzMzMHEDNzMzMzMwcQM3MzMzMzBxAzczMzMzMHEDNzMzMzMwcQM3MzMzMzBxAzczMzMzMHEDNzMzMzMwcQM3MzMzMzBxAzczMzMzMHEDNzMzMzMwcQM3MzMzMzBxAzczMzMzMHEDNzMzMzMwcQM3MzMzMzBxAzczMzMzMHEDNzMzMzMwcQM3MzMzMzBxAzczMzMzMHEDNzMzMzMwcQM3MzMzMzBxAzczMzMzMHEDNzMzMzMwcQM3MzMzMzBxAzczMzMzMHEDNzMzMzMwcQM3MzMzMzBxAzczMzMzMHEDNzMzMzMwcQM3MzMzMzBxAzczMzMzMHEDNzMzMzMwcQDMzMzMzMx1AMzMzMzMzHUAzMzMzMzMdQDMzMzMzMx1AMzMzMzMzHUAzMzMzMzMdQDMzMzMzMx1AMzMzMzMzHUAzMzMzMzMdQDMzMzMzMx1AMzMzMzMzHUAzMzMzMzMdQDMzMzMzMx1AMzMzMzMzHUAzMzMzMzMdQDMzMzMzMx1AMzMzMzMzHUAzMzMzMzMdQDMzMzMzMx1AMzMzMzMzHUAzMzMzMzMdQDMzMzMzMx1AMzMzMzMzHUAzMzMzMzMdQDMzMzMzMx1AMzMzMzMzHUAzMzMzMzMdQDMzMzMzMx1AmpmZmZmZHUCamZmZmZkdQJqZmZmZmR1AmpmZmZmZHUCamZmZmZkdQJqZmZmZmR1AmpmZmZmZHUCamZmZmZkdQJqZmZmZmR1AmpmZmZmZHUCamZmZmZkdQJqZmZmZmR1AmpmZmZmZHUCamZmZmZkdQJqZmZmZmR1AmpmZmZmZHUCamZmZmZkdQJqZmZmZmR1AmpmZmZmZHUCamZmZmZkdQJqZmZmZmR1AmpmZmZmZHUCamZmZmZkdQJqZmZmZmR1AmpmZmZmZHUCamZmZmZkdQJqZmZmZmR1AAAAAAAAAHkAAAAAAAAAeQAAAAAAAAB5AAAAAAAAAHkAAAAAAAAAeQAAAAAAAAB5AAAAAAAAAHkAAAAAAAAAeQAAAAAAAAB5AAAAAAAAAHkAAAAAAAAAeQAAAAAAAAB5AAAAAAAAAHkAAAAAAAAAeQAAAAAAAAB5AAAAAAAAAHkAAAAAAAAAeQAAAAAAAAB5AAAAAAAAAHkAAAAAAAAAeQAAAAAAAAB5AAAAAAAAAHkAAAAAAAAAeQAAAAAAAAB5AAAAAAAAAHkAAAAAAAAAeQAAAAAAAAB5AAAAAAAAAHkAAAAAAAAAeQAAAAAAAAB5AAAAAAAAAHkBmZmZmZmYeQGZmZmZmZh5AZmZmZmZmHkBmZmZmZmYeQGZmZmZmZh5AZmZmZmZmHkBmZmZmZmYeQGZmZmZmZh5AZmZmZmZmHkBmZmZmZmYeQGZmZmZmZh5AZmZmZmZmHkBmZmZmZmYeQGZmZmZmZh5AZmZmZmZmHkBmZmZmZmYeQGZmZmZmZh5AZmZmZmZmHkBmZmZmZmYeQGZmZmZmZh5AZmZmZmZmHkBmZmZmZmYeQGZmZmZmZh5AZmZmZmZmHkBmZmZmZmYeQGZmZmZmZh5AZmZmZmZmHkBmZmZmZmYeQGZmZmZmZh5AZmZmZmZmHkBmZmZmZmYeQM3MzMzMzB5AzczMzMzMHkDNzMzMzMweQM3MzMzMzB5AzczMzMzMHkDNzMzMzMweQM3MzMzMzB5AzczMzMzMHkDNzMzMzMweQM3MzMzMzB5AzczMzMzMHkDNzMzMzMweQM3MzMzMzB5AzczMzMzMHkDNzMzMzMweQM3MzMzMzB5AzczMzMzMHkDNzMzMzMweQM3MzMzMzB5AzczMzMzMHkDNzMzMzMweQM3MzMzMzB5AzczMzMzMHkDNzMzMzMweQM3MzMzMzB5AzczMzMzMHkDNzMzMzMweQM3MzMzMzB5AzczMzMzMHkDNzMzMzMweQDMzMzMzMx9AMzMzMzMzH0AzMzMzMzMfQDMzMzMzMx9AMzMzMzMzH0AzMzMzMzMfQDMzMzMzMx9AMzMzMzMzH0AzMzMzMzMfQDMzMzMzMx9AMzMzMzMzH0AzMzMzMzMfQDMzMzMzMx9AMzMzMzMzH0AzMzMzMzMfQDMzMzMzMx9AMzMzMzMzH0AzMzMzMzMfQDMzMzMzMx9AMzMzMzMzH0AzMzMzMzMfQDMzMzMzMx9AMzMzMzMzH0AzMzMzMzMfQDMzMzMzMx9AMzMzMzMzH0AzMzMzMzMfQDMzMzMzMx9AMzMzMzMzH0AzMzMzMzMfQDMzMzMzMx9AMzMzMzMzH0AzMzMzMzMfQDMzMzMzMx9AmpmZmZmZH0CamZmZmZkfQJqZmZmZmR9AmpmZmZmZH0CamZmZmZkfQJqZmZmZmR9AmpmZmZmZH0CamZmZmZkfQJqZmZmZmR9AmpmZmZmZH0CamZmZmZkfQJqZmZmZmR9AmpmZmZmZH0CamZmZmZkfQJqZmZmZmR9AmpmZmZmZH0CamZmZmZkfQJqZmZmZmR9AmpmZmZmZH0CamZmZmZkfQJqZmZmZmR9AmpmZmZmZH0CamZmZmZkfQJqZmZmZmR9AmpmZmZmZH0CamZmZmZkfQJqZmZmZmR9AmpmZmZmZH0CamZmZmZkfQJqZmZmZmR9AmpmZmZmZH0CamZmZmZkfQAAAAAAAACBAAAAAAAAAIEAAAAAAAAAgQAAAAAAAACBAAAAAAAAAIEAAAAAAAAAgQAAAAAAAACBAAAAAAAAAIEAAAAAAAAAgQAAAAAAAACBAAAAAAAAAIEAAAAAAAAAgQAAAAAAAACBAAAAAAAAAIEAAAAAAAAAgQAAAAAAAACBAAAAAAAAAIEAAAAAAAAAgQAAAAAAAACBAAAAAAAAAIEAAAAAAAAAgQAAAAAAAACBAAAAAAAAAIEAAAAAAAAAgQAAAAAAAACBAAAAAAAAAIEAAAAAAAAAgQDMzMzMzMyBAMzMzMzMzIEAzMzMzMzMgQDMzMzMzMyBAMzMzMzMzIEAzMzMzMzMgQDMzMzMzMyBAMzMzMzMzIEAzMzMzMzMgQDMzMzMzMyBAMzMzMzMzIEAzMzMzMzMgQDMzMzMzMyBAMzMzMzMzIEAzMzMzMzMgQDMzMzMzMyBAMzMzMzMzIEBmZmZmZmYgQGZmZmZmZiBAZmZmZmZmIEBmZmZmZmYgQGZmZmZmZiBAZmZmZmZmIEBmZmZmZmYgQGZmZmZmZiBAZmZmZmZmIEBmZmZmZmYgQGZmZmZmZiBAZmZmZmZmIEBmZmZmZmYgQGZmZmZmZiBAZmZmZmZmIEBmZmZmZmYgQGZmZmZmZiBAZmZmZmZmIEBmZmZmZmYgQGZmZmZmZiBAZmZmZmZmIEBmZmZmZmYgQGZmZmZmZiBAZmZmZmZmIEBmZmZmZmYgQJqZmZmZmSBAmpmZmZmZIECamZmZmZkgQJqZmZmZmSBAmpmZmZmZIECamZmZmZkgQJqZmZmZmSBAmpmZmZmZIECamZmZmZkgQJqZmZmZmSBAmpmZmZmZIECamZmZmZkgQJqZmZmZmSBAmpmZmZmZIECamZmZmZkgQJqZmZmZmSBAmpmZmZmZIECamZmZmZkgQJqZmZmZmSBAmpmZmZmZIECamZmZmZkgQJqZmZmZmSBAmpmZmZmZIECamZmZmZkgQM3MzMzMzCBAzczMzMzMIEDNzMzMzMwgQM3MzMzMzCBAzczMzMzMIEDNzMzMzMwgQM3MzMzMzCBAzczMzMzMIEDNzMzMzMwgQM3MzMzMzCBAzczMzMzMIEDNzMzMzMwgQM3MzMzMzCBAzczMzMzMIEDNzMzMzMwgQM3MzMzMzCBAzczMzMzMIEAAAAAAAAAhQAAAAAAAACFAAAAAAAAAIUAAAAAAAAAhQAAAAAAAACFAAAAAAAAAIUAAAAAAAAAhQAAAAAAAACFAAAAAAAAAIUAAAAAAAAAhQAAAAAAAACFAAAAAAAAAIUAAAAAAAAAhQAAAAAAAACFAAAAAAAAAIUAAAAAAAAAhQDMzMzMzMyFAMzMzMzMzIUAzMzMzMzMhQDMzMzMzMyFAMzMzMzMzIUAzMzMzMzMhQDMzMzMzMyFAMzMzMzMzIUAzMzMzMzMhQDMzMzMzMyFAMzMzMzMzIUAzMzMzMzMhQDMzMzMzMyFAMzMzMzMzIUAzMzMzMzMhQDMzMzMzMyFAMzMzMzMzIUAzMzMzMzMhQDMzMzMzMyFAMzMzMzMzIUAzMzMzMzMhQGZmZmZmZiFAZmZmZmZmIUBmZmZmZmYhQGZmZmZmZiFAZmZmZmZmIUBmZmZmZmYhQGZmZmZmZiFAZmZmZmZmIUBmZmZmZmYhQGZmZmZmZiFAZmZmZmZmIUBmZmZmZmYhQGZmZmZmZiFAZmZmZmZmIUBmZmZmZmYhQGZmZmZmZiFAmpmZmZmZIUCamZmZmZkhQJqZmZmZmSFAmpmZmZmZIUCamZmZmZkhQJqZmZmZmSFAmpmZmZmZIUCamZmZmZkhQJqZmZmZmSFAmpmZmZmZIUCamZmZmZkhQJqZmZmZmSFAmpmZmZmZIUCamZmZmZkhQJqZmZmZmSFAmpmZmZmZIUCamZmZmZkhQJqZmZmZmSFAmpmZmZmZIUCamZmZmZkhQJqZmZmZmSFAmpmZmZmZIUCamZmZmZkhQM3MzMzMzCFAzczMzMzMIUDNzMzMzMwhQM3MzMzMzCFAzczMzMzMIUDNzMzMzMwhQM3MzMzMzCFAzczMzMzMIUDNzMzMzMwhQM3MzMzMzCFAzczMzMzMIUDNzMzMzMwhQM3MzMzMzCFAzczMzMzMIUDNzMzMzMwhQM3MzMzMzCFAzczMzMzMIUDNzMzMzMwhQM3MzMzMzCFAzczMzMzMIUDNzMzMzMwhQM3MzMzMzCFAzczMzMzMIUDNzMzMzMwhQAAAAAAAACJAAAAAAAAAIkAAAAAAAAAiQAAAAAAAACJAAAAAAAAAIkAAAAAAAAAiQAAAAAAAACJAAAAAAAAAIkAAAAAAAAAiQAAAAAAAACJAAAAAAAAAIkAAAAAAAAAiQAAAAAAAACJAAAAAAAAAIkAzMzMzMzMiQDMzMzMzMyJAMzMzMzMzIkAzMzMzMzMiQDMzMzMzMyJAMzMzMzMzIkAzMzMzMzMiQDMzMzMzMyJAMzMzMzMzIkAzMzMzMzMiQDMzMzMzMyJAMzMzMzMzIkAzMzMzMzMiQDMzMzMzMyJAMzMzMzMzIkAzMzMzMzMiQDMzMzMzMyJAMzMzMzMzIkAzMzMzMzMiQDMzMzMzMyJAZmZmZmZmIkBmZmZmZmYiQGZmZmZmZiJAZmZmZmZmIkBmZmZmZmYiQGZmZmZmZiJAZmZmZmZmIkBmZmZmZmYiQGZmZmZmZiJAZmZmZmZmIkBmZmZmZmYiQGZmZmZmZiJAmpmZmZmZIkCamZmZmZkiQJqZmZmZmSJAmpmZmZmZIkCamZmZmZkiQJqZmZmZmSJAmpmZmZmZIkCamZmZmZkiQJqZmZmZmSJAmpmZmZmZIkCamZmZmZkiQJqZmZmZmSJAmpmZmZmZIkCamZmZmZkiQJqZmZmZmSJAzczMzMzMIkDNzMzMzMwiQM3MzMzMzCJAzczMzMzMIkDNzMzMzMwiQM3MzMzMzCJAzczMzMzMIkDNzMzMzMwiQM3MzMzMzCJAzczMzMzMIkDNzMzMzMwiQM3MzMzMzCJAAAAAAAAAI0AAAAAAAAAjQAAAAAAAACNAAAAAAAAAI0AAAAAAAAAjQAAAAAAAACNAAAAAAAAAI0AAAAAAAAAjQDMzMzMzMyNAMzMzMzMzI0AzMzMzMzMjQDMzMzMzMyNAMzMzMzMzI0AzMzMzMzMjQDMzMzMzMyNAMzMzMzMzI0AzMzMzMzMjQGZmZmZmZiNAZmZmZmZmI0BmZmZmZmYjQGZmZmZmZiNAZmZmZmZmI0CamZmZmZkjQJqZmZmZmSNAmpmZmZmZI0CamZmZmZkjQJqZmZmZmSNAmpmZmZmZI0CamZmZmZkjQJqZmZmZmSNAzczMzMzMI0DNzMzMzMwjQM3MzMzMzCNAzczMzMzMI0DNzMzMzMwjQM3MzMzMzCNAzczMzMzMI0DNzMzMzMwjQM3MzMzMzCNAzczMzMzMI0DNzMzMzMwjQM3MzMzMzCNAzczMzMzMI0DNzMzMzMwjQM3MzMzMzCNAAAAAAAAAJEAAAAAAAAAkQAAAAAAAACRAAAAAAAAAJEAAAAAAAAAkQAAAAAAAACRAAAAAAAAAJEAAAAAAAAAkQAAAAAAAACRAAAAAAAAAJEAAAAAAAAAkQAAAAAAAACRAAAAAAAAAJEAAAAAAAAAkQDMzMzMzMyRAMzMzMzMzJEAzMzMzMzMkQDMzMzMzMyRAMzMzMzMzJEAzMzMzMzMkQDMzMzMzMyRAMzMzMzMzJEBmZmZmZmYkQGZmZmZmZiRAZmZmZmZmJEBmZmZmZmYkQGZmZmZmZiRAZmZmZmZmJEBmZmZmZmYkQGZmZmZmZiRAZmZmZmZmJEBmZmZmZmYkQJqZmZmZmSRAmpmZmZmZJECamZmZmZkkQJqZmZmZmSRAmpmZmZmZJECamZmZmZkkQM3MzMzMzCRAzczMzMzMJEDNzMzMzMwkQM3MzMzMzCRAzczMzMzMJEDNzMzMzMwkQM3MzMzMzCRAzczMzMzMJEDNzMzMzMwkQM3MzMzMzCRAzczMzMzMJEDNzMzMzMwkQAAAAAAAACVAAAAAAAAAJUAAAAAAAAAlQAAAAAAAACVAMzMzMzMzJUAzMzMzMzMlQDMzMzMzMyVAMzMzMzMzJUAzMzMzMzMlQDMzMzMzMyVAMzMzMzMzJUAzMzMzMzMlQGZmZmZmZiVAZmZmZmZmJUBmZmZmZmYlQGZmZmZmZiVAmpmZmZmZJUCamZmZmZklQJqZmZmZmSVAmpmZmZmZJUCamZmZmZklQJqZmZmZmSVAzczMzMzMJUDNzMzMzMwlQM3MzMzMzCVAMzMzMzMzJkAzMzMzMzMmQDMzMzMzMyZAMzMzMzMzJkAzMzMzMzMmQGZmZmZmZiZAZmZmZmZmJkBmZmZmZmYmQGZmZmZmZiZAZmZmZmZmJkCamZmZmZkmQJqZmZmZmSZAmpmZmZmZJkCamZmZmZkmQJqZmZmZmSZAzczMzMzMJkDNzMzMzMwmQM3MzMzMzCZAzczMzMzMJkAAAAAAAAAnQAAAAAAAACdAAAAAAAAAJ0AAAAAAAAAnQAAAAAAAACdAAAAAAAAAJ0AAAAAAAAAnQAAAAAAAACdAAAAAAAAAJ0AzMzMzMzMnQDMzMzMzMydAMzMzMzMzJ0AzMzMzMzMnQDMzMzMzMydAMzMzMzMzJ0AzMzMzMzMnQGZmZmZmZidAZmZmZmZmJ0CamZmZmZknQM3MzMzMzCdAzczMzMzMJ0DNzMzMzMwnQM3MzMzMzCdAzczMzMzMJ0DNzMzMzMwnQM3MzMzMzCdAAAAAAAAAKEAAAAAAAAAoQAAAAAAAAChAAAAAAAAAKEAAAAAAAAAoQAAAAAAAAChAZmZmZmZmKECamZmZmZkoQJqZmZmZmShAzczMzMzMKEDNzMzMzMwoQAAAAAAAAClAAAAAAAAAKUAAAAAAAAApQAAAAAAAAClAAAAAAAAAKUAAAAAAAAApQAAAAAAAAClAMzMzMzMzKUAzMzMzMzMpQDMzMzMzMylAMzMzMzMzKUBmZmZmZmYpQJqZmZmZmSlAmpmZmZmZKUCamZmZmZkpQM3MzMzMzClAzczMzMzMKUAAAAAAAAAqQAAAAAAAACpAZmZmZmZmKkCamZmZmZkqQJqZmZmZmSpAzczMzMzMKkAAAAAAAAArQGZmZmZmZitAmpmZmZmZK0CamZmZmZksQAAAAAAAAC5AAAAAAAAAL0AzMzMzMzMvQDMzMzMzMy9AzczMzMzML0A=",
          "dtype": "f8"
         },
         "xaxis": "x",
         "y": {
          "bdata": "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",
          "dtype": "f8"
         },
         "yaxis": "y"
        },
        {
         "hovertemplate": "variable=volatile acidity<br>value=%{x}<br>pH=%{y}<extra></extra>",
         "legendgroup": "volatile acidity",
         "marker": {
          "color": "#EF553B",
          "pattern": {
           "shape": ""
          }
         },
         "name": "volatile acidity",
         "orientation": "v",
         "showlegend": true,
         "textposition": "auto",
         "type": "bar",
         "x": {
          "bdata": "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",
          "dtype": "f8"
         },
         "xaxis": "x",
         "y": {
          "bdata": "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",
          "dtype": "f8"
         },
         "yaxis": "y"
        },
        {
         "hovertemplate": "variable=citric acid<br>value=%{x}<br>pH=%{y}<extra></extra>",
         "legendgroup": "citric acid",
         "marker": {
          "color": "#00cc96",
          "pattern": {
           "shape": ""
          }
         },
         "name": "citric acid",
         "orientation": "v",
         "showlegend": true,
         "textposition": "auto",
         "type": "bar",
         "x": {
          "bdata": "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",
          "dtype": "f8"
         },
         "xaxis": "x",
         "y": {
          "bdata": "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",
          "dtype": "f8"
         },
         "yaxis": "y"
        }
       ],
       "layout": {
        "barmode": "relative",
        "legend": {
         "title": {
          "text": "variable"
         },
         "tracegroupgap": 0
        },
        "margin": {
         "t": 60
        },
        "template": {
         "data": {
          "bar": [
           {
            "error_x": {
             "color": "#2a3f5f"
            },
            "error_y": {
             "color": "#2a3f5f"
            },
            "marker": {
             "line": {
              "color": "#E5ECF6",
              "width": 0.5
             },
             "pattern": {
              "fillmode": "overlay",
              "size": 10,
              "solidity": 0.2
             }
            },
            "type": "bar"
           }
          ],
          "barpolar": [
           {
            "marker": {
             "line": {
              "color": "#E5ECF6",
              "width": 0.5
             },
             "pattern": {
              "fillmode": "overlay",
              "size": 10,
              "solidity": 0.2
             }
            },
            "type": "barpolar"
           }
          ],
          "carpet": [
           {
            "aaxis": {
             "endlinecolor": "#2a3f5f",
             "gridcolor": "white",
             "linecolor": "white",
             "minorgridcolor": "white",
             "startlinecolor": "#2a3f5f"
            },
            "baxis": {
             "endlinecolor": "#2a3f5f",
             "gridcolor": "white",
             "linecolor": "white",
             "minorgridcolor": "white",
             "startlinecolor": "#2a3f5f"
            },
            "type": "carpet"
           }
          ],
          "choropleth": [
           {
            "colorbar": {
             "outlinewidth": 0,
             "ticks": ""
            },
            "type": "choropleth"
           }
          ],
          "contour": [
           {
            "colorbar": {
             "outlinewidth": 0,
             "ticks": ""
            },
            "colorscale": [
             [
              0,
              "#0d0887"
             ],
             [
              0.1111111111111111,
              "#46039f"
             ],
             [
              0.2222222222222222,
              "#7201a8"
             ],
             [
              0.3333333333333333,
              "#9c179e"
             ],
             [
              0.4444444444444444,
              "#bd3786"
             ],
             [
              0.5555555555555556,
              "#d8576b"
             ],
             [
              0.6666666666666666,
              "#ed7953"
             ],
             [
              0.7777777777777778,
              "#fb9f3a"
             ],
             [
              0.8888888888888888,
              "#fdca26"
             ],
             [
              1,
              "#f0f921"
             ]
            ],
            "type": "contour"
           }
          ],
          "contourcarpet": [
           {
            "colorbar": {
             "outlinewidth": 0,
             "ticks": ""
            },
            "type": "contourcarpet"
           }
          ],
          "heatmap": [
           {
            "colorbar": {
             "outlinewidth": 0,
             "ticks": ""
            },
            "colorscale": [
             [
              0,
              "#0d0887"
             ],
             [
              0.1111111111111111,
              "#46039f"
             ],
             [
              0.2222222222222222,
              "#7201a8"
             ],
             [
              0.3333333333333333,
              "#9c179e"
             ],
             [
              0.4444444444444444,
              "#bd3786"
             ],
             [
              0.5555555555555556,
              "#d8576b"
             ],
             [
              0.6666666666666666,
              "#ed7953"
             ],
             [
              0.7777777777777778,
              "#fb9f3a"
             ],
             [
              0.8888888888888888,
              "#fdca26"
             ],
             [
              1,
              "#f0f921"
             ]
            ],
            "type": "heatmap"
           }
          ],
          "histogram": [
           {
            "marker": {
             "pattern": {
              "fillmode": "overlay",
              "size": 10,
              "solidity": 0.2
             }
            },
            "type": "histogram"
           }
          ],
          "histogram2d": [
           {
            "colorbar": {
             "outlinewidth": 0,
             "ticks": ""
            },
            "colorscale": [
             [
              0,
              "#0d0887"
             ],
             [
              0.1111111111111111,
              "#46039f"
             ],
             [
              0.2222222222222222,
              "#7201a8"
             ],
             [
              0.3333333333333333,
              "#9c179e"
             ],
             [
              0.4444444444444444,
              "#bd3786"
             ],
             [
              0.5555555555555556,
              "#d8576b"
             ],
             [
              0.6666666666666666,
              "#ed7953"
             ],
             [
              0.7777777777777778,
              "#fb9f3a"
             ],
             [
              0.8888888888888888,
              "#fdca26"
             ],
             [
              1,
              "#f0f921"
             ]
            ],
            "type": "histogram2d"
           }
          ],
          "histogram2dcontour": [
           {
            "colorbar": {
             "outlinewidth": 0,
             "ticks": ""
            },
            "colorscale": [
             [
              0,
              "#0d0887"
             ],
             [
              0.1111111111111111,
              "#46039f"
             ],
             [
              0.2222222222222222,
              "#7201a8"
             ],
             [
              0.3333333333333333,
              "#9c179e"
             ],
             [
              0.4444444444444444,
              "#bd3786"
             ],
             [
              0.5555555555555556,
              "#d8576b"
             ],
             [
              0.6666666666666666,
              "#ed7953"
             ],
             [
              0.7777777777777778,
              "#fb9f3a"
             ],
             [
              0.8888888888888888,
              "#fdca26"
             ],
             [
              1,
              "#f0f921"
             ]
            ],
            "type": "histogram2dcontour"
           }
          ],
          "mesh3d": [
           {
            "colorbar": {
             "outlinewidth": 0,
             "ticks": ""
            },
            "type": "mesh3d"
           }
          ],
          "parcoords": [
           {
            "line": {
             "colorbar": {
              "outlinewidth": 0,
              "ticks": ""
             }
            },
            "type": "parcoords"
           }
          ],
          "pie": [
           {
            "automargin": true,
            "type": "pie"
           }
          ],
          "scatter": [
           {
            "fillpattern": {
             "fillmode": "overlay",
             "size": 10,
             "solidity": 0.2
            },
            "type": "scatter"
           }
          ],
          "scatter3d": [
           {
            "line": {
             "colorbar": {
              "outlinewidth": 0,
              "ticks": ""
             }
            },
            "marker": {
             "colorbar": {
              "outlinewidth": 0,
              "ticks": ""
             }
            },
            "type": "scatter3d"
           }
          ],
          "scattercarpet": [
           {
            "marker": {
             "colorbar": {
              "outlinewidth": 0,
              "ticks": ""
             }
            },
            "type": "scattercarpet"
           }
          ],
          "scattergeo": [
           {
            "marker": {
             "colorbar": {
              "outlinewidth": 0,
              "ticks": ""
             }
            },
            "type": "scattergeo"
           }
          ],
          "scattergl": [
           {
            "marker": {
             "colorbar": {
              "outlinewidth": 0,
              "ticks": ""
             }
            },
            "type": "scattergl"
           }
          ],
          "scattermap": [
           {
            "marker": {
             "colorbar": {
              "outlinewidth": 0,
              "ticks": ""
             }
            },
            "type": "scattermap"
           }
          ],
          "scattermapbox": [
           {
            "marker": {
             "colorbar": {
              "outlinewidth": 0,
              "ticks": ""
             }
            },
            "type": "scattermapbox"
           }
          ],
          "scatterpolar": [
           {
            "marker": {
             "colorbar": {
              "outlinewidth": 0,
              "ticks": ""
             }
            },
            "type": "scatterpolar"
           }
          ],
          "scatterpolargl": [
           {
            "marker": {
             "colorbar": {
              "outlinewidth": 0,
              "ticks": ""
             }
            },
            "type": "scatterpolargl"
           }
          ],
          "scatterternary": [
           {
            "marker": {
             "colorbar": {
              "outlinewidth": 0,
              "ticks": ""
             }
            },
            "type": "scatterternary"
           }
          ],
          "surface": [
           {
            "colorbar": {
             "outlinewidth": 0,
             "ticks": ""
            },
            "colorscale": [
             [
              0,
              "#0d0887"
             ],
             [
              0.1111111111111111,
              "#46039f"
             ],
             [
              0.2222222222222222,
              "#7201a8"
             ],
             [
              0.3333333333333333,
              "#9c179e"
             ],
             [
              0.4444444444444444,
              "#bd3786"
             ],
             [
              0.5555555555555556,
              "#d8576b"
             ],
             [
              0.6666666666666666,
              "#ed7953"
             ],
             [
              0.7777777777777778,
              "#fb9f3a"
             ],
             [
              0.8888888888888888,
              "#fdca26"
             ],
             [
              1,
              "#f0f921"
             ]
            ],
            "type": "surface"
           }
          ],
          "table": [
           {
            "cells": {
             "fill": {
              "color": "#EBF0F8"
             },
             "line": {
              "color": "white"
             }
            },
            "header": {
             "fill": {
              "color": "#C8D4E3"
             },
             "line": {
              "color": "white"
             }
            },
            "type": "table"
           }
          ]
         },
         "layout": {
          "annotationdefaults": {
           "arrowcolor": "#2a3f5f",
           "arrowhead": 0,
           "arrowwidth": 1
          },
          "autotypenumbers": "strict",
          "coloraxis": {
           "colorbar": {
            "outlinewidth": 0,
            "ticks": ""
           }
          },
          "colorscale": {
           "diverging": [
            [
             0,
             "#8e0152"
            ],
            [
             0.1,
             "#c51b7d"
            ],
            [
             0.2,
             "#de77ae"
            ],
            [
             0.3,
             "#f1b6da"
            ],
            [
             0.4,
             "#fde0ef"
            ],
            [
             0.5,
             "#f7f7f7"
            ],
            [
             0.6,
             "#e6f5d0"
            ],
            [
             0.7,
             "#b8e186"
            ],
            [
             0.8,
             "#7fbc41"
            ],
            [
             0.9,
             "#4d9221"
            ],
            [
             1,
             "#276419"
            ]
           ],
           "sequential": [
            [
             0,
             "#0d0887"
            ],
            [
             0.1111111111111111,
             "#46039f"
            ],
            [
             0.2222222222222222,
             "#7201a8"
            ],
            [
             0.3333333333333333,
             "#9c179e"
            ],
            [
             0.4444444444444444,
             "#bd3786"
            ],
            [
             0.5555555555555556,
             "#d8576b"
            ],
            [
             0.6666666666666666,
             "#ed7953"
            ],
            [
             0.7777777777777778,
             "#fb9f3a"
            ],
            [
             0.8888888888888888,
             "#fdca26"
            ],
            [
             1,
             "#f0f921"
            ]
           ],
           "sequentialminus": [
            [
             0,
             "#0d0887"
            ],
            [
             0.1111111111111111,
             "#46039f"
            ],
            [
             0.2222222222222222,
             "#7201a8"
            ],
            [
             0.3333333333333333,
             "#9c179e"
            ],
            [
             0.4444444444444444,
             "#bd3786"
            ],
            [
             0.5555555555555556,
             "#d8576b"
            ],
            [
             0.6666666666666666,
             "#ed7953"
            ],
            [
             0.7777777777777778,
             "#fb9f3a"
            ],
            [
             0.8888888888888888,
             "#fdca26"
            ],
            [
             1,
             "#f0f921"
            ]
           ]
          },
          "colorway": [
           "#636efa",
           "#EF553B",
           "#00cc96",
           "#ab63fa",
           "#FFA15A",
           "#19d3f3",
           "#FF6692",
           "#B6E880",
           "#FF97FF",
           "#FECB52"
          ],
          "font": {
           "color": "#2a3f5f"
          },
          "geo": {
           "bgcolor": "white",
           "lakecolor": "white",
           "landcolor": "#E5ECF6",
           "showlakes": true,
           "showland": true,
           "subunitcolor": "white"
          },
          "hoverlabel": {
           "align": "left"
          },
          "hovermode": "closest",
          "mapbox": {
           "style": "light"
          },
          "paper_bgcolor": "white",
          "plot_bgcolor": "#E5ECF6",
          "polar": {
           "angularaxis": {
            "gridcolor": "white",
            "linecolor": "white",
            "ticks": ""
           },
           "bgcolor": "#E5ECF6",
           "radialaxis": {
            "gridcolor": "white",
            "linecolor": "white",
            "ticks": ""
           }
          },
          "scene": {
           "xaxis": {
            "backgroundcolor": "#E5ECF6",
            "gridcolor": "white",
            "gridwidth": 2,
            "linecolor": "white",
            "showbackground": true,
            "ticks": "",
            "zerolinecolor": "white"
           },
           "yaxis": {
            "backgroundcolor": "#E5ECF6",
            "gridcolor": "white",
            "gridwidth": 2,
            "linecolor": "white",
            "showbackground": true,
            "ticks": "",
            "zerolinecolor": "white"
           },
           "zaxis": {
            "backgroundcolor": "#E5ECF6",
            "gridcolor": "white",
            "gridwidth": 2,
            "linecolor": "white",
            "showbackground": true,
            "ticks": "",
            "zerolinecolor": "white"
           }
          },
          "shapedefaults": {
           "line": {
            "color": "#2a3f5f"
           }
          },
          "ternary": {
           "aaxis": {
            "gridcolor": "white",
            "linecolor": "white",
            "ticks": ""
           },
           "baxis": {
            "gridcolor": "white",
            "linecolor": "white",
            "ticks": ""
           },
           "bgcolor": "#E5ECF6",
           "caxis": {
            "gridcolor": "white",
            "linecolor": "white",
            "ticks": ""
           }
          },
          "title": {
           "x": 0.05
          },
          "xaxis": {
           "automargin": true,
           "gridcolor": "white",
           "linecolor": "white",
           "ticks": "",
           "title": {
            "standoff": 15
           },
           "zerolinecolor": "white",
           "zerolinewidth": 2
          },
          "yaxis": {
           "automargin": true,
           "gridcolor": "white",
           "linecolor": "white",
           "ticks": "",
           "title": {
            "standoff": 15
           },
           "zerolinecolor": "white",
           "zerolinewidth": 2
          }
         }
        },
        "xaxis": {
         "anchor": "y",
         "domain": [
          0,
          1
         ],
         "title": {
          "text": "value"
         }
        },
        "yaxis": {
         "anchor": "x",
         "domain": [
          0,
          1
         ],
         "title": {
          "text": "pH"
         }
        }
       }
      },
      "image/png": "[encoded data removed]"
     },
     "metadata": {},
     "output_type": "display_data"
    }
   ],
   "source": [
    "px.bar(acid_pd, x=[\"fixed acidity\", \"volatile acidity\",\t\"citric acid\"], y=\"pH\")"
   ]
  },
  {
   "cell_type": "code",
   "execution_count": null,
   "id": "058414ff-7cd6-4597-9679-06548bd5db8a",
   "metadata": {},
   "outputs": [],
   "source": []
  }
 ],
 "metadata": {
  "kernelspec": {
   "display_name": "TestLibs",
   "language": "python",
   "name": "testlibs"
  },
  "language_info": {
   "codemirror_mode": {
    "name": "ipython",
    "version": 3
   },
   "file_extension": ".py",
   "mimetype": "text/x-python",
   "name": "python",
   "nbconvert_exporter": "python",
   "pygments_lexer": "ipython3",
   "version": "3.13.5"
  }
 },
 "nbformat": 4,
 "nbformat_minor": 5
}
